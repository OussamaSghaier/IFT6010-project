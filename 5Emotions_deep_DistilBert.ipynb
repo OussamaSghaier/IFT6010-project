{
  "nbformat": 4,
  "nbformat_minor": 0,
  "metadata": {
    "accelerator": "GPU",
    "colab": {
      "name": "5Emotions-deep-DistilBert.ipynb",
      "provenance": [],
      "collapsed_sections": [],
      "toc_visible": true
    },
    "kernelspec": {
      "display_name": "Python 3",
      "name": "python3"
    },
    "widgets": {
      "application/vnd.jupyter.widget-state+json": {
        "11007bd9eb804e1b9434621edb4d662e": {
          "model_module": "@jupyter-widgets/controls",
          "model_name": "HBoxModel",
          "state": {
            "_view_name": "HBoxView",
            "_dom_classes": [],
            "_model_name": "HBoxModel",
            "_view_module": "@jupyter-widgets/controls",
            "_model_module_version": "1.5.0",
            "_view_count": null,
            "_view_module_version": "1.5.0",
            "box_style": "",
            "layout": "IPY_MODEL_b30af11513e147ddb203a533be41df5a",
            "_model_module": "@jupyter-widgets/controls",
            "children": [
              "IPY_MODEL_0ee16483ba184a0883ecd3b5a66bdb53",
              "IPY_MODEL_b621f5a397b2448d9f49697d7226edaf"
            ]
          }
        },
        "b30af11513e147ddb203a533be41df5a": {
          "model_module": "@jupyter-widgets/base",
          "model_name": "LayoutModel",
          "state": {
            "_view_name": "LayoutView",
            "grid_template_rows": null,
            "right": null,
            "justify_content": null,
            "_view_module": "@jupyter-widgets/base",
            "overflow": null,
            "_model_module_version": "1.2.0",
            "_view_count": null,
            "flex_flow": null,
            "width": null,
            "min_width": null,
            "border": null,
            "align_items": null,
            "bottom": null,
            "_model_module": "@jupyter-widgets/base",
            "top": null,
            "grid_column": null,
            "overflow_y": null,
            "overflow_x": null,
            "grid_auto_flow": null,
            "grid_area": null,
            "grid_template_columns": null,
            "flex": null,
            "_model_name": "LayoutModel",
            "justify_items": null,
            "grid_row": null,
            "max_height": null,
            "align_content": null,
            "visibility": null,
            "align_self": null,
            "height": null,
            "min_height": null,
            "padding": null,
            "grid_auto_rows": null,
            "grid_gap": null,
            "max_width": null,
            "order": null,
            "_view_module_version": "1.2.0",
            "grid_template_areas": null,
            "object_position": null,
            "object_fit": null,
            "grid_auto_columns": null,
            "margin": null,
            "display": null,
            "left": null
          }
        },
        "0ee16483ba184a0883ecd3b5a66bdb53": {
          "model_module": "@jupyter-widgets/controls",
          "model_name": "FloatProgressModel",
          "state": {
            "_view_name": "ProgressView",
            "style": "IPY_MODEL_ba8cdd94ebe1447fa1ada7985aef5fb7",
            "_dom_classes": [],
            "description": "Dl Completed...: 100%",
            "_model_name": "FloatProgressModel",
            "bar_style": "success",
            "max": 1,
            "_view_module": "@jupyter-widgets/controls",
            "_model_module_version": "1.5.0",
            "value": 1,
            "_view_count": null,
            "_view_module_version": "1.5.0",
            "orientation": "horizontal",
            "min": 0,
            "description_tooltip": null,
            "_model_module": "@jupyter-widgets/controls",
            "layout": "IPY_MODEL_32b637e2532a4ff7bf1d2a312f462303"
          }
        },
        "b621f5a397b2448d9f49697d7226edaf": {
          "model_module": "@jupyter-widgets/controls",
          "model_name": "HTMLModel",
          "state": {
            "_view_name": "HTMLView",
            "style": "IPY_MODEL_1cb1a95cb5ac41c68661114cfa0f4eaa",
            "_dom_classes": [],
            "description": "",
            "_model_name": "HTMLModel",
            "placeholder": "​",
            "_view_module": "@jupyter-widgets/controls",
            "_model_module_version": "1.5.0",
            "value": " 3/3 [00:01&lt;00:00,  1.78 url/s]",
            "_view_count": null,
            "_view_module_version": "1.5.0",
            "description_tooltip": null,
            "_model_module": "@jupyter-widgets/controls",
            "layout": "IPY_MODEL_7f23ebcfed09457bb38ef223bdd9caae"
          }
        },
        "ba8cdd94ebe1447fa1ada7985aef5fb7": {
          "model_module": "@jupyter-widgets/controls",
          "model_name": "ProgressStyleModel",
          "state": {
            "_view_name": "StyleView",
            "_model_name": "ProgressStyleModel",
            "description_width": "initial",
            "_view_module": "@jupyter-widgets/base",
            "_model_module_version": "1.5.0",
            "_view_count": null,
            "_view_module_version": "1.2.0",
            "bar_color": null,
            "_model_module": "@jupyter-widgets/controls"
          }
        },
        "32b637e2532a4ff7bf1d2a312f462303": {
          "model_module": "@jupyter-widgets/base",
          "model_name": "LayoutModel",
          "state": {
            "_view_name": "LayoutView",
            "grid_template_rows": null,
            "right": null,
            "justify_content": null,
            "_view_module": "@jupyter-widgets/base",
            "overflow": null,
            "_model_module_version": "1.2.0",
            "_view_count": null,
            "flex_flow": null,
            "width": null,
            "min_width": null,
            "border": null,
            "align_items": null,
            "bottom": null,
            "_model_module": "@jupyter-widgets/base",
            "top": null,
            "grid_column": null,
            "overflow_y": null,
            "overflow_x": null,
            "grid_auto_flow": null,
            "grid_area": null,
            "grid_template_columns": null,
            "flex": null,
            "_model_name": "LayoutModel",
            "justify_items": null,
            "grid_row": null,
            "max_height": null,
            "align_content": null,
            "visibility": null,
            "align_self": null,
            "height": null,
            "min_height": null,
            "padding": null,
            "grid_auto_rows": null,
            "grid_gap": null,
            "max_width": null,
            "order": null,
            "_view_module_version": "1.2.0",
            "grid_template_areas": null,
            "object_position": null,
            "object_fit": null,
            "grid_auto_columns": null,
            "margin": null,
            "display": null,
            "left": null
          }
        },
        "1cb1a95cb5ac41c68661114cfa0f4eaa": {
          "model_module": "@jupyter-widgets/controls",
          "model_name": "DescriptionStyleModel",
          "state": {
            "_view_name": "StyleView",
            "_model_name": "DescriptionStyleModel",
            "description_width": "",
            "_view_module": "@jupyter-widgets/base",
            "_model_module_version": "1.5.0",
            "_view_count": null,
            "_view_module_version": "1.2.0",
            "_model_module": "@jupyter-widgets/controls"
          }
        },
        "7f23ebcfed09457bb38ef223bdd9caae": {
          "model_module": "@jupyter-widgets/base",
          "model_name": "LayoutModel",
          "state": {
            "_view_name": "LayoutView",
            "grid_template_rows": null,
            "right": null,
            "justify_content": null,
            "_view_module": "@jupyter-widgets/base",
            "overflow": null,
            "_model_module_version": "1.2.0",
            "_view_count": null,
            "flex_flow": null,
            "width": null,
            "min_width": null,
            "border": null,
            "align_items": null,
            "bottom": null,
            "_model_module": "@jupyter-widgets/base",
            "top": null,
            "grid_column": null,
            "overflow_y": null,
            "overflow_x": null,
            "grid_auto_flow": null,
            "grid_area": null,
            "grid_template_columns": null,
            "flex": null,
            "_model_name": "LayoutModel",
            "justify_items": null,
            "grid_row": null,
            "max_height": null,
            "align_content": null,
            "visibility": null,
            "align_self": null,
            "height": null,
            "min_height": null,
            "padding": null,
            "grid_auto_rows": null,
            "grid_gap": null,
            "max_width": null,
            "order": null,
            "_view_module_version": "1.2.0",
            "grid_template_areas": null,
            "object_position": null,
            "object_fit": null,
            "grid_auto_columns": null,
            "margin": null,
            "display": null,
            "left": null
          }
        },
        "823b262b63144a0f9b9bce5d061208d7": {
          "model_module": "@jupyter-widgets/controls",
          "model_name": "HBoxModel",
          "state": {
            "_view_name": "HBoxView",
            "_dom_classes": [],
            "_model_name": "HBoxModel",
            "_view_module": "@jupyter-widgets/controls",
            "_model_module_version": "1.5.0",
            "_view_count": null,
            "_view_module_version": "1.5.0",
            "box_style": "",
            "layout": "IPY_MODEL_3f09817139be4804a7450c7c8a5dd7b8",
            "_model_module": "@jupyter-widgets/controls",
            "children": [
              "IPY_MODEL_e863a453557542aba8c7ae8cec82d042",
              "IPY_MODEL_44b9aed109304c5996360fafa048b634"
            ]
          }
        },
        "3f09817139be4804a7450c7c8a5dd7b8": {
          "model_module": "@jupyter-widgets/base",
          "model_name": "LayoutModel",
          "state": {
            "_view_name": "LayoutView",
            "grid_template_rows": null,
            "right": null,
            "justify_content": null,
            "_view_module": "@jupyter-widgets/base",
            "overflow": null,
            "_model_module_version": "1.2.0",
            "_view_count": null,
            "flex_flow": null,
            "width": null,
            "min_width": null,
            "border": null,
            "align_items": null,
            "bottom": null,
            "_model_module": "@jupyter-widgets/base",
            "top": null,
            "grid_column": null,
            "overflow_y": null,
            "overflow_x": null,
            "grid_auto_flow": null,
            "grid_area": null,
            "grid_template_columns": null,
            "flex": null,
            "_model_name": "LayoutModel",
            "justify_items": null,
            "grid_row": null,
            "max_height": null,
            "align_content": null,
            "visibility": null,
            "align_self": null,
            "height": null,
            "min_height": null,
            "padding": null,
            "grid_auto_rows": null,
            "grid_gap": null,
            "max_width": null,
            "order": null,
            "_view_module_version": "1.2.0",
            "grid_template_areas": null,
            "object_position": null,
            "object_fit": null,
            "grid_auto_columns": null,
            "margin": null,
            "display": null,
            "left": null
          }
        },
        "e863a453557542aba8c7ae8cec82d042": {
          "model_module": "@jupyter-widgets/controls",
          "model_name": "FloatProgressModel",
          "state": {
            "_view_name": "ProgressView",
            "style": "IPY_MODEL_3b58fcd15f9247f88723e53943c22db5",
            "_dom_classes": [],
            "description": "Dl Size...: ",
            "_model_name": "FloatProgressModel",
            "bar_style": "success",
            "max": 1,
            "_view_module": "@jupyter-widgets/controls",
            "_model_module_version": "1.5.0",
            "value": 1,
            "_view_count": null,
            "_view_module_version": "1.5.0",
            "orientation": "horizontal",
            "min": 0,
            "description_tooltip": null,
            "_model_module": "@jupyter-widgets/controls",
            "layout": "IPY_MODEL_29c1c9b2f95a40bfbd1354f780f0add5"
          }
        },
        "44b9aed109304c5996360fafa048b634": {
          "model_module": "@jupyter-widgets/controls",
          "model_name": "HTMLModel",
          "state": {
            "_view_name": "HTMLView",
            "style": "IPY_MODEL_c040cada1ac44c2b8634dbaf0cc607f9",
            "_dom_classes": [],
            "description": "",
            "_model_name": "HTMLModel",
            "placeholder": "​",
            "_view_module": "@jupyter-widgets/controls",
            "_model_module_version": "1.5.0",
            "value": " 3/? [00:01&lt;00:00,  1.82 MiB/s]",
            "_view_count": null,
            "_view_module_version": "1.5.0",
            "description_tooltip": null,
            "_model_module": "@jupyter-widgets/controls",
            "layout": "IPY_MODEL_a8d9840c88dc4c8aa47f89a2449e7e1d"
          }
        },
        "3b58fcd15f9247f88723e53943c22db5": {
          "model_module": "@jupyter-widgets/controls",
          "model_name": "ProgressStyleModel",
          "state": {
            "_view_name": "StyleView",
            "_model_name": "ProgressStyleModel",
            "description_width": "initial",
            "_view_module": "@jupyter-widgets/base",
            "_model_module_version": "1.5.0",
            "_view_count": null,
            "_view_module_version": "1.2.0",
            "bar_color": null,
            "_model_module": "@jupyter-widgets/controls"
          }
        },
        "29c1c9b2f95a40bfbd1354f780f0add5": {
          "model_module": "@jupyter-widgets/base",
          "model_name": "LayoutModel",
          "state": {
            "_view_name": "LayoutView",
            "grid_template_rows": null,
            "right": null,
            "justify_content": null,
            "_view_module": "@jupyter-widgets/base",
            "overflow": null,
            "_model_module_version": "1.2.0",
            "_view_count": null,
            "flex_flow": null,
            "width": null,
            "min_width": null,
            "border": null,
            "align_items": null,
            "bottom": null,
            "_model_module": "@jupyter-widgets/base",
            "top": null,
            "grid_column": null,
            "overflow_y": null,
            "overflow_x": null,
            "grid_auto_flow": null,
            "grid_area": null,
            "grid_template_columns": null,
            "flex": null,
            "_model_name": "LayoutModel",
            "justify_items": null,
            "grid_row": null,
            "max_height": null,
            "align_content": null,
            "visibility": null,
            "align_self": null,
            "height": null,
            "min_height": null,
            "padding": null,
            "grid_auto_rows": null,
            "grid_gap": null,
            "max_width": null,
            "order": null,
            "_view_module_version": "1.2.0",
            "grid_template_areas": null,
            "object_position": null,
            "object_fit": null,
            "grid_auto_columns": null,
            "margin": null,
            "display": null,
            "left": null
          }
        },
        "c040cada1ac44c2b8634dbaf0cc607f9": {
          "model_module": "@jupyter-widgets/controls",
          "model_name": "DescriptionStyleModel",
          "state": {
            "_view_name": "StyleView",
            "_model_name": "DescriptionStyleModel",
            "description_width": "",
            "_view_module": "@jupyter-widgets/base",
            "_model_module_version": "1.5.0",
            "_view_count": null,
            "_view_module_version": "1.2.0",
            "_model_module": "@jupyter-widgets/controls"
          }
        },
        "a8d9840c88dc4c8aa47f89a2449e7e1d": {
          "model_module": "@jupyter-widgets/base",
          "model_name": "LayoutModel",
          "state": {
            "_view_name": "LayoutView",
            "grid_template_rows": null,
            "right": null,
            "justify_content": null,
            "_view_module": "@jupyter-widgets/base",
            "overflow": null,
            "_model_module_version": "1.2.0",
            "_view_count": null,
            "flex_flow": null,
            "width": null,
            "min_width": null,
            "border": null,
            "align_items": null,
            "bottom": null,
            "_model_module": "@jupyter-widgets/base",
            "top": null,
            "grid_column": null,
            "overflow_y": null,
            "overflow_x": null,
            "grid_auto_flow": null,
            "grid_area": null,
            "grid_template_columns": null,
            "flex": null,
            "_model_name": "LayoutModel",
            "justify_items": null,
            "grid_row": null,
            "max_height": null,
            "align_content": null,
            "visibility": null,
            "align_self": null,
            "height": null,
            "min_height": null,
            "padding": null,
            "grid_auto_rows": null,
            "grid_gap": null,
            "max_width": null,
            "order": null,
            "_view_module_version": "1.2.0",
            "grid_template_areas": null,
            "object_position": null,
            "object_fit": null,
            "grid_auto_columns": null,
            "margin": null,
            "display": null,
            "left": null
          }
        },
        "2e41666de0cb41559b7307aab5657d8b": {
          "model_module": "@jupyter-widgets/controls",
          "model_name": "HBoxModel",
          "state": {
            "_view_name": "HBoxView",
            "_dom_classes": [],
            "_model_name": "HBoxModel",
            "_view_module": "@jupyter-widgets/controls",
            "_model_module_version": "1.5.0",
            "_view_count": null,
            "_view_module_version": "1.5.0",
            "box_style": "",
            "layout": "IPY_MODEL_bf4f26e6e47749d0a0da197bfd87d767",
            "_model_module": "@jupyter-widgets/controls",
            "children": [
              "IPY_MODEL_d7da8f7da857435faec7ee2e427d84cc",
              "IPY_MODEL_f86da04df2ae454fb7c3913c39fea70b"
            ]
          }
        },
        "bf4f26e6e47749d0a0da197bfd87d767": {
          "model_module": "@jupyter-widgets/base",
          "model_name": "LayoutModel",
          "state": {
            "_view_name": "LayoutView",
            "grid_template_rows": null,
            "right": null,
            "justify_content": null,
            "_view_module": "@jupyter-widgets/base",
            "overflow": null,
            "_model_module_version": "1.2.0",
            "_view_count": null,
            "flex_flow": null,
            "width": null,
            "min_width": null,
            "border": null,
            "align_items": null,
            "bottom": null,
            "_model_module": "@jupyter-widgets/base",
            "top": null,
            "grid_column": null,
            "overflow_y": null,
            "overflow_x": null,
            "grid_auto_flow": null,
            "grid_area": null,
            "grid_template_columns": null,
            "flex": null,
            "_model_name": "LayoutModel",
            "justify_items": null,
            "grid_row": null,
            "max_height": null,
            "align_content": null,
            "visibility": null,
            "align_self": null,
            "height": null,
            "min_height": null,
            "padding": null,
            "grid_auto_rows": null,
            "grid_gap": null,
            "max_width": null,
            "order": null,
            "_view_module_version": "1.2.0",
            "grid_template_areas": null,
            "object_position": null,
            "object_fit": null,
            "grid_auto_columns": null,
            "margin": null,
            "display": null,
            "left": null
          }
        },
        "d7da8f7da857435faec7ee2e427d84cc": {
          "model_module": "@jupyter-widgets/controls",
          "model_name": "FloatProgressModel",
          "state": {
            "_view_name": "ProgressView",
            "style": "IPY_MODEL_6d6a3f3cfc7f4b839958d50624432a76",
            "_dom_classes": [],
            "description": "",
            "_model_name": "FloatProgressModel",
            "bar_style": "info",
            "max": 1,
            "_view_module": "@jupyter-widgets/controls",
            "_model_module_version": "1.5.0",
            "value": 1,
            "_view_count": null,
            "_view_module_version": "1.5.0",
            "orientation": "horizontal",
            "min": 0,
            "description_tooltip": null,
            "_model_module": "@jupyter-widgets/controls",
            "layout": "IPY_MODEL_1528f63ff552482fac6d6d06369610ff"
          }
        },
        "f86da04df2ae454fb7c3913c39fea70b": {
          "model_module": "@jupyter-widgets/controls",
          "model_name": "HTMLModel",
          "state": {
            "_view_name": "HTMLView",
            "style": "IPY_MODEL_25e4b8577c294c0a80c99b2352375dd9",
            "_dom_classes": [],
            "description": "",
            "_model_name": "HTMLModel",
            "placeholder": "​",
            "_view_module": "@jupyter-widgets/controls",
            "_model_module_version": "1.5.0",
            "value": " 43410/0 [01:55&lt;00:00, 379.80 examples/s]",
            "_view_count": null,
            "_view_module_version": "1.5.0",
            "description_tooltip": null,
            "_model_module": "@jupyter-widgets/controls",
            "layout": "IPY_MODEL_7eb1d6f490904d9d8509c956729124d4"
          }
        },
        "6d6a3f3cfc7f4b839958d50624432a76": {
          "model_module": "@jupyter-widgets/controls",
          "model_name": "ProgressStyleModel",
          "state": {
            "_view_name": "StyleView",
            "_model_name": "ProgressStyleModel",
            "description_width": "initial",
            "_view_module": "@jupyter-widgets/base",
            "_model_module_version": "1.5.0",
            "_view_count": null,
            "_view_module_version": "1.2.0",
            "bar_color": null,
            "_model_module": "@jupyter-widgets/controls"
          }
        },
        "1528f63ff552482fac6d6d06369610ff": {
          "model_module": "@jupyter-widgets/base",
          "model_name": "LayoutModel",
          "state": {
            "_view_name": "LayoutView",
            "grid_template_rows": null,
            "right": null,
            "justify_content": null,
            "_view_module": "@jupyter-widgets/base",
            "overflow": null,
            "_model_module_version": "1.2.0",
            "_view_count": null,
            "flex_flow": null,
            "width": null,
            "min_width": null,
            "border": null,
            "align_items": null,
            "bottom": null,
            "_model_module": "@jupyter-widgets/base",
            "top": null,
            "grid_column": null,
            "overflow_y": null,
            "overflow_x": null,
            "grid_auto_flow": null,
            "grid_area": null,
            "grid_template_columns": null,
            "flex": null,
            "_model_name": "LayoutModel",
            "justify_items": null,
            "grid_row": null,
            "max_height": null,
            "align_content": null,
            "visibility": null,
            "align_self": null,
            "height": null,
            "min_height": null,
            "padding": null,
            "grid_auto_rows": null,
            "grid_gap": null,
            "max_width": null,
            "order": null,
            "_view_module_version": "1.2.0",
            "grid_template_areas": null,
            "object_position": null,
            "object_fit": null,
            "grid_auto_columns": null,
            "margin": null,
            "display": null,
            "left": null
          }
        },
        "25e4b8577c294c0a80c99b2352375dd9": {
          "model_module": "@jupyter-widgets/controls",
          "model_name": "DescriptionStyleModel",
          "state": {
            "_view_name": "StyleView",
            "_model_name": "DescriptionStyleModel",
            "description_width": "",
            "_view_module": "@jupyter-widgets/base",
            "_model_module_version": "1.5.0",
            "_view_count": null,
            "_view_module_version": "1.2.0",
            "_model_module": "@jupyter-widgets/controls"
          }
        },
        "7eb1d6f490904d9d8509c956729124d4": {
          "model_module": "@jupyter-widgets/base",
          "model_name": "LayoutModel",
          "state": {
            "_view_name": "LayoutView",
            "grid_template_rows": null,
            "right": null,
            "justify_content": null,
            "_view_module": "@jupyter-widgets/base",
            "overflow": null,
            "_model_module_version": "1.2.0",
            "_view_count": null,
            "flex_flow": null,
            "width": null,
            "min_width": null,
            "border": null,
            "align_items": null,
            "bottom": null,
            "_model_module": "@jupyter-widgets/base",
            "top": null,
            "grid_column": null,
            "overflow_y": null,
            "overflow_x": null,
            "grid_auto_flow": null,
            "grid_area": null,
            "grid_template_columns": null,
            "flex": null,
            "_model_name": "LayoutModel",
            "justify_items": null,
            "grid_row": null,
            "max_height": null,
            "align_content": null,
            "visibility": null,
            "align_self": null,
            "height": null,
            "min_height": null,
            "padding": null,
            "grid_auto_rows": null,
            "grid_gap": null,
            "max_width": null,
            "order": null,
            "_view_module_version": "1.2.0",
            "grid_template_areas": null,
            "object_position": null,
            "object_fit": null,
            "grid_auto_columns": null,
            "margin": null,
            "display": null,
            "left": null
          }
        },
        "009c81ef573a429a9d2d9677e32d48fb": {
          "model_module": "@jupyter-widgets/controls",
          "model_name": "HBoxModel",
          "state": {
            "_view_name": "HBoxView",
            "_dom_classes": [],
            "_model_name": "HBoxModel",
            "_view_module": "@jupyter-widgets/controls",
            "_model_module_version": "1.5.0",
            "_view_count": null,
            "_view_module_version": "1.5.0",
            "box_style": "",
            "layout": "IPY_MODEL_49e1937b49764b0ab163f45a18668974",
            "_model_module": "@jupyter-widgets/controls",
            "children": [
              "IPY_MODEL_5623fac6f2214b5fbdd3223c80dec5af",
              "IPY_MODEL_6700139ef5a4467ca092a6766b8eb69c"
            ]
          }
        },
        "49e1937b49764b0ab163f45a18668974": {
          "model_module": "@jupyter-widgets/base",
          "model_name": "LayoutModel",
          "state": {
            "_view_name": "LayoutView",
            "grid_template_rows": null,
            "right": null,
            "justify_content": null,
            "_view_module": "@jupyter-widgets/base",
            "overflow": null,
            "_model_module_version": "1.2.0",
            "_view_count": null,
            "flex_flow": null,
            "width": null,
            "min_width": null,
            "border": null,
            "align_items": null,
            "bottom": null,
            "_model_module": "@jupyter-widgets/base",
            "top": null,
            "grid_column": null,
            "overflow_y": null,
            "overflow_x": null,
            "grid_auto_flow": null,
            "grid_area": null,
            "grid_template_columns": null,
            "flex": null,
            "_model_name": "LayoutModel",
            "justify_items": null,
            "grid_row": null,
            "max_height": null,
            "align_content": null,
            "visibility": null,
            "align_self": null,
            "height": null,
            "min_height": null,
            "padding": null,
            "grid_auto_rows": null,
            "grid_gap": null,
            "max_width": null,
            "order": null,
            "_view_module_version": "1.2.0",
            "grid_template_areas": null,
            "object_position": null,
            "object_fit": null,
            "grid_auto_columns": null,
            "margin": null,
            "display": null,
            "left": null
          }
        },
        "5623fac6f2214b5fbdd3223c80dec5af": {
          "model_module": "@jupyter-widgets/controls",
          "model_name": "FloatProgressModel",
          "state": {
            "_view_name": "ProgressView",
            "style": "IPY_MODEL_7a8bcdf3fdbc4fcdafe051d25dc3e707",
            "_dom_classes": [],
            "description": " 58%",
            "_model_name": "FloatProgressModel",
            "bar_style": "danger",
            "max": 43410,
            "_view_module": "@jupyter-widgets/controls",
            "_model_module_version": "1.5.0",
            "value": 25349,
            "_view_count": null,
            "_view_module_version": "1.5.0",
            "orientation": "horizontal",
            "min": 0,
            "description_tooltip": null,
            "_model_module": "@jupyter-widgets/controls",
            "layout": "IPY_MODEL_9d79b11cc5e84fb7a6209eb524c6b027"
          }
        },
        "6700139ef5a4467ca092a6766b8eb69c": {
          "model_module": "@jupyter-widgets/controls",
          "model_name": "HTMLModel",
          "state": {
            "_view_name": "HTMLView",
            "style": "IPY_MODEL_3c1e20c2979f49f7afe0effb13cac68c",
            "_dom_classes": [],
            "description": "",
            "_model_name": "HTMLModel",
            "placeholder": "​",
            "_view_module": "@jupyter-widgets/controls",
            "_model_module_version": "1.5.0",
            "value": " 25349/43410 [00:20&lt;16:02, 18.77 examples/s]",
            "_view_count": null,
            "_view_module_version": "1.5.0",
            "description_tooltip": null,
            "_model_module": "@jupyter-widgets/controls",
            "layout": "IPY_MODEL_83d02dc6d735436980934de41473212e"
          }
        },
        "7a8bcdf3fdbc4fcdafe051d25dc3e707": {
          "model_module": "@jupyter-widgets/controls",
          "model_name": "ProgressStyleModel",
          "state": {
            "_view_name": "StyleView",
            "_model_name": "ProgressStyleModel",
            "description_width": "initial",
            "_view_module": "@jupyter-widgets/base",
            "_model_module_version": "1.5.0",
            "_view_count": null,
            "_view_module_version": "1.2.0",
            "bar_color": null,
            "_model_module": "@jupyter-widgets/controls"
          }
        },
        "9d79b11cc5e84fb7a6209eb524c6b027": {
          "model_module": "@jupyter-widgets/base",
          "model_name": "LayoutModel",
          "state": {
            "_view_name": "LayoutView",
            "grid_template_rows": null,
            "right": null,
            "justify_content": null,
            "_view_module": "@jupyter-widgets/base",
            "overflow": null,
            "_model_module_version": "1.2.0",
            "_view_count": null,
            "flex_flow": null,
            "width": null,
            "min_width": null,
            "border": null,
            "align_items": null,
            "bottom": null,
            "_model_module": "@jupyter-widgets/base",
            "top": null,
            "grid_column": null,
            "overflow_y": null,
            "overflow_x": null,
            "grid_auto_flow": null,
            "grid_area": null,
            "grid_template_columns": null,
            "flex": null,
            "_model_name": "LayoutModel",
            "justify_items": null,
            "grid_row": null,
            "max_height": null,
            "align_content": null,
            "visibility": null,
            "align_self": null,
            "height": null,
            "min_height": null,
            "padding": null,
            "grid_auto_rows": null,
            "grid_gap": null,
            "max_width": null,
            "order": null,
            "_view_module_version": "1.2.0",
            "grid_template_areas": null,
            "object_position": null,
            "object_fit": null,
            "grid_auto_columns": null,
            "margin": null,
            "display": null,
            "left": null
          }
        },
        "3c1e20c2979f49f7afe0effb13cac68c": {
          "model_module": "@jupyter-widgets/controls",
          "model_name": "DescriptionStyleModel",
          "state": {
            "_view_name": "StyleView",
            "_model_name": "DescriptionStyleModel",
            "description_width": "",
            "_view_module": "@jupyter-widgets/base",
            "_model_module_version": "1.5.0",
            "_view_count": null,
            "_view_module_version": "1.2.0",
            "_model_module": "@jupyter-widgets/controls"
          }
        },
        "83d02dc6d735436980934de41473212e": {
          "model_module": "@jupyter-widgets/base",
          "model_name": "LayoutModel",
          "state": {
            "_view_name": "LayoutView",
            "grid_template_rows": null,
            "right": null,
            "justify_content": null,
            "_view_module": "@jupyter-widgets/base",
            "overflow": null,
            "_model_module_version": "1.2.0",
            "_view_count": null,
            "flex_flow": null,
            "width": null,
            "min_width": null,
            "border": null,
            "align_items": null,
            "bottom": null,
            "_model_module": "@jupyter-widgets/base",
            "top": null,
            "grid_column": null,
            "overflow_y": null,
            "overflow_x": null,
            "grid_auto_flow": null,
            "grid_area": null,
            "grid_template_columns": null,
            "flex": null,
            "_model_name": "LayoutModel",
            "justify_items": null,
            "grid_row": null,
            "max_height": null,
            "align_content": null,
            "visibility": null,
            "align_self": null,
            "height": null,
            "min_height": null,
            "padding": null,
            "grid_auto_rows": null,
            "grid_gap": null,
            "max_width": null,
            "order": null,
            "_view_module_version": "1.2.0",
            "grid_template_areas": null,
            "object_position": null,
            "object_fit": null,
            "grid_auto_columns": null,
            "margin": null,
            "display": null,
            "left": null
          }
        },
        "42d4659facd14239b49e7c30e68157d7": {
          "model_module": "@jupyter-widgets/controls",
          "model_name": "HBoxModel",
          "state": {
            "_view_name": "HBoxView",
            "_dom_classes": [],
            "_model_name": "HBoxModel",
            "_view_module": "@jupyter-widgets/controls",
            "_model_module_version": "1.5.0",
            "_view_count": null,
            "_view_module_version": "1.5.0",
            "box_style": "",
            "layout": "IPY_MODEL_26bdeee6e25e41a39746a5d05fab1f48",
            "_model_module": "@jupyter-widgets/controls",
            "children": [
              "IPY_MODEL_b521993e31cc460f9f99842e21d4355c",
              "IPY_MODEL_3a4e224829d44c0ba8398e7eefbf8894"
            ]
          }
        },
        "26bdeee6e25e41a39746a5d05fab1f48": {
          "model_module": "@jupyter-widgets/base",
          "model_name": "LayoutModel",
          "state": {
            "_view_name": "LayoutView",
            "grid_template_rows": null,
            "right": null,
            "justify_content": null,
            "_view_module": "@jupyter-widgets/base",
            "overflow": null,
            "_model_module_version": "1.2.0",
            "_view_count": null,
            "flex_flow": null,
            "width": null,
            "min_width": null,
            "border": null,
            "align_items": null,
            "bottom": null,
            "_model_module": "@jupyter-widgets/base",
            "top": null,
            "grid_column": null,
            "overflow_y": null,
            "overflow_x": null,
            "grid_auto_flow": null,
            "grid_area": null,
            "grid_template_columns": null,
            "flex": null,
            "_model_name": "LayoutModel",
            "justify_items": null,
            "grid_row": null,
            "max_height": null,
            "align_content": null,
            "visibility": null,
            "align_self": null,
            "height": null,
            "min_height": null,
            "padding": null,
            "grid_auto_rows": null,
            "grid_gap": null,
            "max_width": null,
            "order": null,
            "_view_module_version": "1.2.0",
            "grid_template_areas": null,
            "object_position": null,
            "object_fit": null,
            "grid_auto_columns": null,
            "margin": null,
            "display": null,
            "left": null
          }
        },
        "b521993e31cc460f9f99842e21d4355c": {
          "model_module": "@jupyter-widgets/controls",
          "model_name": "FloatProgressModel",
          "state": {
            "_view_name": "ProgressView",
            "style": "IPY_MODEL_d6ea135e020c4163a6d3e42fded019f3",
            "_dom_classes": [],
            "description": "",
            "_model_name": "FloatProgressModel",
            "bar_style": "info",
            "max": 1,
            "_view_module": "@jupyter-widgets/controls",
            "_model_module_version": "1.5.0",
            "value": 1,
            "_view_count": null,
            "_view_module_version": "1.5.0",
            "orientation": "horizontal",
            "min": 0,
            "description_tooltip": null,
            "_model_module": "@jupyter-widgets/controls",
            "layout": "IPY_MODEL_30e3ad43335a4b4b8328a5d044c14d0d"
          }
        },
        "3a4e224829d44c0ba8398e7eefbf8894": {
          "model_module": "@jupyter-widgets/controls",
          "model_name": "HTMLModel",
          "state": {
            "_view_name": "HTMLView",
            "style": "IPY_MODEL_d326f6e9623545d1829a187b7ec3b9c3",
            "_dom_classes": [],
            "description": "",
            "_model_name": "HTMLModel",
            "placeholder": "​",
            "_view_module": "@jupyter-widgets/controls",
            "_model_module_version": "1.5.0",
            "value": " 5426/0 [00:14&lt;00:00, 352.22 examples/s]",
            "_view_count": null,
            "_view_module_version": "1.5.0",
            "description_tooltip": null,
            "_model_module": "@jupyter-widgets/controls",
            "layout": "IPY_MODEL_79d98b60c46a4727b7997ec85bf78906"
          }
        },
        "d6ea135e020c4163a6d3e42fded019f3": {
          "model_module": "@jupyter-widgets/controls",
          "model_name": "ProgressStyleModel",
          "state": {
            "_view_name": "StyleView",
            "_model_name": "ProgressStyleModel",
            "description_width": "initial",
            "_view_module": "@jupyter-widgets/base",
            "_model_module_version": "1.5.0",
            "_view_count": null,
            "_view_module_version": "1.2.0",
            "bar_color": null,
            "_model_module": "@jupyter-widgets/controls"
          }
        },
        "30e3ad43335a4b4b8328a5d044c14d0d": {
          "model_module": "@jupyter-widgets/base",
          "model_name": "LayoutModel",
          "state": {
            "_view_name": "LayoutView",
            "grid_template_rows": null,
            "right": null,
            "justify_content": null,
            "_view_module": "@jupyter-widgets/base",
            "overflow": null,
            "_model_module_version": "1.2.0",
            "_view_count": null,
            "flex_flow": null,
            "width": null,
            "min_width": null,
            "border": null,
            "align_items": null,
            "bottom": null,
            "_model_module": "@jupyter-widgets/base",
            "top": null,
            "grid_column": null,
            "overflow_y": null,
            "overflow_x": null,
            "grid_auto_flow": null,
            "grid_area": null,
            "grid_template_columns": null,
            "flex": null,
            "_model_name": "LayoutModel",
            "justify_items": null,
            "grid_row": null,
            "max_height": null,
            "align_content": null,
            "visibility": null,
            "align_self": null,
            "height": null,
            "min_height": null,
            "padding": null,
            "grid_auto_rows": null,
            "grid_gap": null,
            "max_width": null,
            "order": null,
            "_view_module_version": "1.2.0",
            "grid_template_areas": null,
            "object_position": null,
            "object_fit": null,
            "grid_auto_columns": null,
            "margin": null,
            "display": null,
            "left": null
          }
        },
        "d326f6e9623545d1829a187b7ec3b9c3": {
          "model_module": "@jupyter-widgets/controls",
          "model_name": "DescriptionStyleModel",
          "state": {
            "_view_name": "StyleView",
            "_model_name": "DescriptionStyleModel",
            "description_width": "",
            "_view_module": "@jupyter-widgets/base",
            "_model_module_version": "1.5.0",
            "_view_count": null,
            "_view_module_version": "1.2.0",
            "_model_module": "@jupyter-widgets/controls"
          }
        },
        "79d98b60c46a4727b7997ec85bf78906": {
          "model_module": "@jupyter-widgets/base",
          "model_name": "LayoutModel",
          "state": {
            "_view_name": "LayoutView",
            "grid_template_rows": null,
            "right": null,
            "justify_content": null,
            "_view_module": "@jupyter-widgets/base",
            "overflow": null,
            "_model_module_version": "1.2.0",
            "_view_count": null,
            "flex_flow": null,
            "width": null,
            "min_width": null,
            "border": null,
            "align_items": null,
            "bottom": null,
            "_model_module": "@jupyter-widgets/base",
            "top": null,
            "grid_column": null,
            "overflow_y": null,
            "overflow_x": null,
            "grid_auto_flow": null,
            "grid_area": null,
            "grid_template_columns": null,
            "flex": null,
            "_model_name": "LayoutModel",
            "justify_items": null,
            "grid_row": null,
            "max_height": null,
            "align_content": null,
            "visibility": null,
            "align_self": null,
            "height": null,
            "min_height": null,
            "padding": null,
            "grid_auto_rows": null,
            "grid_gap": null,
            "max_width": null,
            "order": null,
            "_view_module_version": "1.2.0",
            "grid_template_areas": null,
            "object_position": null,
            "object_fit": null,
            "grid_auto_columns": null,
            "margin": null,
            "display": null,
            "left": null
          }
        },
        "67fb3c3f30c749db94cfbf16d6d154cd": {
          "model_module": "@jupyter-widgets/controls",
          "model_name": "HBoxModel",
          "state": {
            "_view_name": "HBoxView",
            "_dom_classes": [],
            "_model_name": "HBoxModel",
            "_view_module": "@jupyter-widgets/controls",
            "_model_module_version": "1.5.0",
            "_view_count": null,
            "_view_module_version": "1.5.0",
            "box_style": "",
            "layout": "IPY_MODEL_32988647f4fd4b3d81c0f42699998fe8",
            "_model_module": "@jupyter-widgets/controls",
            "children": [
              "IPY_MODEL_3da10397b79f49efa1c359855a64d320",
              "IPY_MODEL_d93f0c0fdab245888d4a5f568c9fe756"
            ]
          }
        },
        "32988647f4fd4b3d81c0f42699998fe8": {
          "model_module": "@jupyter-widgets/base",
          "model_name": "LayoutModel",
          "state": {
            "_view_name": "LayoutView",
            "grid_template_rows": null,
            "right": null,
            "justify_content": null,
            "_view_module": "@jupyter-widgets/base",
            "overflow": null,
            "_model_module_version": "1.2.0",
            "_view_count": null,
            "flex_flow": null,
            "width": null,
            "min_width": null,
            "border": null,
            "align_items": null,
            "bottom": null,
            "_model_module": "@jupyter-widgets/base",
            "top": null,
            "grid_column": null,
            "overflow_y": null,
            "overflow_x": null,
            "grid_auto_flow": null,
            "grid_area": null,
            "grid_template_columns": null,
            "flex": null,
            "_model_name": "LayoutModel",
            "justify_items": null,
            "grid_row": null,
            "max_height": null,
            "align_content": null,
            "visibility": null,
            "align_self": null,
            "height": null,
            "min_height": null,
            "padding": null,
            "grid_auto_rows": null,
            "grid_gap": null,
            "max_width": null,
            "order": null,
            "_view_module_version": "1.2.0",
            "grid_template_areas": null,
            "object_position": null,
            "object_fit": null,
            "grid_auto_columns": null,
            "margin": null,
            "display": null,
            "left": null
          }
        },
        "3da10397b79f49efa1c359855a64d320": {
          "model_module": "@jupyter-widgets/controls",
          "model_name": "FloatProgressModel",
          "state": {
            "_view_name": "ProgressView",
            "style": "IPY_MODEL_213c64bf7a884bc5b738ef43a13739bc",
            "_dom_classes": [],
            "description": "  0%",
            "_model_name": "FloatProgressModel",
            "bar_style": "danger",
            "max": 5426,
            "_view_module": "@jupyter-widgets/controls",
            "_model_module_version": "1.5.0",
            "value": 0,
            "_view_count": null,
            "_view_module_version": "1.5.0",
            "orientation": "horizontal",
            "min": 0,
            "description_tooltip": null,
            "_model_module": "@jupyter-widgets/controls",
            "layout": "IPY_MODEL_f72aeb1fc56f4eb1ad616a6093de4a49"
          }
        },
        "d93f0c0fdab245888d4a5f568c9fe756": {
          "model_module": "@jupyter-widgets/controls",
          "model_name": "HTMLModel",
          "state": {
            "_view_name": "HTMLView",
            "style": "IPY_MODEL_821ac9e5bfbb43c1bab9f37adcfb8138",
            "_dom_classes": [],
            "description": "",
            "_model_name": "HTMLModel",
            "placeholder": "​",
            "_view_module": "@jupyter-widgets/controls",
            "_model_module_version": "1.5.0",
            "value": " 0/5426 [00:00&lt;?, ? examples/s]",
            "_view_count": null,
            "_view_module_version": "1.5.0",
            "description_tooltip": null,
            "_model_module": "@jupyter-widgets/controls",
            "layout": "IPY_MODEL_7dbd1f35f5314a2a8ba495c58dde2237"
          }
        },
        "213c64bf7a884bc5b738ef43a13739bc": {
          "model_module": "@jupyter-widgets/controls",
          "model_name": "ProgressStyleModel",
          "state": {
            "_view_name": "StyleView",
            "_model_name": "ProgressStyleModel",
            "description_width": "initial",
            "_view_module": "@jupyter-widgets/base",
            "_model_module_version": "1.5.0",
            "_view_count": null,
            "_view_module_version": "1.2.0",
            "bar_color": null,
            "_model_module": "@jupyter-widgets/controls"
          }
        },
        "f72aeb1fc56f4eb1ad616a6093de4a49": {
          "model_module": "@jupyter-widgets/base",
          "model_name": "LayoutModel",
          "state": {
            "_view_name": "LayoutView",
            "grid_template_rows": null,
            "right": null,
            "justify_content": null,
            "_view_module": "@jupyter-widgets/base",
            "overflow": null,
            "_model_module_version": "1.2.0",
            "_view_count": null,
            "flex_flow": null,
            "width": null,
            "min_width": null,
            "border": null,
            "align_items": null,
            "bottom": null,
            "_model_module": "@jupyter-widgets/base",
            "top": null,
            "grid_column": null,
            "overflow_y": null,
            "overflow_x": null,
            "grid_auto_flow": null,
            "grid_area": null,
            "grid_template_columns": null,
            "flex": null,
            "_model_name": "LayoutModel",
            "justify_items": null,
            "grid_row": null,
            "max_height": null,
            "align_content": null,
            "visibility": null,
            "align_self": null,
            "height": null,
            "min_height": null,
            "padding": null,
            "grid_auto_rows": null,
            "grid_gap": null,
            "max_width": null,
            "order": null,
            "_view_module_version": "1.2.0",
            "grid_template_areas": null,
            "object_position": null,
            "object_fit": null,
            "grid_auto_columns": null,
            "margin": null,
            "display": null,
            "left": null
          }
        },
        "821ac9e5bfbb43c1bab9f37adcfb8138": {
          "model_module": "@jupyter-widgets/controls",
          "model_name": "DescriptionStyleModel",
          "state": {
            "_view_name": "StyleView",
            "_model_name": "DescriptionStyleModel",
            "description_width": "",
            "_view_module": "@jupyter-widgets/base",
            "_model_module_version": "1.5.0",
            "_view_count": null,
            "_view_module_version": "1.2.0",
            "_model_module": "@jupyter-widgets/controls"
          }
        },
        "7dbd1f35f5314a2a8ba495c58dde2237": {
          "model_module": "@jupyter-widgets/base",
          "model_name": "LayoutModel",
          "state": {
            "_view_name": "LayoutView",
            "grid_template_rows": null,
            "right": null,
            "justify_content": null,
            "_view_module": "@jupyter-widgets/base",
            "overflow": null,
            "_model_module_version": "1.2.0",
            "_view_count": null,
            "flex_flow": null,
            "width": null,
            "min_width": null,
            "border": null,
            "align_items": null,
            "bottom": null,
            "_model_module": "@jupyter-widgets/base",
            "top": null,
            "grid_column": null,
            "overflow_y": null,
            "overflow_x": null,
            "grid_auto_flow": null,
            "grid_area": null,
            "grid_template_columns": null,
            "flex": null,
            "_model_name": "LayoutModel",
            "justify_items": null,
            "grid_row": null,
            "max_height": null,
            "align_content": null,
            "visibility": null,
            "align_self": null,
            "height": null,
            "min_height": null,
            "padding": null,
            "grid_auto_rows": null,
            "grid_gap": null,
            "max_width": null,
            "order": null,
            "_view_module_version": "1.2.0",
            "grid_template_areas": null,
            "object_position": null,
            "object_fit": null,
            "grid_auto_columns": null,
            "margin": null,
            "display": null,
            "left": null
          }
        },
        "6177566a7be84b0abb801e307a112427": {
          "model_module": "@jupyter-widgets/controls",
          "model_name": "HBoxModel",
          "state": {
            "_view_name": "HBoxView",
            "_dom_classes": [],
            "_model_name": "HBoxModel",
            "_view_module": "@jupyter-widgets/controls",
            "_model_module_version": "1.5.0",
            "_view_count": null,
            "_view_module_version": "1.5.0",
            "box_style": "",
            "layout": "IPY_MODEL_901d2054840f41d4a55e8b826b51938c",
            "_model_module": "@jupyter-widgets/controls",
            "children": [
              "IPY_MODEL_29436aa3568742d3af8b5f8e1497ba40",
              "IPY_MODEL_d74790417a8844418c6396f0bb959373"
            ]
          }
        },
        "901d2054840f41d4a55e8b826b51938c": {
          "model_module": "@jupyter-widgets/base",
          "model_name": "LayoutModel",
          "state": {
            "_view_name": "LayoutView",
            "grid_template_rows": null,
            "right": null,
            "justify_content": null,
            "_view_module": "@jupyter-widgets/base",
            "overflow": null,
            "_model_module_version": "1.2.0",
            "_view_count": null,
            "flex_flow": null,
            "width": null,
            "min_width": null,
            "border": null,
            "align_items": null,
            "bottom": null,
            "_model_module": "@jupyter-widgets/base",
            "top": null,
            "grid_column": null,
            "overflow_y": null,
            "overflow_x": null,
            "grid_auto_flow": null,
            "grid_area": null,
            "grid_template_columns": null,
            "flex": null,
            "_model_name": "LayoutModel",
            "justify_items": null,
            "grid_row": null,
            "max_height": null,
            "align_content": null,
            "visibility": null,
            "align_self": null,
            "height": null,
            "min_height": null,
            "padding": null,
            "grid_auto_rows": null,
            "grid_gap": null,
            "max_width": null,
            "order": null,
            "_view_module_version": "1.2.0",
            "grid_template_areas": null,
            "object_position": null,
            "object_fit": null,
            "grid_auto_columns": null,
            "margin": null,
            "display": null,
            "left": null
          }
        },
        "29436aa3568742d3af8b5f8e1497ba40": {
          "model_module": "@jupyter-widgets/controls",
          "model_name": "FloatProgressModel",
          "state": {
            "_view_name": "ProgressView",
            "style": "IPY_MODEL_a33a0a9eb6484180835668bdf014e367",
            "_dom_classes": [],
            "description": "",
            "_model_name": "FloatProgressModel",
            "bar_style": "info",
            "max": 1,
            "_view_module": "@jupyter-widgets/controls",
            "_model_module_version": "1.5.0",
            "value": 1,
            "_view_count": null,
            "_view_module_version": "1.5.0",
            "orientation": "horizontal",
            "min": 0,
            "description_tooltip": null,
            "_model_module": "@jupyter-widgets/controls",
            "layout": "IPY_MODEL_82b68c754748467c8e5b07e062a04803"
          }
        },
        "d74790417a8844418c6396f0bb959373": {
          "model_module": "@jupyter-widgets/controls",
          "model_name": "HTMLModel",
          "state": {
            "_view_name": "HTMLView",
            "style": "IPY_MODEL_f7b0c61190394b13bf2e49038b50b47b",
            "_dom_classes": [],
            "description": "",
            "_model_name": "HTMLModel",
            "placeholder": "​",
            "_view_module": "@jupyter-widgets/controls",
            "_model_module_version": "1.5.0",
            "value": " 5427/0 [00:14&lt;00:00, 381.27 examples/s]",
            "_view_count": null,
            "_view_module_version": "1.5.0",
            "description_tooltip": null,
            "_model_module": "@jupyter-widgets/controls",
            "layout": "IPY_MODEL_15f48720a13d4a5bae9610adaaa90de0"
          }
        },
        "a33a0a9eb6484180835668bdf014e367": {
          "model_module": "@jupyter-widgets/controls",
          "model_name": "ProgressStyleModel",
          "state": {
            "_view_name": "StyleView",
            "_model_name": "ProgressStyleModel",
            "description_width": "initial",
            "_view_module": "@jupyter-widgets/base",
            "_model_module_version": "1.5.0",
            "_view_count": null,
            "_view_module_version": "1.2.0",
            "bar_color": null,
            "_model_module": "@jupyter-widgets/controls"
          }
        },
        "82b68c754748467c8e5b07e062a04803": {
          "model_module": "@jupyter-widgets/base",
          "model_name": "LayoutModel",
          "state": {
            "_view_name": "LayoutView",
            "grid_template_rows": null,
            "right": null,
            "justify_content": null,
            "_view_module": "@jupyter-widgets/base",
            "overflow": null,
            "_model_module_version": "1.2.0",
            "_view_count": null,
            "flex_flow": null,
            "width": null,
            "min_width": null,
            "border": null,
            "align_items": null,
            "bottom": null,
            "_model_module": "@jupyter-widgets/base",
            "top": null,
            "grid_column": null,
            "overflow_y": null,
            "overflow_x": null,
            "grid_auto_flow": null,
            "grid_area": null,
            "grid_template_columns": null,
            "flex": null,
            "_model_name": "LayoutModel",
            "justify_items": null,
            "grid_row": null,
            "max_height": null,
            "align_content": null,
            "visibility": null,
            "align_self": null,
            "height": null,
            "min_height": null,
            "padding": null,
            "grid_auto_rows": null,
            "grid_gap": null,
            "max_width": null,
            "order": null,
            "_view_module_version": "1.2.0",
            "grid_template_areas": null,
            "object_position": null,
            "object_fit": null,
            "grid_auto_columns": null,
            "margin": null,
            "display": null,
            "left": null
          }
        },
        "f7b0c61190394b13bf2e49038b50b47b": {
          "model_module": "@jupyter-widgets/controls",
          "model_name": "DescriptionStyleModel",
          "state": {
            "_view_name": "StyleView",
            "_model_name": "DescriptionStyleModel",
            "description_width": "",
            "_view_module": "@jupyter-widgets/base",
            "_model_module_version": "1.5.0",
            "_view_count": null,
            "_view_module_version": "1.2.0",
            "_model_module": "@jupyter-widgets/controls"
          }
        },
        "15f48720a13d4a5bae9610adaaa90de0": {
          "model_module": "@jupyter-widgets/base",
          "model_name": "LayoutModel",
          "state": {
            "_view_name": "LayoutView",
            "grid_template_rows": null,
            "right": null,
            "justify_content": null,
            "_view_module": "@jupyter-widgets/base",
            "overflow": null,
            "_model_module_version": "1.2.0",
            "_view_count": null,
            "flex_flow": null,
            "width": null,
            "min_width": null,
            "border": null,
            "align_items": null,
            "bottom": null,
            "_model_module": "@jupyter-widgets/base",
            "top": null,
            "grid_column": null,
            "overflow_y": null,
            "overflow_x": null,
            "grid_auto_flow": null,
            "grid_area": null,
            "grid_template_columns": null,
            "flex": null,
            "_model_name": "LayoutModel",
            "justify_items": null,
            "grid_row": null,
            "max_height": null,
            "align_content": null,
            "visibility": null,
            "align_self": null,
            "height": null,
            "min_height": null,
            "padding": null,
            "grid_auto_rows": null,
            "grid_gap": null,
            "max_width": null,
            "order": null,
            "_view_module_version": "1.2.0",
            "grid_template_areas": null,
            "object_position": null,
            "object_fit": null,
            "grid_auto_columns": null,
            "margin": null,
            "display": null,
            "left": null
          }
        },
        "c88f439fb10c4a99a2c1dd8ae9054447": {
          "model_module": "@jupyter-widgets/controls",
          "model_name": "HBoxModel",
          "state": {
            "_view_name": "HBoxView",
            "_dom_classes": [],
            "_model_name": "HBoxModel",
            "_view_module": "@jupyter-widgets/controls",
            "_model_module_version": "1.5.0",
            "_view_count": null,
            "_view_module_version": "1.5.0",
            "box_style": "",
            "layout": "IPY_MODEL_40dd34e9dba14a7187dae0cf88cce8d2",
            "_model_module": "@jupyter-widgets/controls",
            "children": [
              "IPY_MODEL_8b89c2d43bae44ec8230864eea3ec109",
              "IPY_MODEL_0c0ff1fb94dc4d56a656deac54e9601b"
            ]
          }
        },
        "40dd34e9dba14a7187dae0cf88cce8d2": {
          "model_module": "@jupyter-widgets/base",
          "model_name": "LayoutModel",
          "state": {
            "_view_name": "LayoutView",
            "grid_template_rows": null,
            "right": null,
            "justify_content": null,
            "_view_module": "@jupyter-widgets/base",
            "overflow": null,
            "_model_module_version": "1.2.0",
            "_view_count": null,
            "flex_flow": null,
            "width": null,
            "min_width": null,
            "border": null,
            "align_items": null,
            "bottom": null,
            "_model_module": "@jupyter-widgets/base",
            "top": null,
            "grid_column": null,
            "overflow_y": null,
            "overflow_x": null,
            "grid_auto_flow": null,
            "grid_area": null,
            "grid_template_columns": null,
            "flex": null,
            "_model_name": "LayoutModel",
            "justify_items": null,
            "grid_row": null,
            "max_height": null,
            "align_content": null,
            "visibility": null,
            "align_self": null,
            "height": null,
            "min_height": null,
            "padding": null,
            "grid_auto_rows": null,
            "grid_gap": null,
            "max_width": null,
            "order": null,
            "_view_module_version": "1.2.0",
            "grid_template_areas": null,
            "object_position": null,
            "object_fit": null,
            "grid_auto_columns": null,
            "margin": null,
            "display": null,
            "left": null
          }
        },
        "8b89c2d43bae44ec8230864eea3ec109": {
          "model_module": "@jupyter-widgets/controls",
          "model_name": "FloatProgressModel",
          "state": {
            "_view_name": "ProgressView",
            "style": "IPY_MODEL_533f48ec1fef4bdd882707f3acda4ac0",
            "_dom_classes": [],
            "description": "  7%",
            "_model_name": "FloatProgressModel",
            "bar_style": "danger",
            "max": 5427,
            "_view_module": "@jupyter-widgets/controls",
            "_model_module_version": "1.5.0",
            "value": 388,
            "_view_count": null,
            "_view_module_version": "1.5.0",
            "orientation": "horizontal",
            "min": 0,
            "description_tooltip": null,
            "_model_module": "@jupyter-widgets/controls",
            "layout": "IPY_MODEL_4e289825d0324a97ab1161a6d065957d"
          }
        },
        "0c0ff1fb94dc4d56a656deac54e9601b": {
          "model_module": "@jupyter-widgets/controls",
          "model_name": "HTMLModel",
          "state": {
            "_view_name": "HTMLView",
            "style": "IPY_MODEL_311a527a52fb492e8b11bad80d8031cc",
            "_dom_classes": [],
            "description": "",
            "_model_name": "HTMLModel",
            "placeholder": "​",
            "_view_module": "@jupyter-widgets/controls",
            "_model_module_version": "1.5.0",
            "value": " 388/5427 [00:10&lt;00:01, 3879.27 examples/s]",
            "_view_count": null,
            "_view_module_version": "1.5.0",
            "description_tooltip": null,
            "_model_module": "@jupyter-widgets/controls",
            "layout": "IPY_MODEL_167e6e71a4324d06ae43fb0a7c335d13"
          }
        },
        "533f48ec1fef4bdd882707f3acda4ac0": {
          "model_module": "@jupyter-widgets/controls",
          "model_name": "ProgressStyleModel",
          "state": {
            "_view_name": "StyleView",
            "_model_name": "ProgressStyleModel",
            "description_width": "initial",
            "_view_module": "@jupyter-widgets/base",
            "_model_module_version": "1.5.0",
            "_view_count": null,
            "_view_module_version": "1.2.0",
            "bar_color": null,
            "_model_module": "@jupyter-widgets/controls"
          }
        },
        "4e289825d0324a97ab1161a6d065957d": {
          "model_module": "@jupyter-widgets/base",
          "model_name": "LayoutModel",
          "state": {
            "_view_name": "LayoutView",
            "grid_template_rows": null,
            "right": null,
            "justify_content": null,
            "_view_module": "@jupyter-widgets/base",
            "overflow": null,
            "_model_module_version": "1.2.0",
            "_view_count": null,
            "flex_flow": null,
            "width": null,
            "min_width": null,
            "border": null,
            "align_items": null,
            "bottom": null,
            "_model_module": "@jupyter-widgets/base",
            "top": null,
            "grid_column": null,
            "overflow_y": null,
            "overflow_x": null,
            "grid_auto_flow": null,
            "grid_area": null,
            "grid_template_columns": null,
            "flex": null,
            "_model_name": "LayoutModel",
            "justify_items": null,
            "grid_row": null,
            "max_height": null,
            "align_content": null,
            "visibility": null,
            "align_self": null,
            "height": null,
            "min_height": null,
            "padding": null,
            "grid_auto_rows": null,
            "grid_gap": null,
            "max_width": null,
            "order": null,
            "_view_module_version": "1.2.0",
            "grid_template_areas": null,
            "object_position": null,
            "object_fit": null,
            "grid_auto_columns": null,
            "margin": null,
            "display": null,
            "left": null
          }
        },
        "311a527a52fb492e8b11bad80d8031cc": {
          "model_module": "@jupyter-widgets/controls",
          "model_name": "DescriptionStyleModel",
          "state": {
            "_view_name": "StyleView",
            "_model_name": "DescriptionStyleModel",
            "description_width": "",
            "_view_module": "@jupyter-widgets/base",
            "_model_module_version": "1.5.0",
            "_view_count": null,
            "_view_module_version": "1.2.0",
            "_model_module": "@jupyter-widgets/controls"
          }
        },
        "167e6e71a4324d06ae43fb0a7c335d13": {
          "model_module": "@jupyter-widgets/base",
          "model_name": "LayoutModel",
          "state": {
            "_view_name": "LayoutView",
            "grid_template_rows": null,
            "right": null,
            "justify_content": null,
            "_view_module": "@jupyter-widgets/base",
            "overflow": null,
            "_model_module_version": "1.2.0",
            "_view_count": null,
            "flex_flow": null,
            "width": null,
            "min_width": null,
            "border": null,
            "align_items": null,
            "bottom": null,
            "_model_module": "@jupyter-widgets/base",
            "top": null,
            "grid_column": null,
            "overflow_y": null,
            "overflow_x": null,
            "grid_auto_flow": null,
            "grid_area": null,
            "grid_template_columns": null,
            "flex": null,
            "_model_name": "LayoutModel",
            "justify_items": null,
            "grid_row": null,
            "max_height": null,
            "align_content": null,
            "visibility": null,
            "align_self": null,
            "height": null,
            "min_height": null,
            "padding": null,
            "grid_auto_rows": null,
            "grid_gap": null,
            "max_width": null,
            "order": null,
            "_view_module_version": "1.2.0",
            "grid_template_areas": null,
            "object_position": null,
            "object_fit": null,
            "grid_auto_columns": null,
            "margin": null,
            "display": null,
            "left": null
          }
        },
        "f52c2583c7ce406eac3901086740997b": {
          "model_module": "@jupyter-widgets/controls",
          "model_name": "HBoxModel",
          "state": {
            "_view_name": "HBoxView",
            "_dom_classes": [],
            "_model_name": "HBoxModel",
            "_view_module": "@jupyter-widgets/controls",
            "_model_module_version": "1.5.0",
            "_view_count": null,
            "_view_module_version": "1.5.0",
            "box_style": "",
            "layout": "IPY_MODEL_370ef2ef418a4957afc79f95bf06b702",
            "_model_module": "@jupyter-widgets/controls",
            "children": [
              "IPY_MODEL_a4c5cdc73a8e49dfa061dd5d21cf2b2c",
              "IPY_MODEL_6f32a7cb761648bca2d06e84529545cf"
            ]
          }
        },
        "370ef2ef418a4957afc79f95bf06b702": {
          "model_module": "@jupyter-widgets/base",
          "model_name": "LayoutModel",
          "state": {
            "_view_name": "LayoutView",
            "grid_template_rows": null,
            "right": null,
            "justify_content": null,
            "_view_module": "@jupyter-widgets/base",
            "overflow": null,
            "_model_module_version": "1.2.0",
            "_view_count": null,
            "flex_flow": null,
            "width": null,
            "min_width": null,
            "border": null,
            "align_items": null,
            "bottom": null,
            "_model_module": "@jupyter-widgets/base",
            "top": null,
            "grid_column": null,
            "overflow_y": null,
            "overflow_x": null,
            "grid_auto_flow": null,
            "grid_area": null,
            "grid_template_columns": null,
            "flex": null,
            "_model_name": "LayoutModel",
            "justify_items": null,
            "grid_row": null,
            "max_height": null,
            "align_content": null,
            "visibility": null,
            "align_self": null,
            "height": null,
            "min_height": null,
            "padding": null,
            "grid_auto_rows": null,
            "grid_gap": null,
            "max_width": null,
            "order": null,
            "_view_module_version": "1.2.0",
            "grid_template_areas": null,
            "object_position": null,
            "object_fit": null,
            "grid_auto_columns": null,
            "margin": null,
            "display": null,
            "left": null
          }
        },
        "a4c5cdc73a8e49dfa061dd5d21cf2b2c": {
          "model_module": "@jupyter-widgets/controls",
          "model_name": "FloatProgressModel",
          "state": {
            "_view_name": "ProgressView",
            "style": "IPY_MODEL_b057e94d677644a89f66424cb3c001ff",
            "_dom_classes": [],
            "description": "Downloading: 100%",
            "_model_name": "FloatProgressModel",
            "bar_style": "success",
            "max": 231508,
            "_view_module": "@jupyter-widgets/controls",
            "_model_module_version": "1.5.0",
            "value": 231508,
            "_view_count": null,
            "_view_module_version": "1.5.0",
            "orientation": "horizontal",
            "min": 0,
            "description_tooltip": null,
            "_model_module": "@jupyter-widgets/controls",
            "layout": "IPY_MODEL_db754f2fabde47fdb95e6443b00d6363"
          }
        },
        "6f32a7cb761648bca2d06e84529545cf": {
          "model_module": "@jupyter-widgets/controls",
          "model_name": "HTMLModel",
          "state": {
            "_view_name": "HTMLView",
            "style": "IPY_MODEL_39120685547149ae9feaea6d8f99b384",
            "_dom_classes": [],
            "description": "",
            "_model_name": "HTMLModel",
            "placeholder": "​",
            "_view_module": "@jupyter-widgets/controls",
            "_model_module_version": "1.5.0",
            "value": " 232k/232k [00:00&lt;00:00, 794kB/s]",
            "_view_count": null,
            "_view_module_version": "1.5.0",
            "description_tooltip": null,
            "_model_module": "@jupyter-widgets/controls",
            "layout": "IPY_MODEL_a4e26d3309b8477d9f58be7778f6631e"
          }
        },
        "b057e94d677644a89f66424cb3c001ff": {
          "model_module": "@jupyter-widgets/controls",
          "model_name": "ProgressStyleModel",
          "state": {
            "_view_name": "StyleView",
            "_model_name": "ProgressStyleModel",
            "description_width": "initial",
            "_view_module": "@jupyter-widgets/base",
            "_model_module_version": "1.5.0",
            "_view_count": null,
            "_view_module_version": "1.2.0",
            "bar_color": null,
            "_model_module": "@jupyter-widgets/controls"
          }
        },
        "db754f2fabde47fdb95e6443b00d6363": {
          "model_module": "@jupyter-widgets/base",
          "model_name": "LayoutModel",
          "state": {
            "_view_name": "LayoutView",
            "grid_template_rows": null,
            "right": null,
            "justify_content": null,
            "_view_module": "@jupyter-widgets/base",
            "overflow": null,
            "_model_module_version": "1.2.0",
            "_view_count": null,
            "flex_flow": null,
            "width": null,
            "min_width": null,
            "border": null,
            "align_items": null,
            "bottom": null,
            "_model_module": "@jupyter-widgets/base",
            "top": null,
            "grid_column": null,
            "overflow_y": null,
            "overflow_x": null,
            "grid_auto_flow": null,
            "grid_area": null,
            "grid_template_columns": null,
            "flex": null,
            "_model_name": "LayoutModel",
            "justify_items": null,
            "grid_row": null,
            "max_height": null,
            "align_content": null,
            "visibility": null,
            "align_self": null,
            "height": null,
            "min_height": null,
            "padding": null,
            "grid_auto_rows": null,
            "grid_gap": null,
            "max_width": null,
            "order": null,
            "_view_module_version": "1.2.0",
            "grid_template_areas": null,
            "object_position": null,
            "object_fit": null,
            "grid_auto_columns": null,
            "margin": null,
            "display": null,
            "left": null
          }
        },
        "39120685547149ae9feaea6d8f99b384": {
          "model_module": "@jupyter-widgets/controls",
          "model_name": "DescriptionStyleModel",
          "state": {
            "_view_name": "StyleView",
            "_model_name": "DescriptionStyleModel",
            "description_width": "",
            "_view_module": "@jupyter-widgets/base",
            "_model_module_version": "1.5.0",
            "_view_count": null,
            "_view_module_version": "1.2.0",
            "_model_module": "@jupyter-widgets/controls"
          }
        },
        "a4e26d3309b8477d9f58be7778f6631e": {
          "model_module": "@jupyter-widgets/base",
          "model_name": "LayoutModel",
          "state": {
            "_view_name": "LayoutView",
            "grid_template_rows": null,
            "right": null,
            "justify_content": null,
            "_view_module": "@jupyter-widgets/base",
            "overflow": null,
            "_model_module_version": "1.2.0",
            "_view_count": null,
            "flex_flow": null,
            "width": null,
            "min_width": null,
            "border": null,
            "align_items": null,
            "bottom": null,
            "_model_module": "@jupyter-widgets/base",
            "top": null,
            "grid_column": null,
            "overflow_y": null,
            "overflow_x": null,
            "grid_auto_flow": null,
            "grid_area": null,
            "grid_template_columns": null,
            "flex": null,
            "_model_name": "LayoutModel",
            "justify_items": null,
            "grid_row": null,
            "max_height": null,
            "align_content": null,
            "visibility": null,
            "align_self": null,
            "height": null,
            "min_height": null,
            "padding": null,
            "grid_auto_rows": null,
            "grid_gap": null,
            "max_width": null,
            "order": null,
            "_view_module_version": "1.2.0",
            "grid_template_areas": null,
            "object_position": null,
            "object_fit": null,
            "grid_auto_columns": null,
            "margin": null,
            "display": null,
            "left": null
          }
        },
        "39345bbb2aa34725897101fa05fd12bd": {
          "model_module": "@jupyter-widgets/controls",
          "model_name": "HBoxModel",
          "state": {
            "_view_name": "HBoxView",
            "_dom_classes": [],
            "_model_name": "HBoxModel",
            "_view_module": "@jupyter-widgets/controls",
            "_model_module_version": "1.5.0",
            "_view_count": null,
            "_view_module_version": "1.5.0",
            "box_style": "",
            "layout": "IPY_MODEL_4eae8665c97b4628a1764e4057ab0de8",
            "_model_module": "@jupyter-widgets/controls",
            "children": [
              "IPY_MODEL_f5a1a24fe9134180a004b8eb00caeaa3",
              "IPY_MODEL_6c0902480e6145bd85dc6d781afa6a25"
            ]
          }
        },
        "4eae8665c97b4628a1764e4057ab0de8": {
          "model_module": "@jupyter-widgets/base",
          "model_name": "LayoutModel",
          "state": {
            "_view_name": "LayoutView",
            "grid_template_rows": null,
            "right": null,
            "justify_content": null,
            "_view_module": "@jupyter-widgets/base",
            "overflow": null,
            "_model_module_version": "1.2.0",
            "_view_count": null,
            "flex_flow": null,
            "width": null,
            "min_width": null,
            "border": null,
            "align_items": null,
            "bottom": null,
            "_model_module": "@jupyter-widgets/base",
            "top": null,
            "grid_column": null,
            "overflow_y": null,
            "overflow_x": null,
            "grid_auto_flow": null,
            "grid_area": null,
            "grid_template_columns": null,
            "flex": null,
            "_model_name": "LayoutModel",
            "justify_items": null,
            "grid_row": null,
            "max_height": null,
            "align_content": null,
            "visibility": null,
            "align_self": null,
            "height": null,
            "min_height": null,
            "padding": null,
            "grid_auto_rows": null,
            "grid_gap": null,
            "max_width": null,
            "order": null,
            "_view_module_version": "1.2.0",
            "grid_template_areas": null,
            "object_position": null,
            "object_fit": null,
            "grid_auto_columns": null,
            "margin": null,
            "display": null,
            "left": null
          }
        },
        "f5a1a24fe9134180a004b8eb00caeaa3": {
          "model_module": "@jupyter-widgets/controls",
          "model_name": "FloatProgressModel",
          "state": {
            "_view_name": "ProgressView",
            "style": "IPY_MODEL_14fc053874174a15ac86a1b393a26600",
            "_dom_classes": [],
            "description": "Downloading: 100%",
            "_model_name": "FloatProgressModel",
            "bar_style": "success",
            "max": 442,
            "_view_module": "@jupyter-widgets/controls",
            "_model_module_version": "1.5.0",
            "value": 442,
            "_view_count": null,
            "_view_module_version": "1.5.0",
            "orientation": "horizontal",
            "min": 0,
            "description_tooltip": null,
            "_model_module": "@jupyter-widgets/controls",
            "layout": "IPY_MODEL_8b4f08bc217246d28b3c1bf871df86ef"
          }
        },
        "6c0902480e6145bd85dc6d781afa6a25": {
          "model_module": "@jupyter-widgets/controls",
          "model_name": "HTMLModel",
          "state": {
            "_view_name": "HTMLView",
            "style": "IPY_MODEL_3a443c2e03524f9b997b359f289e2270",
            "_dom_classes": [],
            "description": "",
            "_model_name": "HTMLModel",
            "placeholder": "​",
            "_view_module": "@jupyter-widgets/controls",
            "_model_module_version": "1.5.0",
            "value": " 442/442 [00:10&lt;00:00, 43.0B/s]",
            "_view_count": null,
            "_view_module_version": "1.5.0",
            "description_tooltip": null,
            "_model_module": "@jupyter-widgets/controls",
            "layout": "IPY_MODEL_2e086bea17234e91af7141d6b3bbe120"
          }
        },
        "14fc053874174a15ac86a1b393a26600": {
          "model_module": "@jupyter-widgets/controls",
          "model_name": "ProgressStyleModel",
          "state": {
            "_view_name": "StyleView",
            "_model_name": "ProgressStyleModel",
            "description_width": "initial",
            "_view_module": "@jupyter-widgets/base",
            "_model_module_version": "1.5.0",
            "_view_count": null,
            "_view_module_version": "1.2.0",
            "bar_color": null,
            "_model_module": "@jupyter-widgets/controls"
          }
        },
        "8b4f08bc217246d28b3c1bf871df86ef": {
          "model_module": "@jupyter-widgets/base",
          "model_name": "LayoutModel",
          "state": {
            "_view_name": "LayoutView",
            "grid_template_rows": null,
            "right": null,
            "justify_content": null,
            "_view_module": "@jupyter-widgets/base",
            "overflow": null,
            "_model_module_version": "1.2.0",
            "_view_count": null,
            "flex_flow": null,
            "width": null,
            "min_width": null,
            "border": null,
            "align_items": null,
            "bottom": null,
            "_model_module": "@jupyter-widgets/base",
            "top": null,
            "grid_column": null,
            "overflow_y": null,
            "overflow_x": null,
            "grid_auto_flow": null,
            "grid_area": null,
            "grid_template_columns": null,
            "flex": null,
            "_model_name": "LayoutModel",
            "justify_items": null,
            "grid_row": null,
            "max_height": null,
            "align_content": null,
            "visibility": null,
            "align_self": null,
            "height": null,
            "min_height": null,
            "padding": null,
            "grid_auto_rows": null,
            "grid_gap": null,
            "max_width": null,
            "order": null,
            "_view_module_version": "1.2.0",
            "grid_template_areas": null,
            "object_position": null,
            "object_fit": null,
            "grid_auto_columns": null,
            "margin": null,
            "display": null,
            "left": null
          }
        },
        "3a443c2e03524f9b997b359f289e2270": {
          "model_module": "@jupyter-widgets/controls",
          "model_name": "DescriptionStyleModel",
          "state": {
            "_view_name": "StyleView",
            "_model_name": "DescriptionStyleModel",
            "description_width": "",
            "_view_module": "@jupyter-widgets/base",
            "_model_module_version": "1.5.0",
            "_view_count": null,
            "_view_module_version": "1.2.0",
            "_model_module": "@jupyter-widgets/controls"
          }
        },
        "2e086bea17234e91af7141d6b3bbe120": {
          "model_module": "@jupyter-widgets/base",
          "model_name": "LayoutModel",
          "state": {
            "_view_name": "LayoutView",
            "grid_template_rows": null,
            "right": null,
            "justify_content": null,
            "_view_module": "@jupyter-widgets/base",
            "overflow": null,
            "_model_module_version": "1.2.0",
            "_view_count": null,
            "flex_flow": null,
            "width": null,
            "min_width": null,
            "border": null,
            "align_items": null,
            "bottom": null,
            "_model_module": "@jupyter-widgets/base",
            "top": null,
            "grid_column": null,
            "overflow_y": null,
            "overflow_x": null,
            "grid_auto_flow": null,
            "grid_area": null,
            "grid_template_columns": null,
            "flex": null,
            "_model_name": "LayoutModel",
            "justify_items": null,
            "grid_row": null,
            "max_height": null,
            "align_content": null,
            "visibility": null,
            "align_self": null,
            "height": null,
            "min_height": null,
            "padding": null,
            "grid_auto_rows": null,
            "grid_gap": null,
            "max_width": null,
            "order": null,
            "_view_module_version": "1.2.0",
            "grid_template_areas": null,
            "object_position": null,
            "object_fit": null,
            "grid_auto_columns": null,
            "margin": null,
            "display": null,
            "left": null
          }
        },
        "c6fc6b83fd384af18a808e3e6634a217": {
          "model_module": "@jupyter-widgets/controls",
          "model_name": "HBoxModel",
          "state": {
            "_view_name": "HBoxView",
            "_dom_classes": [],
            "_model_name": "HBoxModel",
            "_view_module": "@jupyter-widgets/controls",
            "_model_module_version": "1.5.0",
            "_view_count": null,
            "_view_module_version": "1.5.0",
            "box_style": "",
            "layout": "IPY_MODEL_1ed6a70295b346788a436bfb05d7a4fa",
            "_model_module": "@jupyter-widgets/controls",
            "children": [
              "IPY_MODEL_023cc038d8554ae5a201180136ac7439",
              "IPY_MODEL_6c3dcdb1fb0c42fc8d99388f5d1e3f51"
            ]
          }
        },
        "1ed6a70295b346788a436bfb05d7a4fa": {
          "model_module": "@jupyter-widgets/base",
          "model_name": "LayoutModel",
          "state": {
            "_view_name": "LayoutView",
            "grid_template_rows": null,
            "right": null,
            "justify_content": null,
            "_view_module": "@jupyter-widgets/base",
            "overflow": null,
            "_model_module_version": "1.2.0",
            "_view_count": null,
            "flex_flow": null,
            "width": null,
            "min_width": null,
            "border": null,
            "align_items": null,
            "bottom": null,
            "_model_module": "@jupyter-widgets/base",
            "top": null,
            "grid_column": null,
            "overflow_y": null,
            "overflow_x": null,
            "grid_auto_flow": null,
            "grid_area": null,
            "grid_template_columns": null,
            "flex": null,
            "_model_name": "LayoutModel",
            "justify_items": null,
            "grid_row": null,
            "max_height": null,
            "align_content": null,
            "visibility": null,
            "align_self": null,
            "height": null,
            "min_height": null,
            "padding": null,
            "grid_auto_rows": null,
            "grid_gap": null,
            "max_width": null,
            "order": null,
            "_view_module_version": "1.2.0",
            "grid_template_areas": null,
            "object_position": null,
            "object_fit": null,
            "grid_auto_columns": null,
            "margin": null,
            "display": null,
            "left": null
          }
        },
        "023cc038d8554ae5a201180136ac7439": {
          "model_module": "@jupyter-widgets/controls",
          "model_name": "FloatProgressModel",
          "state": {
            "_view_name": "ProgressView",
            "style": "IPY_MODEL_79e84eda78ec4bc4baaa34e9d872b020",
            "_dom_classes": [],
            "description": "Downloading: 100%",
            "_model_name": "FloatProgressModel",
            "bar_style": "success",
            "max": 363423424,
            "_view_module": "@jupyter-widgets/controls",
            "_model_module_version": "1.5.0",
            "value": 363423424,
            "_view_count": null,
            "_view_module_version": "1.5.0",
            "orientation": "horizontal",
            "min": 0,
            "description_tooltip": null,
            "_model_module": "@jupyter-widgets/controls",
            "layout": "IPY_MODEL_63968677428f420b824205ed0be811a1"
          }
        },
        "6c3dcdb1fb0c42fc8d99388f5d1e3f51": {
          "model_module": "@jupyter-widgets/controls",
          "model_name": "HTMLModel",
          "state": {
            "_view_name": "HTMLView",
            "style": "IPY_MODEL_7ae419a790584042a9521d400ff5031d",
            "_dom_classes": [],
            "description": "",
            "_model_name": "HTMLModel",
            "placeholder": "​",
            "_view_module": "@jupyter-widgets/controls",
            "_model_module_version": "1.5.0",
            "value": " 363M/363M [00:57&lt;00:00, 6.31MB/s]",
            "_view_count": null,
            "_view_module_version": "1.5.0",
            "description_tooltip": null,
            "_model_module": "@jupyter-widgets/controls",
            "layout": "IPY_MODEL_968c057b5ef24768a8fe5a3196690cd3"
          }
        },
        "79e84eda78ec4bc4baaa34e9d872b020": {
          "model_module": "@jupyter-widgets/controls",
          "model_name": "ProgressStyleModel",
          "state": {
            "_view_name": "StyleView",
            "_model_name": "ProgressStyleModel",
            "description_width": "initial",
            "_view_module": "@jupyter-widgets/base",
            "_model_module_version": "1.5.0",
            "_view_count": null,
            "_view_module_version": "1.2.0",
            "bar_color": null,
            "_model_module": "@jupyter-widgets/controls"
          }
        },
        "63968677428f420b824205ed0be811a1": {
          "model_module": "@jupyter-widgets/base",
          "model_name": "LayoutModel",
          "state": {
            "_view_name": "LayoutView",
            "grid_template_rows": null,
            "right": null,
            "justify_content": null,
            "_view_module": "@jupyter-widgets/base",
            "overflow": null,
            "_model_module_version": "1.2.0",
            "_view_count": null,
            "flex_flow": null,
            "width": null,
            "min_width": null,
            "border": null,
            "align_items": null,
            "bottom": null,
            "_model_module": "@jupyter-widgets/base",
            "top": null,
            "grid_column": null,
            "overflow_y": null,
            "overflow_x": null,
            "grid_auto_flow": null,
            "grid_area": null,
            "grid_template_columns": null,
            "flex": null,
            "_model_name": "LayoutModel",
            "justify_items": null,
            "grid_row": null,
            "max_height": null,
            "align_content": null,
            "visibility": null,
            "align_self": null,
            "height": null,
            "min_height": null,
            "padding": null,
            "grid_auto_rows": null,
            "grid_gap": null,
            "max_width": null,
            "order": null,
            "_view_module_version": "1.2.0",
            "grid_template_areas": null,
            "object_position": null,
            "object_fit": null,
            "grid_auto_columns": null,
            "margin": null,
            "display": null,
            "left": null
          }
        },
        "7ae419a790584042a9521d400ff5031d": {
          "model_module": "@jupyter-widgets/controls",
          "model_name": "DescriptionStyleModel",
          "state": {
            "_view_name": "StyleView",
            "_model_name": "DescriptionStyleModel",
            "description_width": "",
            "_view_module": "@jupyter-widgets/base",
            "_model_module_version": "1.5.0",
            "_view_count": null,
            "_view_module_version": "1.2.0",
            "_model_module": "@jupyter-widgets/controls"
          }
        },
        "968c057b5ef24768a8fe5a3196690cd3": {
          "model_module": "@jupyter-widgets/base",
          "model_name": "LayoutModel",
          "state": {
            "_view_name": "LayoutView",
            "grid_template_rows": null,
            "right": null,
            "justify_content": null,
            "_view_module": "@jupyter-widgets/base",
            "overflow": null,
            "_model_module_version": "1.2.0",
            "_view_count": null,
            "flex_flow": null,
            "width": null,
            "min_width": null,
            "border": null,
            "align_items": null,
            "bottom": null,
            "_model_module": "@jupyter-widgets/base",
            "top": null,
            "grid_column": null,
            "overflow_y": null,
            "overflow_x": null,
            "grid_auto_flow": null,
            "grid_area": null,
            "grid_template_columns": null,
            "flex": null,
            "_model_name": "LayoutModel",
            "justify_items": null,
            "grid_row": null,
            "max_height": null,
            "align_content": null,
            "visibility": null,
            "align_self": null,
            "height": null,
            "min_height": null,
            "padding": null,
            "grid_auto_rows": null,
            "grid_gap": null,
            "max_width": null,
            "order": null,
            "_view_module_version": "1.2.0",
            "grid_template_areas": null,
            "object_position": null,
            "object_fit": null,
            "grid_auto_columns": null,
            "margin": null,
            "display": null,
            "left": null
          }
        }
      }
    }
  },
  "cells": [
    {
      "cell_type": "code",
      "metadata": {
        "id": "lPaa_aXk4qg_"
      },
      "source": [
        "import pandas as pd\r\n",
        "import numpy as np\r\n",
        "from sklearn.utils import shuffle\r\n",
        "import tensorflow as tf\r\n",
        "import tensorflow_datasets as tfds"
      ],
      "execution_count": 1,
      "outputs": []
    },
    {
      "cell_type": "markdown",
      "metadata": {
        "id": "ReKeNH6688uN"
      },
      "source": [
        "# 1- Tweets dataset"
      ]
    },
    {
      "cell_type": "code",
      "metadata": {
        "id": "rmKARUqK5MmN"
      },
      "source": [
        "df1 = pd.read_csv('https://query.data.world/s/fao4cqhvwdj4t457qs2oircqkk43ve')"
      ],
      "execution_count": 2,
      "outputs": []
    },
    {
      "cell_type": "code",
      "metadata": {
        "colab": {
          "base_uri": "https://localhost:8080/",
          "height": 0
        },
        "id": "AdjGWXph5NAq",
        "outputId": "cdbf3fc3-e90c-4da7-cac5-7841d769589d"
      },
      "source": [
        "df1.head()"
      ],
      "execution_count": 3,
      "outputs": [
        {
          "output_type": "execute_result",
          "data": {
            "text/html": [
              "<div>\n",
              "<style scoped>\n",
              "    .dataframe tbody tr th:only-of-type {\n",
              "        vertical-align: middle;\n",
              "    }\n",
              "\n",
              "    .dataframe tbody tr th {\n",
              "        vertical-align: top;\n",
              "    }\n",
              "\n",
              "    .dataframe thead th {\n",
              "        text-align: right;\n",
              "    }\n",
              "</style>\n",
              "<table border=\"1\" class=\"dataframe\">\n",
              "  <thead>\n",
              "    <tr style=\"text-align: right;\">\n",
              "      <th></th>\n",
              "      <th>tweet_id</th>\n",
              "      <th>sentiment</th>\n",
              "      <th>author</th>\n",
              "      <th>content</th>\n",
              "    </tr>\n",
              "  </thead>\n",
              "  <tbody>\n",
              "    <tr>\n",
              "      <th>0</th>\n",
              "      <td>1956967341</td>\n",
              "      <td>empty</td>\n",
              "      <td>xoshayzers</td>\n",
              "      <td>@tiffanylue i know  i was listenin to bad habi...</td>\n",
              "    </tr>\n",
              "    <tr>\n",
              "      <th>1</th>\n",
              "      <td>1956967666</td>\n",
              "      <td>sadness</td>\n",
              "      <td>wannamama</td>\n",
              "      <td>Layin n bed with a headache  ughhhh...waitin o...</td>\n",
              "    </tr>\n",
              "    <tr>\n",
              "      <th>2</th>\n",
              "      <td>1956967696</td>\n",
              "      <td>sadness</td>\n",
              "      <td>coolfunky</td>\n",
              "      <td>Funeral ceremony...gloomy friday...</td>\n",
              "    </tr>\n",
              "    <tr>\n",
              "      <th>3</th>\n",
              "      <td>1956967789</td>\n",
              "      <td>enthusiasm</td>\n",
              "      <td>czareaquino</td>\n",
              "      <td>wants to hang out with friends SOON!</td>\n",
              "    </tr>\n",
              "    <tr>\n",
              "      <th>4</th>\n",
              "      <td>1956968416</td>\n",
              "      <td>neutral</td>\n",
              "      <td>xkilljoyx</td>\n",
              "      <td>@dannycastillo We want to trade with someone w...</td>\n",
              "    </tr>\n",
              "  </tbody>\n",
              "</table>\n",
              "</div>"
            ],
            "text/plain": [
              "     tweet_id  ...                                            content\n",
              "0  1956967341  ...  @tiffanylue i know  i was listenin to bad habi...\n",
              "1  1956967666  ...  Layin n bed with a headache  ughhhh...waitin o...\n",
              "2  1956967696  ...                Funeral ceremony...gloomy friday...\n",
              "3  1956967789  ...               wants to hang out with friends SOON!\n",
              "4  1956968416  ...  @dannycastillo We want to trade with someone w...\n",
              "\n",
              "[5 rows x 4 columns]"
            ]
          },
          "metadata": {
            "tags": []
          },
          "execution_count": 3
        }
      ]
    },
    {
      "cell_type": "code",
      "metadata": {
        "colab": {
          "base_uri": "https://localhost:8080/",
          "height": 0
        },
        "id": "0Y_3J5p95N0h",
        "outputId": "c6ca0de1-80b0-48a9-bb9a-de108b8628d0"
      },
      "source": [
        "df1 = df1.drop(['tweet_id', 'author'], axis=1)\r\n",
        "df1.head()"
      ],
      "execution_count": 4,
      "outputs": [
        {
          "output_type": "execute_result",
          "data": {
            "text/html": [
              "<div>\n",
              "<style scoped>\n",
              "    .dataframe tbody tr th:only-of-type {\n",
              "        vertical-align: middle;\n",
              "    }\n",
              "\n",
              "    .dataframe tbody tr th {\n",
              "        vertical-align: top;\n",
              "    }\n",
              "\n",
              "    .dataframe thead th {\n",
              "        text-align: right;\n",
              "    }\n",
              "</style>\n",
              "<table border=\"1\" class=\"dataframe\">\n",
              "  <thead>\n",
              "    <tr style=\"text-align: right;\">\n",
              "      <th></th>\n",
              "      <th>sentiment</th>\n",
              "      <th>content</th>\n",
              "    </tr>\n",
              "  </thead>\n",
              "  <tbody>\n",
              "    <tr>\n",
              "      <th>0</th>\n",
              "      <td>empty</td>\n",
              "      <td>@tiffanylue i know  i was listenin to bad habi...</td>\n",
              "    </tr>\n",
              "    <tr>\n",
              "      <th>1</th>\n",
              "      <td>sadness</td>\n",
              "      <td>Layin n bed with a headache  ughhhh...waitin o...</td>\n",
              "    </tr>\n",
              "    <tr>\n",
              "      <th>2</th>\n",
              "      <td>sadness</td>\n",
              "      <td>Funeral ceremony...gloomy friday...</td>\n",
              "    </tr>\n",
              "    <tr>\n",
              "      <th>3</th>\n",
              "      <td>enthusiasm</td>\n",
              "      <td>wants to hang out with friends SOON!</td>\n",
              "    </tr>\n",
              "    <tr>\n",
              "      <th>4</th>\n",
              "      <td>neutral</td>\n",
              "      <td>@dannycastillo We want to trade with someone w...</td>\n",
              "    </tr>\n",
              "  </tbody>\n",
              "</table>\n",
              "</div>"
            ],
            "text/plain": [
              "    sentiment                                            content\n",
              "0       empty  @tiffanylue i know  i was listenin to bad habi...\n",
              "1     sadness  Layin n bed with a headache  ughhhh...waitin o...\n",
              "2     sadness                Funeral ceremony...gloomy friday...\n",
              "3  enthusiasm               wants to hang out with friends SOON!\n",
              "4     neutral  @dannycastillo We want to trade with someone w..."
            ]
          },
          "metadata": {
            "tags": []
          },
          "execution_count": 4
        }
      ]
    },
    {
      "cell_type": "code",
      "metadata": {
        "colab": {
          "base_uri": "https://localhost:8080/"
        },
        "id": "c6dMoIon5Yka",
        "outputId": "afeac037-e434-44f7-814c-e44177d2eb31"
      },
      "source": [
        "df1.shape"
      ],
      "execution_count": 5,
      "outputs": [
        {
          "output_type": "execute_result",
          "data": {
            "text/plain": [
              "(40000, 2)"
            ]
          },
          "metadata": {
            "tags": []
          },
          "execution_count": 5
        }
      ]
    },
    {
      "cell_type": "code",
      "metadata": {
        "colab": {
          "base_uri": "https://localhost:8080/",
          "height": 0
        },
        "id": "y0L5la8Q5jDy",
        "outputId": "ea858e22-d49c-4b01-8b95-3311cbee409e"
      },
      "source": [
        "df1 = df1.loc[df1['sentiment'].isin(['happiness', 'sadness', 'worry'])]\r\n",
        "df1"
      ],
      "execution_count": 6,
      "outputs": [
        {
          "output_type": "execute_result",
          "data": {
            "text/html": [
              "<div>\n",
              "<style scoped>\n",
              "    .dataframe tbody tr th:only-of-type {\n",
              "        vertical-align: middle;\n",
              "    }\n",
              "\n",
              "    .dataframe tbody tr th {\n",
              "        vertical-align: top;\n",
              "    }\n",
              "\n",
              "    .dataframe thead th {\n",
              "        text-align: right;\n",
              "    }\n",
              "</style>\n",
              "<table border=\"1\" class=\"dataframe\">\n",
              "  <thead>\n",
              "    <tr style=\"text-align: right;\">\n",
              "      <th></th>\n",
              "      <th>sentiment</th>\n",
              "      <th>content</th>\n",
              "    </tr>\n",
              "  </thead>\n",
              "  <tbody>\n",
              "    <tr>\n",
              "      <th>1</th>\n",
              "      <td>sadness</td>\n",
              "      <td>Layin n bed with a headache  ughhhh...waitin o...</td>\n",
              "    </tr>\n",
              "    <tr>\n",
              "      <th>2</th>\n",
              "      <td>sadness</td>\n",
              "      <td>Funeral ceremony...gloomy friday...</td>\n",
              "    </tr>\n",
              "    <tr>\n",
              "      <th>5</th>\n",
              "      <td>worry</td>\n",
              "      <td>Re-pinging @ghostridah14: why didn't you go to...</td>\n",
              "    </tr>\n",
              "    <tr>\n",
              "      <th>6</th>\n",
              "      <td>sadness</td>\n",
              "      <td>I should be sleep, but im not! thinking about ...</td>\n",
              "    </tr>\n",
              "    <tr>\n",
              "      <th>7</th>\n",
              "      <td>worry</td>\n",
              "      <td>Hmmm. http://www.djhero.com/ is down</td>\n",
              "    </tr>\n",
              "    <tr>\n",
              "      <th>...</th>\n",
              "      <td>...</td>\n",
              "      <td>...</td>\n",
              "    </tr>\n",
              "    <tr>\n",
              "      <th>39986</th>\n",
              "      <td>happiness</td>\n",
              "      <td>going to watch boy in the striped pj's hope i ...</td>\n",
              "    </tr>\n",
              "    <tr>\n",
              "      <th>39987</th>\n",
              "      <td>happiness</td>\n",
              "      <td>gave the bikes a thorough wash, degrease it an...</td>\n",
              "    </tr>\n",
              "    <tr>\n",
              "      <th>39988</th>\n",
              "      <td>happiness</td>\n",
              "      <td>had SUCH and AMAZING time last night, McFly we...</td>\n",
              "    </tr>\n",
              "    <tr>\n",
              "      <th>39994</th>\n",
              "      <td>happiness</td>\n",
              "      <td>Succesfully following Tayla!!</td>\n",
              "    </tr>\n",
              "    <tr>\n",
              "      <th>39998</th>\n",
              "      <td>happiness</td>\n",
              "      <td>@niariley WASSUP BEAUTIFUL!!! FOLLOW ME!!  PEE...</td>\n",
              "    </tr>\n",
              "  </tbody>\n",
              "</table>\n",
              "<p>18833 rows × 2 columns</p>\n",
              "</div>"
            ],
            "text/plain": [
              "       sentiment                                            content\n",
              "1        sadness  Layin n bed with a headache  ughhhh...waitin o...\n",
              "2        sadness                Funeral ceremony...gloomy friday...\n",
              "5          worry  Re-pinging @ghostridah14: why didn't you go to...\n",
              "6        sadness  I should be sleep, but im not! thinking about ...\n",
              "7          worry               Hmmm. http://www.djhero.com/ is down\n",
              "...          ...                                                ...\n",
              "39986  happiness  going to watch boy in the striped pj's hope i ...\n",
              "39987  happiness  gave the bikes a thorough wash, degrease it an...\n",
              "39988  happiness  had SUCH and AMAZING time last night, McFly we...\n",
              "39994  happiness                      Succesfully following Tayla!!\n",
              "39998  happiness  @niariley WASSUP BEAUTIFUL!!! FOLLOW ME!!  PEE...\n",
              "\n",
              "[18833 rows x 2 columns]"
            ]
          },
          "metadata": {
            "tags": []
          },
          "execution_count": 6
        }
      ]
    },
    {
      "cell_type": "code",
      "metadata": {
        "id": "BMWuwWzL6IeJ"
      },
      "source": [
        "df1['sentiment'] = df1['sentiment'].map(lambda s: [int(s=='happiness'), int(s=='sadness'), int(s=='worry'), 0, 0])"
      ],
      "execution_count": 7,
      "outputs": []
    },
    {
      "cell_type": "code",
      "metadata": {
        "colab": {
          "base_uri": "https://localhost:8080/",
          "height": 0
        },
        "id": "W4Smmgg56Xqx",
        "outputId": "39602811-25b0-4966-bf64-c4349d86d7b9"
      },
      "source": [
        "df1"
      ],
      "execution_count": 8,
      "outputs": [
        {
          "output_type": "execute_result",
          "data": {
            "text/html": [
              "<div>\n",
              "<style scoped>\n",
              "    .dataframe tbody tr th:only-of-type {\n",
              "        vertical-align: middle;\n",
              "    }\n",
              "\n",
              "    .dataframe tbody tr th {\n",
              "        vertical-align: top;\n",
              "    }\n",
              "\n",
              "    .dataframe thead th {\n",
              "        text-align: right;\n",
              "    }\n",
              "</style>\n",
              "<table border=\"1\" class=\"dataframe\">\n",
              "  <thead>\n",
              "    <tr style=\"text-align: right;\">\n",
              "      <th></th>\n",
              "      <th>sentiment</th>\n",
              "      <th>content</th>\n",
              "    </tr>\n",
              "  </thead>\n",
              "  <tbody>\n",
              "    <tr>\n",
              "      <th>1</th>\n",
              "      <td>[0, 1, 0, 0, 0]</td>\n",
              "      <td>Layin n bed with a headache  ughhhh...waitin o...</td>\n",
              "    </tr>\n",
              "    <tr>\n",
              "      <th>2</th>\n",
              "      <td>[0, 1, 0, 0, 0]</td>\n",
              "      <td>Funeral ceremony...gloomy friday...</td>\n",
              "    </tr>\n",
              "    <tr>\n",
              "      <th>5</th>\n",
              "      <td>[0, 0, 1, 0, 0]</td>\n",
              "      <td>Re-pinging @ghostridah14: why didn't you go to...</td>\n",
              "    </tr>\n",
              "    <tr>\n",
              "      <th>6</th>\n",
              "      <td>[0, 1, 0, 0, 0]</td>\n",
              "      <td>I should be sleep, but im not! thinking about ...</td>\n",
              "    </tr>\n",
              "    <tr>\n",
              "      <th>7</th>\n",
              "      <td>[0, 0, 1, 0, 0]</td>\n",
              "      <td>Hmmm. http://www.djhero.com/ is down</td>\n",
              "    </tr>\n",
              "    <tr>\n",
              "      <th>...</th>\n",
              "      <td>...</td>\n",
              "      <td>...</td>\n",
              "    </tr>\n",
              "    <tr>\n",
              "      <th>39986</th>\n",
              "      <td>[1, 0, 0, 0, 0]</td>\n",
              "      <td>going to watch boy in the striped pj's hope i ...</td>\n",
              "    </tr>\n",
              "    <tr>\n",
              "      <th>39987</th>\n",
              "      <td>[1, 0, 0, 0, 0]</td>\n",
              "      <td>gave the bikes a thorough wash, degrease it an...</td>\n",
              "    </tr>\n",
              "    <tr>\n",
              "      <th>39988</th>\n",
              "      <td>[1, 0, 0, 0, 0]</td>\n",
              "      <td>had SUCH and AMAZING time last night, McFly we...</td>\n",
              "    </tr>\n",
              "    <tr>\n",
              "      <th>39994</th>\n",
              "      <td>[1, 0, 0, 0, 0]</td>\n",
              "      <td>Succesfully following Tayla!!</td>\n",
              "    </tr>\n",
              "    <tr>\n",
              "      <th>39998</th>\n",
              "      <td>[1, 0, 0, 0, 0]</td>\n",
              "      <td>@niariley WASSUP BEAUTIFUL!!! FOLLOW ME!!  PEE...</td>\n",
              "    </tr>\n",
              "  </tbody>\n",
              "</table>\n",
              "<p>18833 rows × 2 columns</p>\n",
              "</div>"
            ],
            "text/plain": [
              "             sentiment                                            content\n",
              "1      [0, 1, 0, 0, 0]  Layin n bed with a headache  ughhhh...waitin o...\n",
              "2      [0, 1, 0, 0, 0]                Funeral ceremony...gloomy friday...\n",
              "5      [0, 0, 1, 0, 0]  Re-pinging @ghostridah14: why didn't you go to...\n",
              "6      [0, 1, 0, 0, 0]  I should be sleep, but im not! thinking about ...\n",
              "7      [0, 0, 1, 0, 0]               Hmmm. http://www.djhero.com/ is down\n",
              "...                ...                                                ...\n",
              "39986  [1, 0, 0, 0, 0]  going to watch boy in the striped pj's hope i ...\n",
              "39987  [1, 0, 0, 0, 0]  gave the bikes a thorough wash, degrease it an...\n",
              "39988  [1, 0, 0, 0, 0]  had SUCH and AMAZING time last night, McFly we...\n",
              "39994  [1, 0, 0, 0, 0]                      Succesfully following Tayla!!\n",
              "39998  [1, 0, 0, 0, 0]  @niariley WASSUP BEAUTIFUL!!! FOLLOW ME!!  PEE...\n",
              "\n",
              "[18833 rows x 2 columns]"
            ]
          },
          "metadata": {
            "tags": []
          },
          "execution_count": 8
        }
      ]
    },
    {
      "cell_type": "code",
      "metadata": {
        "id": "YNjn430z8ReU"
      },
      "source": [
        "# BERT tokenizer do the preprocessing by itself, so usually we don't benefit from standard preprocessing."
      ],
      "execution_count": 9,
      "outputs": []
    },
    {
      "cell_type": "code",
      "metadata": {
        "colab": {
          "base_uri": "https://localhost:8080/"
        },
        "id": "IvMv04lj80eg",
        "outputId": "3eaea7bd-db76-4b78-8b4d-27cf7a76e057"
      },
      "source": [
        "df1.dtypes"
      ],
      "execution_count": 10,
      "outputs": [
        {
          "output_type": "execute_result",
          "data": {
            "text/plain": [
              "sentiment    object\n",
              "content      object\n",
              "dtype: object"
            ]
          },
          "metadata": {
            "tags": []
          },
          "execution_count": 10
        }
      ]
    },
    {
      "cell_type": "code",
      "metadata": {
        "id": "X7X0KEgs9_OB"
      },
      "source": [
        "df1.columns = ['target', 'input']"
      ],
      "execution_count": 11,
      "outputs": []
    },
    {
      "cell_type": "code",
      "metadata": {
        "colab": {
          "base_uri": "https://localhost:8080/",
          "height": 0
        },
        "id": "XcP3sgB0-WEg",
        "outputId": "58c4bc1e-a7c7-4d76-8b44-e8233395f413"
      },
      "source": [
        "df1=df1.reindex(columns=['input', 'target'])\r\n",
        "df1"
      ],
      "execution_count": 12,
      "outputs": [
        {
          "output_type": "execute_result",
          "data": {
            "text/html": [
              "<div>\n",
              "<style scoped>\n",
              "    .dataframe tbody tr th:only-of-type {\n",
              "        vertical-align: middle;\n",
              "    }\n",
              "\n",
              "    .dataframe tbody tr th {\n",
              "        vertical-align: top;\n",
              "    }\n",
              "\n",
              "    .dataframe thead th {\n",
              "        text-align: right;\n",
              "    }\n",
              "</style>\n",
              "<table border=\"1\" class=\"dataframe\">\n",
              "  <thead>\n",
              "    <tr style=\"text-align: right;\">\n",
              "      <th></th>\n",
              "      <th>input</th>\n",
              "      <th>target</th>\n",
              "    </tr>\n",
              "  </thead>\n",
              "  <tbody>\n",
              "    <tr>\n",
              "      <th>1</th>\n",
              "      <td>Layin n bed with a headache  ughhhh...waitin o...</td>\n",
              "      <td>[0, 1, 0, 0, 0]</td>\n",
              "    </tr>\n",
              "    <tr>\n",
              "      <th>2</th>\n",
              "      <td>Funeral ceremony...gloomy friday...</td>\n",
              "      <td>[0, 1, 0, 0, 0]</td>\n",
              "    </tr>\n",
              "    <tr>\n",
              "      <th>5</th>\n",
              "      <td>Re-pinging @ghostridah14: why didn't you go to...</td>\n",
              "      <td>[0, 0, 1, 0, 0]</td>\n",
              "    </tr>\n",
              "    <tr>\n",
              "      <th>6</th>\n",
              "      <td>I should be sleep, but im not! thinking about ...</td>\n",
              "      <td>[0, 1, 0, 0, 0]</td>\n",
              "    </tr>\n",
              "    <tr>\n",
              "      <th>7</th>\n",
              "      <td>Hmmm. http://www.djhero.com/ is down</td>\n",
              "      <td>[0, 0, 1, 0, 0]</td>\n",
              "    </tr>\n",
              "    <tr>\n",
              "      <th>...</th>\n",
              "      <td>...</td>\n",
              "      <td>...</td>\n",
              "    </tr>\n",
              "    <tr>\n",
              "      <th>39986</th>\n",
              "      <td>going to watch boy in the striped pj's hope i ...</td>\n",
              "      <td>[1, 0, 0, 0, 0]</td>\n",
              "    </tr>\n",
              "    <tr>\n",
              "      <th>39987</th>\n",
              "      <td>gave the bikes a thorough wash, degrease it an...</td>\n",
              "      <td>[1, 0, 0, 0, 0]</td>\n",
              "    </tr>\n",
              "    <tr>\n",
              "      <th>39988</th>\n",
              "      <td>had SUCH and AMAZING time last night, McFly we...</td>\n",
              "      <td>[1, 0, 0, 0, 0]</td>\n",
              "    </tr>\n",
              "    <tr>\n",
              "      <th>39994</th>\n",
              "      <td>Succesfully following Tayla!!</td>\n",
              "      <td>[1, 0, 0, 0, 0]</td>\n",
              "    </tr>\n",
              "    <tr>\n",
              "      <th>39998</th>\n",
              "      <td>@niariley WASSUP BEAUTIFUL!!! FOLLOW ME!!  PEE...</td>\n",
              "      <td>[1, 0, 0, 0, 0]</td>\n",
              "    </tr>\n",
              "  </tbody>\n",
              "</table>\n",
              "<p>18833 rows × 2 columns</p>\n",
              "</div>"
            ],
            "text/plain": [
              "                                                   input           target\n",
              "1      Layin n bed with a headache  ughhhh...waitin o...  [0, 1, 0, 0, 0]\n",
              "2                    Funeral ceremony...gloomy friday...  [0, 1, 0, 0, 0]\n",
              "5      Re-pinging @ghostridah14: why didn't you go to...  [0, 0, 1, 0, 0]\n",
              "6      I should be sleep, but im not! thinking about ...  [0, 1, 0, 0, 0]\n",
              "7                   Hmmm. http://www.djhero.com/ is down  [0, 0, 1, 0, 0]\n",
              "...                                                  ...              ...\n",
              "39986  going to watch boy in the striped pj's hope i ...  [1, 0, 0, 0, 0]\n",
              "39987  gave the bikes a thorough wash, degrease it an...  [1, 0, 0, 0, 0]\n",
              "39988  had SUCH and AMAZING time last night, McFly we...  [1, 0, 0, 0, 0]\n",
              "39994                      Succesfully following Tayla!!  [1, 0, 0, 0, 0]\n",
              "39998  @niariley WASSUP BEAUTIFUL!!! FOLLOW ME!!  PEE...  [1, 0, 0, 0, 0]\n",
              "\n",
              "[18833 rows x 2 columns]"
            ]
          },
          "metadata": {
            "tags": []
          },
          "execution_count": 12
        }
      ]
    },
    {
      "cell_type": "code",
      "metadata": {
        "colab": {
          "base_uri": "https://localhost:8080/"
        },
        "id": "hzRiYXQK_Q2X",
        "outputId": "31d4adbb-c8e8-4973-9364-40a9edf222d7"
      },
      "source": [
        "len(df1)"
      ],
      "execution_count": 13,
      "outputs": [
        {
          "output_type": "execute_result",
          "data": {
            "text/plain": [
              "18833"
            ]
          },
          "metadata": {
            "tags": []
          },
          "execution_count": 13
        }
      ]
    },
    {
      "cell_type": "markdown",
      "metadata": {
        "id": "z_pJldwWHA5x"
      },
      "source": [
        ""
      ]
    },
    {
      "cell_type": "markdown",
      "metadata": {
        "id": "mUf-EXYmHBgq"
      },
      "source": [
        "# 2- ISEAR dataset (not used)"
      ]
    },
    {
      "cell_type": "code",
      "metadata": {
        "id": "tgvH_gDiBp4N"
      },
      "source": [
        "df2 = pd.read_csv('https://github.com/bhargav1000/textclassifier/blob/master/original_dataset/ISEAR/DATA.csv?raw=true', header=None)"
      ],
      "execution_count": 14,
      "outputs": []
    },
    {
      "cell_type": "code",
      "metadata": {
        "colab": {
          "base_uri": "https://localhost:8080/",
          "height": 0
        },
        "id": "hC6-AX3qEO0K",
        "outputId": "88b9a102-e7f2-48b3-c944-0ef37d796326"
      },
      "source": [
        "df2"
      ],
      "execution_count": 15,
      "outputs": [
        {
          "output_type": "execute_result",
          "data": {
            "text/html": [
              "<div>\n",
              "<style scoped>\n",
              "    .dataframe tbody tr th:only-of-type {\n",
              "        vertical-align: middle;\n",
              "    }\n",
              "\n",
              "    .dataframe tbody tr th {\n",
              "        vertical-align: top;\n",
              "    }\n",
              "\n",
              "    .dataframe thead th {\n",
              "        text-align: right;\n",
              "    }\n",
              "</style>\n",
              "<table border=\"1\" class=\"dataframe\">\n",
              "  <thead>\n",
              "    <tr style=\"text-align: right;\">\n",
              "      <th></th>\n",
              "      <th>0</th>\n",
              "      <th>1</th>\n",
              "    </tr>\n",
              "  </thead>\n",
              "  <tbody>\n",
              "    <tr>\n",
              "      <th>0</th>\n",
              "      <td>joy</td>\n",
              "      <td>[ On days when I feel close to my partner and ...</td>\n",
              "    </tr>\n",
              "    <tr>\n",
              "      <th>1</th>\n",
              "      <td>fear</td>\n",
              "      <td>Every time I imagine that someone I love or I ...</td>\n",
              "    </tr>\n",
              "    <tr>\n",
              "      <th>2</th>\n",
              "      <td>anger</td>\n",
              "      <td>When I had been obviously unjustly treated and...</td>\n",
              "    </tr>\n",
              "    <tr>\n",
              "      <th>3</th>\n",
              "      <td>sadness</td>\n",
              "      <td>When I think about the short time that we live...</td>\n",
              "    </tr>\n",
              "    <tr>\n",
              "      <th>4</th>\n",
              "      <td>disgust</td>\n",
              "      <td>At a gathering I found myself involuntarily si...</td>\n",
              "    </tr>\n",
              "    <tr>\n",
              "      <th>...</th>\n",
              "      <td>...</td>\n",
              "      <td>...</td>\n",
              "    </tr>\n",
              "    <tr>\n",
              "      <th>7647</th>\n",
              "      <td>anger</td>\n",
              "      <td>Two years back someone invited me to be the tu...</td>\n",
              "    </tr>\n",
              "    <tr>\n",
              "      <th>7648</th>\n",
              "      <td>sadness</td>\n",
              "      <td>I had taken the responsibility to do something...</td>\n",
              "    </tr>\n",
              "    <tr>\n",
              "      <th>7649</th>\n",
              "      <td>disgust</td>\n",
              "      <td>I was at home and I heard a loud sound of spit...</td>\n",
              "    </tr>\n",
              "    <tr>\n",
              "      <th>7650</th>\n",
              "      <td>shame</td>\n",
              "      <td>I did not do the homework that the teacher had...</td>\n",
              "    </tr>\n",
              "    <tr>\n",
              "      <th>7651</th>\n",
              "      <td>guilt</td>\n",
              "      <td>I had shouted at my younger brother and he was...</td>\n",
              "    </tr>\n",
              "  </tbody>\n",
              "</table>\n",
              "<p>7652 rows × 2 columns</p>\n",
              "</div>"
            ],
            "text/plain": [
              "            0                                                  1\n",
              "0         joy  [ On days when I feel close to my partner and ...\n",
              "1        fear  Every time I imagine that someone I love or I ...\n",
              "2       anger  When I had been obviously unjustly treated and...\n",
              "3     sadness  When I think about the short time that we live...\n",
              "4     disgust  At a gathering I found myself involuntarily si...\n",
              "...       ...                                                ...\n",
              "7647    anger  Two years back someone invited me to be the tu...\n",
              "7648  sadness  I had taken the responsibility to do something...\n",
              "7649  disgust  I was at home and I heard a loud sound of spit...\n",
              "7650    shame  I did not do the homework that the teacher had...\n",
              "7651    guilt  I had shouted at my younger brother and he was...\n",
              "\n",
              "[7652 rows x 2 columns]"
            ]
          },
          "metadata": {
            "tags": []
          },
          "execution_count": 15
        }
      ]
    },
    {
      "cell_type": "code",
      "metadata": {
        "colab": {
          "base_uri": "https://localhost:8080/",
          "height": 0
        },
        "id": "K6DzFmJcFIV0",
        "outputId": "b2c17d7a-f5ba-4240-f7f0-e4def0b91668"
      },
      "source": [
        "df2.columns = ['target', 'input']\r\n",
        "df2=df2.reindex(columns=['input', 'target'])\r\n",
        "df2"
      ],
      "execution_count": 16,
      "outputs": [
        {
          "output_type": "execute_result",
          "data": {
            "text/html": [
              "<div>\n",
              "<style scoped>\n",
              "    .dataframe tbody tr th:only-of-type {\n",
              "        vertical-align: middle;\n",
              "    }\n",
              "\n",
              "    .dataframe tbody tr th {\n",
              "        vertical-align: top;\n",
              "    }\n",
              "\n",
              "    .dataframe thead th {\n",
              "        text-align: right;\n",
              "    }\n",
              "</style>\n",
              "<table border=\"1\" class=\"dataframe\">\n",
              "  <thead>\n",
              "    <tr style=\"text-align: right;\">\n",
              "      <th></th>\n",
              "      <th>input</th>\n",
              "      <th>target</th>\n",
              "    </tr>\n",
              "  </thead>\n",
              "  <tbody>\n",
              "    <tr>\n",
              "      <th>0</th>\n",
              "      <td>[ On days when I feel close to my partner and ...</td>\n",
              "      <td>joy</td>\n",
              "    </tr>\n",
              "    <tr>\n",
              "      <th>1</th>\n",
              "      <td>Every time I imagine that someone I love or I ...</td>\n",
              "      <td>fear</td>\n",
              "    </tr>\n",
              "    <tr>\n",
              "      <th>2</th>\n",
              "      <td>When I had been obviously unjustly treated and...</td>\n",
              "      <td>anger</td>\n",
              "    </tr>\n",
              "    <tr>\n",
              "      <th>3</th>\n",
              "      <td>When I think about the short time that we live...</td>\n",
              "      <td>sadness</td>\n",
              "    </tr>\n",
              "    <tr>\n",
              "      <th>4</th>\n",
              "      <td>At a gathering I found myself involuntarily si...</td>\n",
              "      <td>disgust</td>\n",
              "    </tr>\n",
              "    <tr>\n",
              "      <th>...</th>\n",
              "      <td>...</td>\n",
              "      <td>...</td>\n",
              "    </tr>\n",
              "    <tr>\n",
              "      <th>7647</th>\n",
              "      <td>Two years back someone invited me to be the tu...</td>\n",
              "      <td>anger</td>\n",
              "    </tr>\n",
              "    <tr>\n",
              "      <th>7648</th>\n",
              "      <td>I had taken the responsibility to do something...</td>\n",
              "      <td>sadness</td>\n",
              "    </tr>\n",
              "    <tr>\n",
              "      <th>7649</th>\n",
              "      <td>I was at home and I heard a loud sound of spit...</td>\n",
              "      <td>disgust</td>\n",
              "    </tr>\n",
              "    <tr>\n",
              "      <th>7650</th>\n",
              "      <td>I did not do the homework that the teacher had...</td>\n",
              "      <td>shame</td>\n",
              "    </tr>\n",
              "    <tr>\n",
              "      <th>7651</th>\n",
              "      <td>I had shouted at my younger brother and he was...</td>\n",
              "      <td>guilt</td>\n",
              "    </tr>\n",
              "  </tbody>\n",
              "</table>\n",
              "<p>7652 rows × 2 columns</p>\n",
              "</div>"
            ],
            "text/plain": [
              "                                                  input   target\n",
              "0     [ On days when I feel close to my partner and ...      joy\n",
              "1     Every time I imagine that someone I love or I ...     fear\n",
              "2     When I had been obviously unjustly treated and...    anger\n",
              "3     When I think about the short time that we live...  sadness\n",
              "4     At a gathering I found myself involuntarily si...  disgust\n",
              "...                                                 ...      ...\n",
              "7647  Two years back someone invited me to be the tu...    anger\n",
              "7648  I had taken the responsibility to do something...  sadness\n",
              "7649  I was at home and I heard a loud sound of spit...  disgust\n",
              "7650  I did not do the homework that the teacher had...    shame\n",
              "7651  I had shouted at my younger brother and he was...    guilt\n",
              "\n",
              "[7652 rows x 2 columns]"
            ]
          },
          "metadata": {
            "tags": []
          },
          "execution_count": 16
        }
      ]
    },
    {
      "cell_type": "code",
      "metadata": {
        "colab": {
          "base_uri": "https://localhost:8080/"
        },
        "id": "jGqr8OyoGh2g",
        "outputId": "d703cf27-689c-4730-b0d5-65be837ace69"
      },
      "source": [
        "df2['target'].unique()"
      ],
      "execution_count": 17,
      "outputs": [
        {
          "output_type": "execute_result",
          "data": {
            "text/plain": [
              "array(['joy', 'fear', 'anger', 'sadness', 'disgust', 'shame', 'guilt'],\n",
              "      dtype=object)"
            ]
          },
          "metadata": {
            "tags": []
          },
          "execution_count": 17
        }
      ]
    },
    {
      "cell_type": "code",
      "metadata": {
        "colab": {
          "base_uri": "https://localhost:8080/",
          "height": 0
        },
        "id": "lvxmDBJzGIQs",
        "outputId": "df3341e0-f6a5-435a-e4f1-a57347befced"
      },
      "source": [
        "df2.loc[df2['target'].isin(['guilt', 'anger'])]"
      ],
      "execution_count": 18,
      "outputs": [
        {
          "output_type": "execute_result",
          "data": {
            "text/html": [
              "<div>\n",
              "<style scoped>\n",
              "    .dataframe tbody tr th:only-of-type {\n",
              "        vertical-align: middle;\n",
              "    }\n",
              "\n",
              "    .dataframe tbody tr th {\n",
              "        vertical-align: top;\n",
              "    }\n",
              "\n",
              "    .dataframe thead th {\n",
              "        text-align: right;\n",
              "    }\n",
              "</style>\n",
              "<table border=\"1\" class=\"dataframe\">\n",
              "  <thead>\n",
              "    <tr style=\"text-align: right;\">\n",
              "      <th></th>\n",
              "      <th>input</th>\n",
              "      <th>target</th>\n",
              "    </tr>\n",
              "  </thead>\n",
              "  <tbody>\n",
              "    <tr>\n",
              "      <th>2</th>\n",
              "      <td>When I had been obviously unjustly treated and...</td>\n",
              "      <td>anger</td>\n",
              "    </tr>\n",
              "    <tr>\n",
              "      <th>6</th>\n",
              "      <td>I feel guilty when when I realize that I consi...</td>\n",
              "      <td>guilt</td>\n",
              "    </tr>\n",
              "    <tr>\n",
              "      <th>9</th>\n",
              "      <td>When a car is overtaking another and I am forc...</td>\n",
              "      <td>anger</td>\n",
              "    </tr>\n",
              "    <tr>\n",
              "      <th>13</th>\n",
              "      <td>When I think that I do not study enough.  Afte...</td>\n",
              "      <td>guilt</td>\n",
              "    </tr>\n",
              "    <tr>\n",
              "      <th>16</th>\n",
              "      <td>When one is unjustly accused of something one ...</td>\n",
              "      <td>anger</td>\n",
              "    </tr>\n",
              "    <tr>\n",
              "      <th>...</th>\n",
              "      <td>...</td>\n",
              "      <td>...</td>\n",
              "    </tr>\n",
              "    <tr>\n",
              "      <th>7637</th>\n",
              "      <td>In the past I used to think that my mother was...</td>\n",
              "      <td>guilt</td>\n",
              "    </tr>\n",
              "    <tr>\n",
              "      <th>7640</th>\n",
              "      <td>In September 1984, I was forced to live with s...</td>\n",
              "      <td>anger</td>\n",
              "    </tr>\n",
              "    <tr>\n",
              "      <th>7644</th>\n",
              "      <td>I lied to one of my best friends.</td>\n",
              "      <td>guilt</td>\n",
              "    </tr>\n",
              "    <tr>\n",
              "      <th>7647</th>\n",
              "      <td>Two years back someone invited me to be the tu...</td>\n",
              "      <td>anger</td>\n",
              "    </tr>\n",
              "    <tr>\n",
              "      <th>7651</th>\n",
              "      <td>I had shouted at my younger brother and he was...</td>\n",
              "      <td>guilt</td>\n",
              "    </tr>\n",
              "  </tbody>\n",
              "</table>\n",
              "<p>2185 rows × 2 columns</p>\n",
              "</div>"
            ],
            "text/plain": [
              "                                                  input target\n",
              "2     When I had been obviously unjustly treated and...  anger\n",
              "6     I feel guilty when when I realize that I consi...  guilt\n",
              "9     When a car is overtaking another and I am forc...  anger\n",
              "13    When I think that I do not study enough.  Afte...  guilt\n",
              "16    When one is unjustly accused of something one ...  anger\n",
              "...                                                 ...    ...\n",
              "7637  In the past I used to think that my mother was...  guilt\n",
              "7640  In September 1984, I was forced to live with s...  anger\n",
              "7644                  I lied to one of my best friends.  guilt\n",
              "7647  Two years back someone invited me to be the tu...  anger\n",
              "7651  I had shouted at my younger brother and he was...  guilt\n",
              "\n",
              "[2185 rows x 2 columns]"
            ]
          },
          "metadata": {
            "tags": []
          },
          "execution_count": 18
        }
      ]
    },
    {
      "cell_type": "code",
      "metadata": {
        "colab": {
          "base_uri": "https://localhost:8080/"
        },
        "id": "j6fTI4WWGYzr",
        "outputId": "a6dca7bf-9f5b-4132-bcbb-7410d22bc637"
      },
      "source": [
        "df2['target'].value_counts()"
      ],
      "execution_count": 19,
      "outputs": [
        {
          "output_type": "execute_result",
          "data": {
            "text/plain": [
              "shame      1094\n",
              "sadness    1094\n",
              "disgust    1094\n",
              "anger      1094\n",
              "fear       1093\n",
              "joy        1092\n",
              "guilt      1091\n",
              "Name: target, dtype: int64"
            ]
          },
          "metadata": {
            "tags": []
          },
          "execution_count": 19
        }
      ]
    },
    {
      "cell_type": "code",
      "metadata": {
        "id": "ID0YgsHVHQHB"
      },
      "source": [
        "df2 = df2.loc[df2['target'].isin(['guilt', 'anger'])]\r\n"
      ],
      "execution_count": 20,
      "outputs": []
    },
    {
      "cell_type": "code",
      "metadata": {
        "colab": {
          "base_uri": "https://localhost:8080/",
          "height": 0
        },
        "id": "hwzxk15KG1Kk",
        "outputId": "b0ba0250-30c1-4373-fbf0-f56db58ac7c9"
      },
      "source": [
        "df2['target'] = df2['target'].map(lambda s: [0, 0, 0, int(s=='guilt'), int(s=='anger'), 0])\r\n",
        "df2"
      ],
      "execution_count": 21,
      "outputs": [
        {
          "output_type": "stream",
          "text": [
            "/usr/local/lib/python3.7/dist-packages/ipykernel_launcher.py:1: SettingWithCopyWarning: \n",
            "A value is trying to be set on a copy of a slice from a DataFrame.\n",
            "Try using .loc[row_indexer,col_indexer] = value instead\n",
            "\n",
            "See the caveats in the documentation: https://pandas.pydata.org/pandas-docs/stable/user_guide/indexing.html#returning-a-view-versus-a-copy\n",
            "  \"\"\"Entry point for launching an IPython kernel.\n"
          ],
          "name": "stderr"
        },
        {
          "output_type": "execute_result",
          "data": {
            "text/html": [
              "<div>\n",
              "<style scoped>\n",
              "    .dataframe tbody tr th:only-of-type {\n",
              "        vertical-align: middle;\n",
              "    }\n",
              "\n",
              "    .dataframe tbody tr th {\n",
              "        vertical-align: top;\n",
              "    }\n",
              "\n",
              "    .dataframe thead th {\n",
              "        text-align: right;\n",
              "    }\n",
              "</style>\n",
              "<table border=\"1\" class=\"dataframe\">\n",
              "  <thead>\n",
              "    <tr style=\"text-align: right;\">\n",
              "      <th></th>\n",
              "      <th>input</th>\n",
              "      <th>target</th>\n",
              "    </tr>\n",
              "  </thead>\n",
              "  <tbody>\n",
              "    <tr>\n",
              "      <th>2</th>\n",
              "      <td>When I had been obviously unjustly treated and...</td>\n",
              "      <td>[0, 0, 0, 0, 1, 0]</td>\n",
              "    </tr>\n",
              "    <tr>\n",
              "      <th>6</th>\n",
              "      <td>I feel guilty when when I realize that I consi...</td>\n",
              "      <td>[0, 0, 0, 1, 0, 0]</td>\n",
              "    </tr>\n",
              "    <tr>\n",
              "      <th>9</th>\n",
              "      <td>When a car is overtaking another and I am forc...</td>\n",
              "      <td>[0, 0, 0, 0, 1, 0]</td>\n",
              "    </tr>\n",
              "    <tr>\n",
              "      <th>13</th>\n",
              "      <td>When I think that I do not study enough.  Afte...</td>\n",
              "      <td>[0, 0, 0, 1, 0, 0]</td>\n",
              "    </tr>\n",
              "    <tr>\n",
              "      <th>16</th>\n",
              "      <td>When one is unjustly accused of something one ...</td>\n",
              "      <td>[0, 0, 0, 0, 1, 0]</td>\n",
              "    </tr>\n",
              "    <tr>\n",
              "      <th>...</th>\n",
              "      <td>...</td>\n",
              "      <td>...</td>\n",
              "    </tr>\n",
              "    <tr>\n",
              "      <th>7637</th>\n",
              "      <td>In the past I used to think that my mother was...</td>\n",
              "      <td>[0, 0, 0, 1, 0, 0]</td>\n",
              "    </tr>\n",
              "    <tr>\n",
              "      <th>7640</th>\n",
              "      <td>In September 1984, I was forced to live with s...</td>\n",
              "      <td>[0, 0, 0, 0, 1, 0]</td>\n",
              "    </tr>\n",
              "    <tr>\n",
              "      <th>7644</th>\n",
              "      <td>I lied to one of my best friends.</td>\n",
              "      <td>[0, 0, 0, 1, 0, 0]</td>\n",
              "    </tr>\n",
              "    <tr>\n",
              "      <th>7647</th>\n",
              "      <td>Two years back someone invited me to be the tu...</td>\n",
              "      <td>[0, 0, 0, 0, 1, 0]</td>\n",
              "    </tr>\n",
              "    <tr>\n",
              "      <th>7651</th>\n",
              "      <td>I had shouted at my younger brother and he was...</td>\n",
              "      <td>[0, 0, 0, 1, 0, 0]</td>\n",
              "    </tr>\n",
              "  </tbody>\n",
              "</table>\n",
              "<p>2185 rows × 2 columns</p>\n",
              "</div>"
            ],
            "text/plain": [
              "                                                  input              target\n",
              "2     When I had been obviously unjustly treated and...  [0, 0, 0, 0, 1, 0]\n",
              "6     I feel guilty when when I realize that I consi...  [0, 0, 0, 1, 0, 0]\n",
              "9     When a car is overtaking another and I am forc...  [0, 0, 0, 0, 1, 0]\n",
              "13    When I think that I do not study enough.  Afte...  [0, 0, 0, 1, 0, 0]\n",
              "16    When one is unjustly accused of something one ...  [0, 0, 0, 0, 1, 0]\n",
              "...                                                 ...                 ...\n",
              "7637  In the past I used to think that my mother was...  [0, 0, 0, 1, 0, 0]\n",
              "7640  In September 1984, I was forced to live with s...  [0, 0, 0, 0, 1, 0]\n",
              "7644                  I lied to one of my best friends.  [0, 0, 0, 1, 0, 0]\n",
              "7647  Two years back someone invited me to be the tu...  [0, 0, 0, 0, 1, 0]\n",
              "7651  I had shouted at my younger brother and he was...  [0, 0, 0, 1, 0, 0]\n",
              "\n",
              "[2185 rows x 2 columns]"
            ]
          },
          "metadata": {
            "tags": []
          },
          "execution_count": 21
        }
      ]
    },
    {
      "cell_type": "code",
      "metadata": {
        "colab": {
          "base_uri": "https://localhost:8080/"
        },
        "id": "O4OCiPZzJI0a",
        "outputId": "bc7feaa8-0d7c-4f73-96c1-cce9d94fec80"
      },
      "source": [
        "len(df2)"
      ],
      "execution_count": 22,
      "outputs": [
        {
          "output_type": "execute_result",
          "data": {
            "text/plain": [
              "2185"
            ]
          },
          "metadata": {
            "tags": []
          },
          "execution_count": 22
        }
      ]
    },
    {
      "cell_type": "markdown",
      "metadata": {
        "id": "-JH45RlqJlee"
      },
      "source": [
        "# 3- CoNLL-2010"
      ]
    },
    {
      "cell_type": "code",
      "metadata": {
        "id": "WhOFkWE7JXKj"
      },
      "source": [
        "df3 = pd.read_json('https://github.com/meyersbs/uncertainty/blob/master/uncertainty/data/merged.json?raw=true')"
      ],
      "execution_count": 23,
      "outputs": []
    },
    {
      "cell_type": "code",
      "metadata": {
        "colab": {
          "base_uri": "https://localhost:8080/"
        },
        "id": "2J66IaNnPwMI",
        "outputId": "68946527-7cc3-46ad-a242-01b3c360b07c"
      },
      "source": [
        "df3.iloc[43345], df3.iloc[43345]['ccue']"
      ],
      "execution_count": 24,
      "outputs": [
        {
          "output_type": "execute_result",
          "data": {
            "text/plain": [
              "(text    To determine whether either or both of these t...\n",
              " ccue    {'speculation_hypo_investigation _': ['determi...\n",
              " Name: 43345, dtype: object,\n",
              " {'speculation_hypo_investigation _': ['determine', 'whether', 'analyzed'],\n",
              "  'speculation_modal_probable_': ['or']})"
            ]
          },
          "metadata": {
            "tags": []
          },
          "execution_count": 24
        }
      ]
    },
    {
      "cell_type": "code",
      "metadata": {
        "colab": {
          "base_uri": "https://localhost:8080/",
          "height": 0
        },
        "id": "1Qpg7fubPlqe",
        "outputId": "9ccca722-a96e-43e7-884f-0152d69d7fb3"
      },
      "source": [
        "df3.loc[df3['ccue'] != {}]"
      ],
      "execution_count": 25,
      "outputs": [
        {
          "output_type": "execute_result",
          "data": {
            "text/html": [
              "<div>\n",
              "<style scoped>\n",
              "    .dataframe tbody tr th:only-of-type {\n",
              "        vertical-align: middle;\n",
              "    }\n",
              "\n",
              "    .dataframe tbody tr th {\n",
              "        vertical-align: top;\n",
              "    }\n",
              "\n",
              "    .dataframe thead th {\n",
              "        text-align: right;\n",
              "    }\n",
              "</style>\n",
              "<table border=\"1\" class=\"dataframe\">\n",
              "  <thead>\n",
              "    <tr style=\"text-align: right;\">\n",
              "      <th></th>\n",
              "      <th>text</th>\n",
              "      <th>ccue</th>\n",
              "    </tr>\n",
              "  </thead>\n",
              "  <tbody>\n",
              "    <tr>\n",
              "      <th>43</th>\n",
              "      <td>Upon finding the two inspectors interviewing h...</td>\n",
              "      <td>{'speculation_hypo_doxastic _': ['alleged', 'a...</td>\n",
              "    </tr>\n",
              "    <tr>\n",
              "      <th>49</th>\n",
              "      <td>'Juan Gelman', (Born in Buenos Aires on the 3r...</td>\n",
              "      <td>{'speculation_modal_probable_': ['possibly'], ...</td>\n",
              "    </tr>\n",
              "    <tr>\n",
              "      <th>58</th>\n",
              "      <td>In practice, brain tumors are generally consid...</td>\n",
              "      <td>{'speculation_hypo_doxastic _': ['considered']}</td>\n",
              "    </tr>\n",
              "    <tr>\n",
              "      <th>61</th>\n",
              "      <td>Depending on the type, extent, and location of...</td>\n",
              "      <td>{'speculation_modal_probable_': ['may']}</td>\n",
              "    </tr>\n",
              "    <tr>\n",
              "      <th>62</th>\n",
              "      <td>For instance, the first line treatment for men...</td>\n",
              "      <td>{'speculation_modal_probable_': ['may']}</td>\n",
              "    </tr>\n",
              "    <tr>\n",
              "      <th>...</th>\n",
              "      <td>...</td>\n",
              "      <td>...</td>\n",
              "    </tr>\n",
              "    <tr>\n",
              "      <th>43327</th>\n",
              "      <td>In addition, extracellular factor(s) released ...</td>\n",
              "      <td>{'speculation_modal_probable_': ['might']}</td>\n",
              "    </tr>\n",
              "    <tr>\n",
              "      <th>43332</th>\n",
              "      <td>The importance of these observations in the pa...</td>\n",
              "      <td>{'speculation_hypo_doxastic _': ['thought']}</td>\n",
              "    </tr>\n",
              "    <tr>\n",
              "      <th>43334</th>\n",
              "      <td>The mechanism of corticosteroid resistance in ...</td>\n",
              "      <td>{'speculation_hypo_investigation _': ['studied']}</td>\n",
              "    </tr>\n",
              "    <tr>\n",
              "      <th>43340</th>\n",
              "      <td>These findings indicate that corticosteroid re...</td>\n",
              "      <td>{'speculation_modal_probable_': ['indicate']}</td>\n",
              "    </tr>\n",
              "    <tr>\n",
              "      <th>43345</th>\n",
              "      <td>To determine whether either or both of these t...</td>\n",
              "      <td>{'speculation_hypo_investigation _': ['determi...</td>\n",
              "    </tr>\n",
              "  </tbody>\n",
              "</table>\n",
              "<p>7258 rows × 2 columns</p>\n",
              "</div>"
            ],
            "text/plain": [
              "                                                    text                                               ccue\n",
              "43     Upon finding the two inspectors interviewing h...  {'speculation_hypo_doxastic _': ['alleged', 'a...\n",
              "49     'Juan Gelman', (Born in Buenos Aires on the 3r...  {'speculation_modal_probable_': ['possibly'], ...\n",
              "58     In practice, brain tumors are generally consid...    {'speculation_hypo_doxastic _': ['considered']}\n",
              "61     Depending on the type, extent, and location of...           {'speculation_modal_probable_': ['may']}\n",
              "62     For instance, the first line treatment for men...           {'speculation_modal_probable_': ['may']}\n",
              "...                                                  ...                                                ...\n",
              "43327  In addition, extracellular factor(s) released ...         {'speculation_modal_probable_': ['might']}\n",
              "43332  The importance of these observations in the pa...       {'speculation_hypo_doxastic _': ['thought']}\n",
              "43334  The mechanism of corticosteroid resistance in ...  {'speculation_hypo_investigation _': ['studied']}\n",
              "43340  These findings indicate that corticosteroid re...      {'speculation_modal_probable_': ['indicate']}\n",
              "43345  To determine whether either or both of these t...  {'speculation_hypo_investigation _': ['determi...\n",
              "\n",
              "[7258 rows x 2 columns]"
            ]
          },
          "metadata": {
            "tags": []
          },
          "execution_count": 25
        }
      ]
    },
    {
      "cell_type": "code",
      "metadata": {
        "colab": {
          "base_uri": "https://localhost:8080/"
        },
        "id": "sdgSMIbGQsv3",
        "outputId": "30ef72d3-794b-4d49-fc71-801780cc146d"
      },
      "source": [
        "df3.loc[df3['ccue'] != {}].shape"
      ],
      "execution_count": 26,
      "outputs": [
        {
          "output_type": "execute_result",
          "data": {
            "text/plain": [
              "(7258, 2)"
            ]
          },
          "metadata": {
            "tags": []
          },
          "execution_count": 26
        }
      ]
    },
    {
      "cell_type": "code",
      "metadata": {
        "colab": {
          "base_uri": "https://localhost:8080/",
          "height": 0
        },
        "id": "55dWtZQzRIgk",
        "outputId": "29d2fa66-de1e-4277-8925-8579117b2a0c"
      },
      "source": [
        "df3 = df3.loc[df3['ccue'] != {}]\r\n",
        "df3.columns = ['input', 'target']\r\n",
        "df3"
      ],
      "execution_count": 27,
      "outputs": [
        {
          "output_type": "execute_result",
          "data": {
            "text/html": [
              "<div>\n",
              "<style scoped>\n",
              "    .dataframe tbody tr th:only-of-type {\n",
              "        vertical-align: middle;\n",
              "    }\n",
              "\n",
              "    .dataframe tbody tr th {\n",
              "        vertical-align: top;\n",
              "    }\n",
              "\n",
              "    .dataframe thead th {\n",
              "        text-align: right;\n",
              "    }\n",
              "</style>\n",
              "<table border=\"1\" class=\"dataframe\">\n",
              "  <thead>\n",
              "    <tr style=\"text-align: right;\">\n",
              "      <th></th>\n",
              "      <th>input</th>\n",
              "      <th>target</th>\n",
              "    </tr>\n",
              "  </thead>\n",
              "  <tbody>\n",
              "    <tr>\n",
              "      <th>43</th>\n",
              "      <td>Upon finding the two inspectors interviewing h...</td>\n",
              "      <td>{'speculation_hypo_doxastic _': ['alleged', 'a...</td>\n",
              "    </tr>\n",
              "    <tr>\n",
              "      <th>49</th>\n",
              "      <td>'Juan Gelman', (Born in Buenos Aires on the 3r...</td>\n",
              "      <td>{'speculation_modal_probable_': ['possibly'], ...</td>\n",
              "    </tr>\n",
              "    <tr>\n",
              "      <th>58</th>\n",
              "      <td>In practice, brain tumors are generally consid...</td>\n",
              "      <td>{'speculation_hypo_doxastic _': ['considered']}</td>\n",
              "    </tr>\n",
              "    <tr>\n",
              "      <th>61</th>\n",
              "      <td>Depending on the type, extent, and location of...</td>\n",
              "      <td>{'speculation_modal_probable_': ['may']}</td>\n",
              "    </tr>\n",
              "    <tr>\n",
              "      <th>62</th>\n",
              "      <td>For instance, the first line treatment for men...</td>\n",
              "      <td>{'speculation_modal_probable_': ['may']}</td>\n",
              "    </tr>\n",
              "    <tr>\n",
              "      <th>...</th>\n",
              "      <td>...</td>\n",
              "      <td>...</td>\n",
              "    </tr>\n",
              "    <tr>\n",
              "      <th>43327</th>\n",
              "      <td>In addition, extracellular factor(s) released ...</td>\n",
              "      <td>{'speculation_modal_probable_': ['might']}</td>\n",
              "    </tr>\n",
              "    <tr>\n",
              "      <th>43332</th>\n",
              "      <td>The importance of these observations in the pa...</td>\n",
              "      <td>{'speculation_hypo_doxastic _': ['thought']}</td>\n",
              "    </tr>\n",
              "    <tr>\n",
              "      <th>43334</th>\n",
              "      <td>The mechanism of corticosteroid resistance in ...</td>\n",
              "      <td>{'speculation_hypo_investigation _': ['studied']}</td>\n",
              "    </tr>\n",
              "    <tr>\n",
              "      <th>43340</th>\n",
              "      <td>These findings indicate that corticosteroid re...</td>\n",
              "      <td>{'speculation_modal_probable_': ['indicate']}</td>\n",
              "    </tr>\n",
              "    <tr>\n",
              "      <th>43345</th>\n",
              "      <td>To determine whether either or both of these t...</td>\n",
              "      <td>{'speculation_hypo_investigation _': ['determi...</td>\n",
              "    </tr>\n",
              "  </tbody>\n",
              "</table>\n",
              "<p>7258 rows × 2 columns</p>\n",
              "</div>"
            ],
            "text/plain": [
              "                                                   input                                             target\n",
              "43     Upon finding the two inspectors interviewing h...  {'speculation_hypo_doxastic _': ['alleged', 'a...\n",
              "49     'Juan Gelman', (Born in Buenos Aires on the 3r...  {'speculation_modal_probable_': ['possibly'], ...\n",
              "58     In practice, brain tumors are generally consid...    {'speculation_hypo_doxastic _': ['considered']}\n",
              "61     Depending on the type, extent, and location of...           {'speculation_modal_probable_': ['may']}\n",
              "62     For instance, the first line treatment for men...           {'speculation_modal_probable_': ['may']}\n",
              "...                                                  ...                                                ...\n",
              "43327  In addition, extracellular factor(s) released ...         {'speculation_modal_probable_': ['might']}\n",
              "43332  The importance of these observations in the pa...       {'speculation_hypo_doxastic _': ['thought']}\n",
              "43334  The mechanism of corticosteroid resistance in ...  {'speculation_hypo_investigation _': ['studied']}\n",
              "43340  These findings indicate that corticosteroid re...      {'speculation_modal_probable_': ['indicate']}\n",
              "43345  To determine whether either or both of these t...  {'speculation_hypo_investigation _': ['determi...\n",
              "\n",
              "[7258 rows x 2 columns]"
            ]
          },
          "metadata": {
            "tags": []
          },
          "execution_count": 27
        }
      ]
    },
    {
      "cell_type": "code",
      "metadata": {
        "colab": {
          "base_uri": "https://localhost:8080/",
          "height": 0
        },
        "id": "SAJcOzjNRe4V",
        "outputId": "70f65f02-4ed1-481c-e988-5cdb0e0b3952"
      },
      "source": [
        "df3['target'] = df3['target'].map(lambda s: [0, 0, 0, 1, 0])\r\n",
        "df3.head()"
      ],
      "execution_count": 28,
      "outputs": [
        {
          "output_type": "execute_result",
          "data": {
            "text/html": [
              "<div>\n",
              "<style scoped>\n",
              "    .dataframe tbody tr th:only-of-type {\n",
              "        vertical-align: middle;\n",
              "    }\n",
              "\n",
              "    .dataframe tbody tr th {\n",
              "        vertical-align: top;\n",
              "    }\n",
              "\n",
              "    .dataframe thead th {\n",
              "        text-align: right;\n",
              "    }\n",
              "</style>\n",
              "<table border=\"1\" class=\"dataframe\">\n",
              "  <thead>\n",
              "    <tr style=\"text-align: right;\">\n",
              "      <th></th>\n",
              "      <th>input</th>\n",
              "      <th>target</th>\n",
              "    </tr>\n",
              "  </thead>\n",
              "  <tbody>\n",
              "    <tr>\n",
              "      <th>43</th>\n",
              "      <td>Upon finding the two inspectors interviewing h...</td>\n",
              "      <td>[0, 0, 0, 1, 0]</td>\n",
              "    </tr>\n",
              "    <tr>\n",
              "      <th>49</th>\n",
              "      <td>'Juan Gelman', (Born in Buenos Aires on the 3r...</td>\n",
              "      <td>[0, 0, 0, 1, 0]</td>\n",
              "    </tr>\n",
              "    <tr>\n",
              "      <th>58</th>\n",
              "      <td>In practice, brain tumors are generally consid...</td>\n",
              "      <td>[0, 0, 0, 1, 0]</td>\n",
              "    </tr>\n",
              "    <tr>\n",
              "      <th>61</th>\n",
              "      <td>Depending on the type, extent, and location of...</td>\n",
              "      <td>[0, 0, 0, 1, 0]</td>\n",
              "    </tr>\n",
              "    <tr>\n",
              "      <th>62</th>\n",
              "      <td>For instance, the first line treatment for men...</td>\n",
              "      <td>[0, 0, 0, 1, 0]</td>\n",
              "    </tr>\n",
              "  </tbody>\n",
              "</table>\n",
              "</div>"
            ],
            "text/plain": [
              "                                                input           target\n",
              "43  Upon finding the two inspectors interviewing h...  [0, 0, 0, 1, 0]\n",
              "49  'Juan Gelman', (Born in Buenos Aires on the 3r...  [0, 0, 0, 1, 0]\n",
              "58  In practice, brain tumors are generally consid...  [0, 0, 0, 1, 0]\n",
              "61  Depending on the type, extent, and location of...  [0, 0, 0, 1, 0]\n",
              "62  For instance, the first line treatment for men...  [0, 0, 0, 1, 0]"
            ]
          },
          "metadata": {
            "tags": []
          },
          "execution_count": 28
        }
      ]
    },
    {
      "cell_type": "code",
      "metadata": {
        "colab": {
          "base_uri": "https://localhost:8080/"
        },
        "id": "bSkByaQaRyrU",
        "outputId": "28cb67c3-fbd6-41bf-ed9a-d7b03c981328"
      },
      "source": [
        "len(df3)"
      ],
      "execution_count": 29,
      "outputs": [
        {
          "output_type": "execute_result",
          "data": {
            "text/plain": [
              "7258"
            ]
          },
          "metadata": {
            "tags": []
          },
          "execution_count": 29
        }
      ]
    },
    {
      "cell_type": "markdown",
      "metadata": {
        "id": "zCb8fkiqefu2"
      },
      "source": [
        "# 4- Tensorflow dataset (goemotions)"
      ]
    },
    {
      "cell_type": "code",
      "metadata": {
        "id": "F23xANZken1e"
      },
      "source": [
        "!pip install -q tensorflow_datasets"
      ],
      "execution_count": 30,
      "outputs": []
    },
    {
      "cell_type": "code",
      "metadata": {
        "id": "2OSIb5dDe-lB"
      },
      "source": [
        "import tensorflow_datasets as tfds"
      ],
      "execution_count": 31,
      "outputs": []
    },
    {
      "cell_type": "code",
      "metadata": {
        "colab": {
          "base_uri": "https://localhost:8080/",
          "height": 356,
          "referenced_widgets": [
            "11007bd9eb804e1b9434621edb4d662e",
            "b30af11513e147ddb203a533be41df5a",
            "0ee16483ba184a0883ecd3b5a66bdb53",
            "b621f5a397b2448d9f49697d7226edaf",
            "ba8cdd94ebe1447fa1ada7985aef5fb7",
            "32b637e2532a4ff7bf1d2a312f462303",
            "1cb1a95cb5ac41c68661114cfa0f4eaa",
            "7f23ebcfed09457bb38ef223bdd9caae",
            "823b262b63144a0f9b9bce5d061208d7",
            "3f09817139be4804a7450c7c8a5dd7b8",
            "e863a453557542aba8c7ae8cec82d042",
            "44b9aed109304c5996360fafa048b634",
            "3b58fcd15f9247f88723e53943c22db5",
            "29c1c9b2f95a40bfbd1354f780f0add5",
            "c040cada1ac44c2b8634dbaf0cc607f9",
            "a8d9840c88dc4c8aa47f89a2449e7e1d",
            "2e41666de0cb41559b7307aab5657d8b",
            "bf4f26e6e47749d0a0da197bfd87d767",
            "d7da8f7da857435faec7ee2e427d84cc",
            "f86da04df2ae454fb7c3913c39fea70b",
            "6d6a3f3cfc7f4b839958d50624432a76",
            "1528f63ff552482fac6d6d06369610ff",
            "25e4b8577c294c0a80c99b2352375dd9",
            "7eb1d6f490904d9d8509c956729124d4",
            "009c81ef573a429a9d2d9677e32d48fb",
            "49e1937b49764b0ab163f45a18668974",
            "5623fac6f2214b5fbdd3223c80dec5af",
            "6700139ef5a4467ca092a6766b8eb69c",
            "7a8bcdf3fdbc4fcdafe051d25dc3e707",
            "9d79b11cc5e84fb7a6209eb524c6b027",
            "3c1e20c2979f49f7afe0effb13cac68c",
            "83d02dc6d735436980934de41473212e",
            "42d4659facd14239b49e7c30e68157d7",
            "26bdeee6e25e41a39746a5d05fab1f48",
            "b521993e31cc460f9f99842e21d4355c",
            "3a4e224829d44c0ba8398e7eefbf8894",
            "d6ea135e020c4163a6d3e42fded019f3",
            "30e3ad43335a4b4b8328a5d044c14d0d",
            "d326f6e9623545d1829a187b7ec3b9c3",
            "79d98b60c46a4727b7997ec85bf78906",
            "67fb3c3f30c749db94cfbf16d6d154cd",
            "32988647f4fd4b3d81c0f42699998fe8",
            "3da10397b79f49efa1c359855a64d320",
            "d93f0c0fdab245888d4a5f568c9fe756",
            "213c64bf7a884bc5b738ef43a13739bc",
            "f72aeb1fc56f4eb1ad616a6093de4a49",
            "821ac9e5bfbb43c1bab9f37adcfb8138",
            "7dbd1f35f5314a2a8ba495c58dde2237",
            "6177566a7be84b0abb801e307a112427",
            "901d2054840f41d4a55e8b826b51938c",
            "29436aa3568742d3af8b5f8e1497ba40",
            "d74790417a8844418c6396f0bb959373",
            "a33a0a9eb6484180835668bdf014e367",
            "82b68c754748467c8e5b07e062a04803",
            "f7b0c61190394b13bf2e49038b50b47b",
            "15f48720a13d4a5bae9610adaaa90de0",
            "c88f439fb10c4a99a2c1dd8ae9054447",
            "40dd34e9dba14a7187dae0cf88cce8d2",
            "8b89c2d43bae44ec8230864eea3ec109",
            "0c0ff1fb94dc4d56a656deac54e9601b",
            "533f48ec1fef4bdd882707f3acda4ac0",
            "4e289825d0324a97ab1161a6d065957d",
            "311a527a52fb492e8b11bad80d8031cc",
            "167e6e71a4324d06ae43fb0a7c335d13"
          ]
        },
        "id": "A40q9beden5U",
        "outputId": "1b24af60-cd43-4610-e760-abb4f3d9c079"
      },
      "source": [
        "dataset4, info = tfds.load('goemotions', with_info=True, as_supervised=False)"
      ],
      "execution_count": 32,
      "outputs": [
        {
          "output_type": "stream",
          "text": [
            "\u001b[1mDownloading and preparing dataset goemotions/0.1.0 (download: 4.19 MiB, generated: 32.25 MiB, total: 36.44 MiB) to /root/tensorflow_datasets/goemotions/0.1.0...\u001b[0m\n"
          ],
          "name": "stdout"
        },
        {
          "output_type": "display_data",
          "data": {
            "application/vnd.jupyter.widget-view+json": {
              "model_id": "11007bd9eb804e1b9434621edb4d662e",
              "version_minor": 0,
              "version_major": 2
            },
            "text/plain": [
              "HBox(children=(FloatProgress(value=1.0, bar_style='info', description='Dl Completed...', max=1.0, style=Progre…"
            ]
          },
          "metadata": {
            "tags": []
          }
        },
        {
          "output_type": "display_data",
          "data": {
            "application/vnd.jupyter.widget-view+json": {
              "model_id": "823b262b63144a0f9b9bce5d061208d7",
              "version_minor": 0,
              "version_major": 2
            },
            "text/plain": [
              "HBox(children=(FloatProgress(value=1.0, bar_style='info', description='Dl Size...', max=1.0, style=ProgressSty…"
            ]
          },
          "metadata": {
            "tags": []
          }
        },
        {
          "output_type": "stream",
          "text": [
            "\n",
            "\n",
            "\n",
            "\n"
          ],
          "name": "stdout"
        },
        {
          "output_type": "display_data",
          "data": {
            "application/vnd.jupyter.widget-view+json": {
              "model_id": "2e41666de0cb41559b7307aab5657d8b",
              "version_minor": 0,
              "version_major": 2
            },
            "text/plain": [
              "HBox(children=(FloatProgress(value=1.0, bar_style='info', max=1.0), HTML(value='')))"
            ]
          },
          "metadata": {
            "tags": []
          }
        },
        {
          "output_type": "stream",
          "text": [
            "\rShuffling and writing examples to /root/tensorflow_datasets/goemotions/0.1.0.incompleteGWF9EN/goemotions-train.tfrecord\n"
          ],
          "name": "stdout"
        },
        {
          "output_type": "display_data",
          "data": {
            "application/vnd.jupyter.widget-view+json": {
              "model_id": "009c81ef573a429a9d2d9677e32d48fb",
              "version_minor": 0,
              "version_major": 2
            },
            "text/plain": [
              "HBox(children=(FloatProgress(value=0.0, max=43410.0), HTML(value='')))"
            ]
          },
          "metadata": {
            "tags": []
          }
        },
        {
          "output_type": "display_data",
          "data": {
            "application/vnd.jupyter.widget-view+json": {
              "model_id": "42d4659facd14239b49e7c30e68157d7",
              "version_minor": 0,
              "version_major": 2
            },
            "text/plain": [
              "HBox(children=(FloatProgress(value=1.0, bar_style='info', max=1.0), HTML(value='')))"
            ]
          },
          "metadata": {
            "tags": []
          }
        },
        {
          "output_type": "stream",
          "text": [
            "Shuffling and writing examples to /root/tensorflow_datasets/goemotions/0.1.0.incompleteGWF9EN/goemotions-validation.tfrecord\n"
          ],
          "name": "stdout"
        },
        {
          "output_type": "display_data",
          "data": {
            "application/vnd.jupyter.widget-view+json": {
              "model_id": "67fb3c3f30c749db94cfbf16d6d154cd",
              "version_minor": 0,
              "version_major": 2
            },
            "text/plain": [
              "HBox(children=(FloatProgress(value=0.0, max=5426.0), HTML(value='')))"
            ]
          },
          "metadata": {
            "tags": []
          }
        },
        {
          "output_type": "display_data",
          "data": {
            "application/vnd.jupyter.widget-view+json": {
              "model_id": "6177566a7be84b0abb801e307a112427",
              "version_minor": 0,
              "version_major": 2
            },
            "text/plain": [
              "HBox(children=(FloatProgress(value=1.0, bar_style='info', max=1.0), HTML(value='')))"
            ]
          },
          "metadata": {
            "tags": []
          }
        },
        {
          "output_type": "stream",
          "text": [
            "Shuffling and writing examples to /root/tensorflow_datasets/goemotions/0.1.0.incompleteGWF9EN/goemotions-test.tfrecord\n"
          ],
          "name": "stdout"
        },
        {
          "output_type": "display_data",
          "data": {
            "application/vnd.jupyter.widget-view+json": {
              "model_id": "c88f439fb10c4a99a2c1dd8ae9054447",
              "version_minor": 0,
              "version_major": 2
            },
            "text/plain": [
              "HBox(children=(FloatProgress(value=0.0, max=5427.0), HTML(value='')))"
            ]
          },
          "metadata": {
            "tags": []
          }
        },
        {
          "output_type": "stream",
          "text": [
            "\u001b[1mDataset goemotions downloaded and prepared to /root/tensorflow_datasets/goemotions/0.1.0. Subsequent calls will reuse this data.\u001b[0m\n"
          ],
          "name": "stdout"
        }
      ]
    },
    {
      "cell_type": "code",
      "metadata": {
        "id": "mDeC7bImfV9I"
      },
      "source": [
        "def format_dataset(x):\r\n",
        "  input = x['comment_text']\r\n",
        "  targets = [0, 0, 0, 0, 1]\r\n",
        "  return input, targets\r\n",
        "\r\n",
        "def filter_dataset(x):\r\n",
        "  return x['neutral']==True"
      ],
      "execution_count": 33,
      "outputs": []
    },
    {
      "cell_type": "code",
      "metadata": {
        "id": "l8l5UZiBen8u"
      },
      "source": [
        "dataset4 = dataset4['train'].filter(filter_dataset).map(format_dataset)"
      ],
      "execution_count": 34,
      "outputs": []
    },
    {
      "cell_type": "code",
      "metadata": {
        "colab": {
          "base_uri": "https://localhost:8080/"
        },
        "id": "HK51T4btfWEi",
        "outputId": "da130445-9eef-483e-ec01-b8d8c0cda859"
      },
      "source": [
        "for l, t in dataset4.take(2):\r\n",
        "  print(t, l.numpy().decode('utf-8'))"
      ],
      "execution_count": 35,
      "outputs": [
        {
          "output_type": "stream",
          "text": [
            "tf.Tensor([0 0 0 0 1], shape=(5,), dtype=int32) It's just wholesome content, from questionable sources\n",
            "tf.Tensor([0 0 0 0 1], shape=(5,), dtype=int32) I grew up on the other side of Ama but live in Tulia now. I will have some El Burrito for you\n"
          ],
          "name": "stdout"
        }
      ]
    },
    {
      "cell_type": "code",
      "metadata": {
        "colab": {
          "base_uri": "https://localhost:8080/",
          "height": 197
        },
        "id": "T2n7Qyt0hbvb",
        "outputId": "bdf3b703-f4fd-4e8e-ae7c-23fe34ae64b5"
      },
      "source": [
        "df4 = pd.DataFrame(list(dataset4.as_numpy_iterator()))\r\n",
        "df4.columns = ['input', 'target']\r\n",
        "df4.head()"
      ],
      "execution_count": 36,
      "outputs": [
        {
          "output_type": "execute_result",
          "data": {
            "text/html": [
              "<div>\n",
              "<style scoped>\n",
              "    .dataframe tbody tr th:only-of-type {\n",
              "        vertical-align: middle;\n",
              "    }\n",
              "\n",
              "    .dataframe tbody tr th {\n",
              "        vertical-align: top;\n",
              "    }\n",
              "\n",
              "    .dataframe thead th {\n",
              "        text-align: right;\n",
              "    }\n",
              "</style>\n",
              "<table border=\"1\" class=\"dataframe\">\n",
              "  <thead>\n",
              "    <tr style=\"text-align: right;\">\n",
              "      <th></th>\n",
              "      <th>input</th>\n",
              "      <th>target</th>\n",
              "    </tr>\n",
              "  </thead>\n",
              "  <tbody>\n",
              "    <tr>\n",
              "      <th>0</th>\n",
              "      <td>b\"It's just wholesome content, from questionab...</td>\n",
              "      <td>[0, 0, 0, 0, 1]</td>\n",
              "    </tr>\n",
              "    <tr>\n",
              "      <th>1</th>\n",
              "      <td>b'I grew up on the other side of Ama but live ...</td>\n",
              "      <td>[0, 0, 0, 0, 1]</td>\n",
              "    </tr>\n",
              "    <tr>\n",
              "      <th>2</th>\n",
              "      <td>b'fucking fuck fuck'</td>\n",
              "      <td>[0, 0, 0, 0, 1]</td>\n",
              "    </tr>\n",
              "    <tr>\n",
              "      <th>3</th>\n",
              "      <td>b\"Just from observing and polling people aroun...</td>\n",
              "      <td>[0, 0, 0, 0, 1]</td>\n",
              "    </tr>\n",
              "    <tr>\n",
              "      <th>4</th>\n",
              "      <td>b'[NAME], the LAPD chief who created it, was a...</td>\n",
              "      <td>[0, 0, 0, 0, 1]</td>\n",
              "    </tr>\n",
              "  </tbody>\n",
              "</table>\n",
              "</div>"
            ],
            "text/plain": [
              "                                               input           target\n",
              "0  b\"It's just wholesome content, from questionab...  [0, 0, 0, 0, 1]\n",
              "1  b'I grew up on the other side of Ama but live ...  [0, 0, 0, 0, 1]\n",
              "2                               b'fucking fuck fuck'  [0, 0, 0, 0, 1]\n",
              "3  b\"Just from observing and polling people aroun...  [0, 0, 0, 0, 1]\n",
              "4  b'[NAME], the LAPD chief who created it, was a...  [0, 0, 0, 0, 1]"
            ]
          },
          "metadata": {
            "tags": []
          },
          "execution_count": 36
        }
      ]
    },
    {
      "cell_type": "code",
      "metadata": {
        "id": "zJC5Zot4iG3S"
      },
      "source": [
        "df4['input'] = df4['input'].apply(lambda x: x.decode('utf-8'))\r\n",
        "df4['target'] = df4['target'].apply(lambda x: x.tolist())"
      ],
      "execution_count": 37,
      "outputs": []
    },
    {
      "cell_type": "code",
      "metadata": {
        "colab": {
          "base_uri": "https://localhost:8080/",
          "height": 197
        },
        "id": "g4CsKnHRqsMq",
        "outputId": "a202ca7e-a5e8-478f-b794-3ed5f14c68a6"
      },
      "source": [
        "df4.head()"
      ],
      "execution_count": 38,
      "outputs": [
        {
          "output_type": "execute_result",
          "data": {
            "text/html": [
              "<div>\n",
              "<style scoped>\n",
              "    .dataframe tbody tr th:only-of-type {\n",
              "        vertical-align: middle;\n",
              "    }\n",
              "\n",
              "    .dataframe tbody tr th {\n",
              "        vertical-align: top;\n",
              "    }\n",
              "\n",
              "    .dataframe thead th {\n",
              "        text-align: right;\n",
              "    }\n",
              "</style>\n",
              "<table border=\"1\" class=\"dataframe\">\n",
              "  <thead>\n",
              "    <tr style=\"text-align: right;\">\n",
              "      <th></th>\n",
              "      <th>input</th>\n",
              "      <th>target</th>\n",
              "    </tr>\n",
              "  </thead>\n",
              "  <tbody>\n",
              "    <tr>\n",
              "      <th>0</th>\n",
              "      <td>It's just wholesome content, from questionable...</td>\n",
              "      <td>[0, 0, 0, 0, 1]</td>\n",
              "    </tr>\n",
              "    <tr>\n",
              "      <th>1</th>\n",
              "      <td>I grew up on the other side of Ama but live in...</td>\n",
              "      <td>[0, 0, 0, 0, 1]</td>\n",
              "    </tr>\n",
              "    <tr>\n",
              "      <th>2</th>\n",
              "      <td>fucking fuck fuck</td>\n",
              "      <td>[0, 0, 0, 0, 1]</td>\n",
              "    </tr>\n",
              "    <tr>\n",
              "      <th>3</th>\n",
              "      <td>Just from observing and polling people around ...</td>\n",
              "      <td>[0, 0, 0, 0, 1]</td>\n",
              "    </tr>\n",
              "    <tr>\n",
              "      <th>4</th>\n",
              "      <td>[NAME], the LAPD chief who created it, was a n...</td>\n",
              "      <td>[0, 0, 0, 0, 1]</td>\n",
              "    </tr>\n",
              "  </tbody>\n",
              "</table>\n",
              "</div>"
            ],
            "text/plain": [
              "                                               input           target\n",
              "0  It's just wholesome content, from questionable...  [0, 0, 0, 0, 1]\n",
              "1  I grew up on the other side of Ama but live in...  [0, 0, 0, 0, 1]\n",
              "2                                  fucking fuck fuck  [0, 0, 0, 0, 1]\n",
              "3  Just from observing and polling people around ...  [0, 0, 0, 0, 1]\n",
              "4  [NAME], the LAPD chief who created it, was a n...  [0, 0, 0, 0, 1]"
            ]
          },
          "metadata": {
            "tags": []
          },
          "execution_count": 38
        }
      ]
    },
    {
      "cell_type": "code",
      "metadata": {
        "colab": {
          "base_uri": "https://localhost:8080/"
        },
        "id": "zDRXXJ32r_QM",
        "outputId": "04f93763-572b-40a9-a748-c38d20350ea5"
      },
      "source": [
        "type(df4.iloc[0]['target'])"
      ],
      "execution_count": 39,
      "outputs": [
        {
          "output_type": "execute_result",
          "data": {
            "text/plain": [
              "list"
            ]
          },
          "metadata": {
            "tags": []
          },
          "execution_count": 39
        }
      ]
    },
    {
      "cell_type": "markdown",
      "metadata": {
        "id": "13_5G-1zShnc"
      },
      "source": [
        "# 5- Merge datasets"
      ]
    },
    {
      "cell_type": "code",
      "metadata": {
        "id": "6-EifRG_ucgA"
      },
      "source": [
        "df = pd.concat([df1, df3, df4])"
      ],
      "execution_count": 40,
      "outputs": []
    },
    {
      "cell_type": "code",
      "metadata": {
        "colab": {
          "base_uri": "https://localhost:8080/",
          "height": 197
        },
        "id": "SAD0V-u0yGFK",
        "outputId": "08ae6f57-7e50-49ea-a906-4d93ee98f7b2"
      },
      "source": [
        "df.head()"
      ],
      "execution_count": 41,
      "outputs": [
        {
          "output_type": "execute_result",
          "data": {
            "text/html": [
              "<div>\n",
              "<style scoped>\n",
              "    .dataframe tbody tr th:only-of-type {\n",
              "        vertical-align: middle;\n",
              "    }\n",
              "\n",
              "    .dataframe tbody tr th {\n",
              "        vertical-align: top;\n",
              "    }\n",
              "\n",
              "    .dataframe thead th {\n",
              "        text-align: right;\n",
              "    }\n",
              "</style>\n",
              "<table border=\"1\" class=\"dataframe\">\n",
              "  <thead>\n",
              "    <tr style=\"text-align: right;\">\n",
              "      <th></th>\n",
              "      <th>input</th>\n",
              "      <th>target</th>\n",
              "    </tr>\n",
              "  </thead>\n",
              "  <tbody>\n",
              "    <tr>\n",
              "      <th>1</th>\n",
              "      <td>Layin n bed with a headache  ughhhh...waitin o...</td>\n",
              "      <td>[0, 1, 0, 0, 0]</td>\n",
              "    </tr>\n",
              "    <tr>\n",
              "      <th>2</th>\n",
              "      <td>Funeral ceremony...gloomy friday...</td>\n",
              "      <td>[0, 1, 0, 0, 0]</td>\n",
              "    </tr>\n",
              "    <tr>\n",
              "      <th>5</th>\n",
              "      <td>Re-pinging @ghostridah14: why didn't you go to...</td>\n",
              "      <td>[0, 0, 1, 0, 0]</td>\n",
              "    </tr>\n",
              "    <tr>\n",
              "      <th>6</th>\n",
              "      <td>I should be sleep, but im not! thinking about ...</td>\n",
              "      <td>[0, 1, 0, 0, 0]</td>\n",
              "    </tr>\n",
              "    <tr>\n",
              "      <th>7</th>\n",
              "      <td>Hmmm. http://www.djhero.com/ is down</td>\n",
              "      <td>[0, 0, 1, 0, 0]</td>\n",
              "    </tr>\n",
              "  </tbody>\n",
              "</table>\n",
              "</div>"
            ],
            "text/plain": [
              "                                               input           target\n",
              "1  Layin n bed with a headache  ughhhh...waitin o...  [0, 1, 0, 0, 0]\n",
              "2                Funeral ceremony...gloomy friday...  [0, 1, 0, 0, 0]\n",
              "5  Re-pinging @ghostridah14: why didn't you go to...  [0, 0, 1, 0, 0]\n",
              "6  I should be sleep, but im not! thinking about ...  [0, 1, 0, 0, 0]\n",
              "7               Hmmm. http://www.djhero.com/ is down  [0, 0, 1, 0, 0]"
            ]
          },
          "metadata": {
            "tags": []
          },
          "execution_count": 41
        }
      ]
    },
    {
      "cell_type": "code",
      "metadata": {
        "colab": {
          "base_uri": "https://localhost:8080/"
        },
        "id": "mLP_oVEixHIo",
        "outputId": "23412060-2e24-488d-d0a3-155ad7add85c"
      },
      "source": [
        "len(df)"
      ],
      "execution_count": 42,
      "outputs": [
        {
          "output_type": "execute_result",
          "data": {
            "text/plain": [
              "40310"
            ]
          },
          "metadata": {
            "tags": []
          },
          "execution_count": 42
        }
      ]
    },
    {
      "cell_type": "code",
      "metadata": {
        "id": "x6gdT8jl2yqA"
      },
      "source": [
        "df = shuffle(df)"
      ],
      "execution_count": 43,
      "outputs": []
    },
    {
      "cell_type": "code",
      "metadata": {
        "colab": {
          "base_uri": "https://localhost:8080/",
          "height": 197
        },
        "id": "HnreM81C21Al",
        "outputId": "613e0c31-03fb-4341-e511-2e92154696fc"
      },
      "source": [
        "df.head()"
      ],
      "execution_count": 44,
      "outputs": [
        {
          "output_type": "execute_result",
          "data": {
            "text/html": [
              "<div>\n",
              "<style scoped>\n",
              "    .dataframe tbody tr th:only-of-type {\n",
              "        vertical-align: middle;\n",
              "    }\n",
              "\n",
              "    .dataframe tbody tr th {\n",
              "        vertical-align: top;\n",
              "    }\n",
              "\n",
              "    .dataframe thead th {\n",
              "        text-align: right;\n",
              "    }\n",
              "</style>\n",
              "<table border=\"1\" class=\"dataframe\">\n",
              "  <thead>\n",
              "    <tr style=\"text-align: right;\">\n",
              "      <th></th>\n",
              "      <th>input</th>\n",
              "      <th>target</th>\n",
              "    </tr>\n",
              "  </thead>\n",
              "  <tbody>\n",
              "    <tr>\n",
              "      <th>35957</th>\n",
              "      <td>hairspray on tv!</td>\n",
              "      <td>[0, 0, 1, 0, 0]</td>\n",
              "    </tr>\n",
              "    <tr>\n",
              "      <th>2886</th>\n",
              "      <td>The Swiss military used pigeons until 1994. ar...</td>\n",
              "      <td>[0, 0, 0, 0, 1]</td>\n",
              "    </tr>\n",
              "    <tr>\n",
              "      <th>10782</th>\n",
              "      <td>I don't see whats's the issue here Edit: spelling</td>\n",
              "      <td>[0, 0, 0, 0, 1]</td>\n",
              "    </tr>\n",
              "    <tr>\n",
              "      <th>12323</th>\n",
              "      <td>I buy the team Zotz and they decide to roast me.</td>\n",
              "      <td>[0, 0, 1, 0, 0]</td>\n",
              "    </tr>\n",
              "    <tr>\n",
              "      <th>4078</th>\n",
              "      <td>@katcal i'm relying on my mobile, which lacks ...</td>\n",
              "      <td>[0, 1, 0, 0, 0]</td>\n",
              "    </tr>\n",
              "  </tbody>\n",
              "</table>\n",
              "</div>"
            ],
            "text/plain": [
              "                                                   input           target\n",
              "35957                                   hairspray on tv!  [0, 0, 1, 0, 0]\n",
              "2886   The Swiss military used pigeons until 1994. ar...  [0, 0, 0, 0, 1]\n",
              "10782  I don't see whats's the issue here Edit: spelling  [0, 0, 0, 0, 1]\n",
              "12323   I buy the team Zotz and they decide to roast me.  [0, 0, 1, 0, 0]\n",
              "4078   @katcal i'm relying on my mobile, which lacks ...  [0, 1, 0, 0, 0]"
            ]
          },
          "metadata": {
            "tags": []
          },
          "execution_count": 44
        }
      ]
    },
    {
      "cell_type": "code",
      "metadata": {
        "colab": {
          "base_uri": "https://localhost:8080/"
        },
        "id": "jJ3drk04jAOr",
        "outputId": "21be1c64-16fa-4e4e-b2d3-f1476c360e50"
      },
      "source": [
        "type(str(df.iloc[1]['input']))"
      ],
      "execution_count": 45,
      "outputs": [
        {
          "output_type": "execute_result",
          "data": {
            "text/plain": [
              "str"
            ]
          },
          "metadata": {
            "tags": []
          },
          "execution_count": 45
        }
      ]
    },
    {
      "cell_type": "code",
      "metadata": {
        "colab": {
          "base_uri": "https://localhost:8080/"
        },
        "id": "Bh0sUI8c7inE",
        "outputId": "366ae3af-50ac-4bc3-fdd9-0c0c1a318303"
      },
      "source": [
        "df.shape"
      ],
      "execution_count": 46,
      "outputs": [
        {
          "output_type": "execute_result",
          "data": {
            "text/plain": [
              "(40310, 2)"
            ]
          },
          "metadata": {
            "tags": []
          },
          "execution_count": 46
        }
      ]
    },
    {
      "cell_type": "markdown",
      "metadata": {
        "id": "9u-5B34D2TZ-"
      },
      "source": [
        "# 6- DistilBert model"
      ]
    },
    {
      "cell_type": "code",
      "metadata": {
        "colab": {
          "base_uri": "https://localhost:8080/"
        },
        "id": "7KfU7xql2d29",
        "outputId": "827faaec-c965-4b7f-fb6a-d579378f3052"
      },
      "source": [
        "! pip install transformers"
      ],
      "execution_count": 47,
      "outputs": [
        {
          "output_type": "stream",
          "text": [
            "Collecting transformers\n",
            "\u001b[?25l  Downloading https://files.pythonhosted.org/packages/f9/54/5ca07ec9569d2f232f3166de5457b63943882f7950ddfcc887732fc7fb23/transformers-4.3.3-py3-none-any.whl (1.9MB)\n",
            "\r\u001b[K     |▏                               | 10kB 20.9MB/s eta 0:00:01\r\u001b[K     |▍                               | 20kB 14.2MB/s eta 0:00:01\r\u001b[K     |▌                               | 30kB 13.6MB/s eta 0:00:01\r\u001b[K     |▊                               | 40kB 13.0MB/s eta 0:00:01\r\u001b[K     |▉                               | 51kB 8.9MB/s eta 0:00:01\r\u001b[K     |█                               | 61kB 9.8MB/s eta 0:00:01\r\u001b[K     |█▏                              | 71kB 9.5MB/s eta 0:00:01\r\u001b[K     |█▍                              | 81kB 10.5MB/s eta 0:00:01\r\u001b[K     |█▌                              | 92kB 9.9MB/s eta 0:00:01\r\u001b[K     |█▊                              | 102kB 8.5MB/s eta 0:00:01\r\u001b[K     |██                              | 112kB 8.5MB/s eta 0:00:01\r\u001b[K     |██                              | 122kB 8.5MB/s eta 0:00:01\r\u001b[K     |██▎                             | 133kB 8.5MB/s eta 0:00:01\r\u001b[K     |██▍                             | 143kB 8.5MB/s eta 0:00:01\r\u001b[K     |██▋                             | 153kB 8.5MB/s eta 0:00:01\r\u001b[K     |██▊                             | 163kB 8.5MB/s eta 0:00:01\r\u001b[K     |███                             | 174kB 8.5MB/s eta 0:00:01\r\u001b[K     |███                             | 184kB 8.5MB/s eta 0:00:01\r\u001b[K     |███▎                            | 194kB 8.5MB/s eta 0:00:01\r\u001b[K     |███▌                            | 204kB 8.5MB/s eta 0:00:01\r\u001b[K     |███▋                            | 215kB 8.5MB/s eta 0:00:01\r\u001b[K     |███▉                            | 225kB 8.5MB/s eta 0:00:01\r\u001b[K     |████                            | 235kB 8.5MB/s eta 0:00:01\r\u001b[K     |████▏                           | 245kB 8.5MB/s eta 0:00:01\r\u001b[K     |████▎                           | 256kB 8.5MB/s eta 0:00:01\r\u001b[K     |████▌                           | 266kB 8.5MB/s eta 0:00:01\r\u001b[K     |████▋                           | 276kB 8.5MB/s eta 0:00:01\r\u001b[K     |████▉                           | 286kB 8.5MB/s eta 0:00:01\r\u001b[K     |█████                           | 296kB 8.5MB/s eta 0:00:01\r\u001b[K     |█████▏                          | 307kB 8.5MB/s eta 0:00:01\r\u001b[K     |█████▍                          | 317kB 8.5MB/s eta 0:00:01\r\u001b[K     |█████▌                          | 327kB 8.5MB/s eta 0:00:01\r\u001b[K     |█████▊                          | 337kB 8.5MB/s eta 0:00:01\r\u001b[K     |█████▉                          | 348kB 8.5MB/s eta 0:00:01\r\u001b[K     |██████                          | 358kB 8.5MB/s eta 0:00:01\r\u001b[K     |██████▏                         | 368kB 8.5MB/s eta 0:00:01\r\u001b[K     |██████▍                         | 378kB 8.5MB/s eta 0:00:01\r\u001b[K     |██████▋                         | 389kB 8.5MB/s eta 0:00:01\r\u001b[K     |██████▊                         | 399kB 8.5MB/s eta 0:00:01\r\u001b[K     |███████                         | 409kB 8.5MB/s eta 0:00:01\r\u001b[K     |███████                         | 419kB 8.5MB/s eta 0:00:01\r\u001b[K     |███████▎                        | 430kB 8.5MB/s eta 0:00:01\r\u001b[K     |███████▍                        | 440kB 8.5MB/s eta 0:00:01\r\u001b[K     |███████▋                        | 450kB 8.5MB/s eta 0:00:01\r\u001b[K     |███████▊                        | 460kB 8.5MB/s eta 0:00:01\r\u001b[K     |████████                        | 471kB 8.5MB/s eta 0:00:01\r\u001b[K     |████████▏                       | 481kB 8.5MB/s eta 0:00:01\r\u001b[K     |████████▎                       | 491kB 8.5MB/s eta 0:00:01\r\u001b[K     |████████▌                       | 501kB 8.5MB/s eta 0:00:01\r\u001b[K     |████████▋                       | 512kB 8.5MB/s eta 0:00:01\r\u001b[K     |████████▉                       | 522kB 8.5MB/s eta 0:00:01\r\u001b[K     |█████████                       | 532kB 8.5MB/s eta 0:00:01\r\u001b[K     |█████████▏                      | 542kB 8.5MB/s eta 0:00:01\r\u001b[K     |█████████▎                      | 552kB 8.5MB/s eta 0:00:01\r\u001b[K     |█████████▌                      | 563kB 8.5MB/s eta 0:00:01\r\u001b[K     |█████████▊                      | 573kB 8.5MB/s eta 0:00:01\r\u001b[K     |█████████▉                      | 583kB 8.5MB/s eta 0:00:01\r\u001b[K     |██████████                      | 593kB 8.5MB/s eta 0:00:01\r\u001b[K     |██████████▏                     | 604kB 8.5MB/s eta 0:00:01\r\u001b[K     |██████████▍                     | 614kB 8.5MB/s eta 0:00:01\r\u001b[K     |██████████▌                     | 624kB 8.5MB/s eta 0:00:01\r\u001b[K     |██████████▊                     | 634kB 8.5MB/s eta 0:00:01\r\u001b[K     |██████████▉                     | 645kB 8.5MB/s eta 0:00:01\r\u001b[K     |███████████                     | 655kB 8.5MB/s eta 0:00:01\r\u001b[K     |███████████▎                    | 665kB 8.5MB/s eta 0:00:01\r\u001b[K     |███████████▍                    | 675kB 8.5MB/s eta 0:00:01\r\u001b[K     |███████████▋                    | 686kB 8.5MB/s eta 0:00:01\r\u001b[K     |███████████▊                    | 696kB 8.5MB/s eta 0:00:01\r\u001b[K     |████████████                    | 706kB 8.5MB/s eta 0:00:01\r\u001b[K     |████████████                    | 716kB 8.5MB/s eta 0:00:01\r\u001b[K     |████████████▎                   | 727kB 8.5MB/s eta 0:00:01\r\u001b[K     |████████████▍                   | 737kB 8.5MB/s eta 0:00:01\r\u001b[K     |████████████▋                   | 747kB 8.5MB/s eta 0:00:01\r\u001b[K     |████████████▉                   | 757kB 8.5MB/s eta 0:00:01\r\u001b[K     |█████████████                   | 768kB 8.5MB/s eta 0:00:01\r\u001b[K     |█████████████▏                  | 778kB 8.5MB/s eta 0:00:01\r\u001b[K     |█████████████▎                  | 788kB 8.5MB/s eta 0:00:01\r\u001b[K     |█████████████▌                  | 798kB 8.5MB/s eta 0:00:01\r\u001b[K     |█████████████▋                  | 808kB 8.5MB/s eta 0:00:01\r\u001b[K     |█████████████▉                  | 819kB 8.5MB/s eta 0:00:01\r\u001b[K     |██████████████                  | 829kB 8.5MB/s eta 0:00:01\r\u001b[K     |██████████████▏                 | 839kB 8.5MB/s eta 0:00:01\r\u001b[K     |██████████████▍                 | 849kB 8.5MB/s eta 0:00:01\r\u001b[K     |██████████████▌                 | 860kB 8.5MB/s eta 0:00:01\r\u001b[K     |██████████████▊                 | 870kB 8.5MB/s eta 0:00:01\r\u001b[K     |██████████████▉                 | 880kB 8.5MB/s eta 0:00:01\r\u001b[K     |███████████████                 | 890kB 8.5MB/s eta 0:00:01\r\u001b[K     |███████████████▏                | 901kB 8.5MB/s eta 0:00:01\r\u001b[K     |███████████████▍                | 911kB 8.5MB/s eta 0:00:01\r\u001b[K     |███████████████▌                | 921kB 8.5MB/s eta 0:00:01\r\u001b[K     |███████████████▊                | 931kB 8.5MB/s eta 0:00:01\r\u001b[K     |████████████████                | 942kB 8.5MB/s eta 0:00:01\r\u001b[K     |████████████████                | 952kB 8.5MB/s eta 0:00:01\r\u001b[K     |████████████████▎               | 962kB 8.5MB/s eta 0:00:01\r\u001b[K     |████████████████▍               | 972kB 8.5MB/s eta 0:00:01\r\u001b[K     |████████████████▋               | 983kB 8.5MB/s eta 0:00:01\r\u001b[K     |████████████████▊               | 993kB 8.5MB/s eta 0:00:01\r\u001b[K     |█████████████████               | 1.0MB 8.5MB/s eta 0:00:01\r\u001b[K     |█████████████████               | 1.0MB 8.5MB/s eta 0:00:01\r\u001b[K     |█████████████████▎              | 1.0MB 8.5MB/s eta 0:00:01\r\u001b[K     |█████████████████▍              | 1.0MB 8.5MB/s eta 0:00:01\r\u001b[K     |█████████████████▋              | 1.0MB 8.5MB/s eta 0:00:01\r\u001b[K     |█████████████████▉              | 1.1MB 8.5MB/s eta 0:00:01\r\u001b[K     |██████████████████              | 1.1MB 8.5MB/s eta 0:00:01\r\u001b[K     |██████████████████▏             | 1.1MB 8.5MB/s eta 0:00:01\r\u001b[K     |██████████████████▎             | 1.1MB 8.5MB/s eta 0:00:01\r\u001b[K     |██████████████████▌             | 1.1MB 8.5MB/s eta 0:00:01\r\u001b[K     |██████████████████▋             | 1.1MB 8.5MB/s eta 0:00:01\r\u001b[K     |██████████████████▉             | 1.1MB 8.5MB/s eta 0:00:01\r\u001b[K     |███████████████████             | 1.1MB 8.5MB/s eta 0:00:01\r\u001b[K     |███████████████████▏            | 1.1MB 8.5MB/s eta 0:00:01\r\u001b[K     |███████████████████▍            | 1.1MB 8.5MB/s eta 0:00:01\r\u001b[K     |███████████████████▌            | 1.2MB 8.5MB/s eta 0:00:01\r\u001b[K     |███████████████████▊            | 1.2MB 8.5MB/s eta 0:00:01\r\u001b[K     |███████████████████▉            | 1.2MB 8.5MB/s eta 0:00:01\r\u001b[K     |████████████████████            | 1.2MB 8.5MB/s eta 0:00:01\r\u001b[K     |████████████████████▏           | 1.2MB 8.5MB/s eta 0:00:01\r\u001b[K     |████████████████████▍           | 1.2MB 8.5MB/s eta 0:00:01\r\u001b[K     |████████████████████▌           | 1.2MB 8.5MB/s eta 0:00:01\r\u001b[K     |████████████████████▊           | 1.2MB 8.5MB/s eta 0:00:01\r\u001b[K     |█████████████████████           | 1.2MB 8.5MB/s eta 0:00:01\r\u001b[K     |█████████████████████           | 1.2MB 8.5MB/s eta 0:00:01\r\u001b[K     |█████████████████████▎          | 1.3MB 8.5MB/s eta 0:00:01\r\u001b[K     |█████████████████████▍          | 1.3MB 8.5MB/s eta 0:00:01\r\u001b[K     |█████████████████████▋          | 1.3MB 8.5MB/s eta 0:00:01\r\u001b[K     |█████████████████████▊          | 1.3MB 8.5MB/s eta 0:00:01\r\u001b[K     |██████████████████████          | 1.3MB 8.5MB/s eta 0:00:01\r\u001b[K     |██████████████████████          | 1.3MB 8.5MB/s eta 0:00:01\r\u001b[K     |██████████████████████▎         | 1.3MB 8.5MB/s eta 0:00:01\r\u001b[K     |██████████████████████▌         | 1.3MB 8.5MB/s eta 0:00:01\r\u001b[K     |██████████████████████▋         | 1.3MB 8.5MB/s eta 0:00:01\r\u001b[K     |██████████████████████▉         | 1.4MB 8.5MB/s eta 0:00:01\r\u001b[K     |███████████████████████         | 1.4MB 8.5MB/s eta 0:00:01\r\u001b[K     |███████████████████████▏        | 1.4MB 8.5MB/s eta 0:00:01\r\u001b[K     |███████████████████████▎        | 1.4MB 8.5MB/s eta 0:00:01\r\u001b[K     |███████████████████████▌        | 1.4MB 8.5MB/s eta 0:00:01\r\u001b[K     |███████████████████████▋        | 1.4MB 8.5MB/s eta 0:00:01\r\u001b[K     |███████████████████████▉        | 1.4MB 8.5MB/s eta 0:00:01\r\u001b[K     |████████████████████████        | 1.4MB 8.5MB/s eta 0:00:01\r\u001b[K     |████████████████████████▏       | 1.4MB 8.5MB/s eta 0:00:01\r\u001b[K     |████████████████████████▍       | 1.4MB 8.5MB/s eta 0:00:01\r\u001b[K     |████████████████████████▌       | 1.5MB 8.5MB/s eta 0:00:01\r\u001b[K     |████████████████████████▊       | 1.5MB 8.5MB/s eta 0:00:01\r\u001b[K     |████████████████████████▉       | 1.5MB 8.5MB/s eta 0:00:01\r\u001b[K     |█████████████████████████       | 1.5MB 8.5MB/s eta 0:00:01\r\u001b[K     |█████████████████████████▏      | 1.5MB 8.5MB/s eta 0:00:01\r\u001b[K     |█████████████████████████▍      | 1.5MB 8.5MB/s eta 0:00:01\r\u001b[K     |█████████████████████████▋      | 1.5MB 8.5MB/s eta 0:00:01\r\u001b[K     |█████████████████████████▊      | 1.5MB 8.5MB/s eta 0:00:01\r\u001b[K     |██████████████████████████      | 1.5MB 8.5MB/s eta 0:00:01\r\u001b[K     |██████████████████████████      | 1.5MB 8.5MB/s eta 0:00:01\r\u001b[K     |██████████████████████████▎     | 1.6MB 8.5MB/s eta 0:00:01\r\u001b[K     |██████████████████████████▍     | 1.6MB 8.5MB/s eta 0:00:01\r\u001b[K     |██████████████████████████▋     | 1.6MB 8.5MB/s eta 0:00:01\r\u001b[K     |██████████████████████████▊     | 1.6MB 8.5MB/s eta 0:00:01\r\u001b[K     |███████████████████████████     | 1.6MB 8.5MB/s eta 0:00:01\r\u001b[K     |███████████████████████████▏    | 1.6MB 8.5MB/s eta 0:00:01\r\u001b[K     |███████████████████████████▎    | 1.6MB 8.5MB/s eta 0:00:01\r\u001b[K     |███████████████████████████▌    | 1.6MB 8.5MB/s eta 0:00:01\r\u001b[K     |███████████████████████████▋    | 1.6MB 8.5MB/s eta 0:00:01\r\u001b[K     |███████████████████████████▉    | 1.6MB 8.5MB/s eta 0:00:01\r\u001b[K     |████████████████████████████    | 1.7MB 8.5MB/s eta 0:00:01\r\u001b[K     |████████████████████████████▏   | 1.7MB 8.5MB/s eta 0:00:01\r\u001b[K     |████████████████████████████▎   | 1.7MB 8.5MB/s eta 0:00:01\r\u001b[K     |████████████████████████████▌   | 1.7MB 8.5MB/s eta 0:00:01\r\u001b[K     |████████████████████████████▊   | 1.7MB 8.5MB/s eta 0:00:01\r\u001b[K     |████████████████████████████▉   | 1.7MB 8.5MB/s eta 0:00:01\r\u001b[K     |█████████████████████████████   | 1.7MB 8.5MB/s eta 0:00:01\r\u001b[K     |█████████████████████████████▏  | 1.7MB 8.5MB/s eta 0:00:01\r\u001b[K     |█████████████████████████████▍  | 1.7MB 8.5MB/s eta 0:00:01\r\u001b[K     |█████████████████████████████▌  | 1.8MB 8.5MB/s eta 0:00:01\r\u001b[K     |█████████████████████████████▊  | 1.8MB 8.5MB/s eta 0:00:01\r\u001b[K     |█████████████████████████████▉  | 1.8MB 8.5MB/s eta 0:00:01\r\u001b[K     |██████████████████████████████  | 1.8MB 8.5MB/s eta 0:00:01\r\u001b[K     |██████████████████████████████▎ | 1.8MB 8.5MB/s eta 0:00:01\r\u001b[K     |██████████████████████████████▍ | 1.8MB 8.5MB/s eta 0:00:01\r\u001b[K     |██████████████████████████████▋ | 1.8MB 8.5MB/s eta 0:00:01\r\u001b[K     |██████████████████████████████▊ | 1.8MB 8.5MB/s eta 0:00:01\r\u001b[K     |███████████████████████████████ | 1.8MB 8.5MB/s eta 0:00:01\r\u001b[K     |███████████████████████████████ | 1.8MB 8.5MB/s eta 0:00:01\r\u001b[K     |███████████████████████████████▎| 1.9MB 8.5MB/s eta 0:00:01\r\u001b[K     |███████████████████████████████▍| 1.9MB 8.5MB/s eta 0:00:01\r\u001b[K     |███████████████████████████████▋| 1.9MB 8.5MB/s eta 0:00:01\r\u001b[K     |███████████████████████████████▉| 1.9MB 8.5MB/s eta 0:00:01\r\u001b[K     |████████████████████████████████| 1.9MB 8.5MB/s eta 0:00:01\r\u001b[K     |████████████████████████████████| 1.9MB 8.5MB/s \n",
            "\u001b[?25hRequirement already satisfied: importlib-metadata; python_version < \"3.8\" in /usr/local/lib/python3.7/dist-packages (from transformers) (3.7.0)\n",
            "Collecting tokenizers<0.11,>=0.10.1\n",
            "\u001b[?25l  Downloading https://files.pythonhosted.org/packages/71/23/2ddc317b2121117bf34dd00f5b0de194158f2a44ee2bf5e47c7166878a97/tokenizers-0.10.1-cp37-cp37m-manylinux2010_x86_64.whl (3.2MB)\n",
            "\u001b[K     |████████████████████████████████| 3.2MB 39.2MB/s \n",
            "\u001b[?25hRequirement already satisfied: filelock in /usr/local/lib/python3.7/dist-packages (from transformers) (3.0.12)\n",
            "Collecting sacremoses\n",
            "\u001b[?25l  Downloading https://files.pythonhosted.org/packages/7d/34/09d19aff26edcc8eb2a01bed8e98f13a1537005d31e95233fd48216eed10/sacremoses-0.0.43.tar.gz (883kB)\n",
            "\u001b[K     |████████████████████████████████| 890kB 39.6MB/s \n",
            "\u001b[?25hRequirement already satisfied: packaging in /usr/local/lib/python3.7/dist-packages (from transformers) (20.9)\n",
            "Requirement already satisfied: numpy>=1.17 in /usr/local/lib/python3.7/dist-packages (from transformers) (1.19.5)\n",
            "Requirement already satisfied: tqdm>=4.27 in /usr/local/lib/python3.7/dist-packages (from transformers) (4.41.1)\n",
            "Requirement already satisfied: requests in /usr/local/lib/python3.7/dist-packages (from transformers) (2.23.0)\n",
            "Requirement already satisfied: regex!=2019.12.17 in /usr/local/lib/python3.7/dist-packages (from transformers) (2019.12.20)\n",
            "Requirement already satisfied: zipp>=0.5 in /usr/local/lib/python3.7/dist-packages (from importlib-metadata; python_version < \"3.8\"->transformers) (3.4.1)\n",
            "Requirement already satisfied: typing-extensions>=3.6.4; python_version < \"3.8\" in /usr/local/lib/python3.7/dist-packages (from importlib-metadata; python_version < \"3.8\"->transformers) (3.7.4.3)\n",
            "Requirement already satisfied: six in /usr/local/lib/python3.7/dist-packages (from sacremoses->transformers) (1.15.0)\n",
            "Requirement already satisfied: click in /usr/local/lib/python3.7/dist-packages (from sacremoses->transformers) (7.1.2)\n",
            "Requirement already satisfied: joblib in /usr/local/lib/python3.7/dist-packages (from sacremoses->transformers) (1.0.1)\n",
            "Requirement already satisfied: pyparsing>=2.0.2 in /usr/local/lib/python3.7/dist-packages (from packaging->transformers) (2.4.7)\n",
            "Requirement already satisfied: idna<3,>=2.5 in /usr/local/lib/python3.7/dist-packages (from requests->transformers) (2.10)\n",
            "Requirement already satisfied: certifi>=2017.4.17 in /usr/local/lib/python3.7/dist-packages (from requests->transformers) (2020.12.5)\n",
            "Requirement already satisfied: chardet<4,>=3.0.2 in /usr/local/lib/python3.7/dist-packages (from requests->transformers) (3.0.4)\n",
            "Requirement already satisfied: urllib3!=1.25.0,!=1.25.1,<1.26,>=1.21.1 in /usr/local/lib/python3.7/dist-packages (from requests->transformers) (1.24.3)\n",
            "Building wheels for collected packages: sacremoses\n",
            "  Building wheel for sacremoses (setup.py) ... \u001b[?25l\u001b[?25hdone\n",
            "  Created wheel for sacremoses: filename=sacremoses-0.0.43-cp37-none-any.whl size=893262 sha256=d7fb7f67c67240026da03f881f9c63452d18e78f48f1a33c4f2a221e5e333c8d\n",
            "  Stored in directory: /root/.cache/pip/wheels/29/3c/fd/7ce5c3f0666dab31a50123635e6fb5e19ceb42ce38d4e58f45\n",
            "Successfully built sacremoses\n",
            "Installing collected packages: tokenizers, sacremoses, transformers\n",
            "Successfully installed sacremoses-0.0.43 tokenizers-0.10.1 transformers-4.3.3\n"
          ],
          "name": "stdout"
        }
      ]
    },
    {
      "cell_type": "code",
      "metadata": {
        "id": "3GK1z-kx1muk"
      },
      "source": [
        "import tensorflow as tf\r\n",
        "import tensorflow_hub as hub\r\n",
        "import pandas as pd\r\n",
        "from sklearn.model_selection import train_test_split\r\n",
        "import numpy as np\r\n",
        "import re\r\n",
        "import unicodedata\r\n",
        "import nltk\r\n",
        "from nltk.corpus import stopwords\r\n",
        "from tensorflow import keras\r\n",
        "from tensorflow.keras.layers import Dense,Dropout, Input\r\n",
        "from tqdm import tqdm\r\n",
        "import pickle\r\n",
        "from sklearn.metrics import confusion_matrix,f1_score,classification_report\r\n",
        "import matplotlib.pyplot as plt\r\n",
        "import itertools\r\n",
        "from sklearn.utils import shuffle\r\n",
        "from tensorflow.keras import regularizers\r\n",
        "from transformers import *\r\n",
        "from transformers import BertTokenizer, TFBertModel, BertConfig,TFDistilBertModel,DistilBertTokenizer,DistilBertConfig"
      ],
      "execution_count": 48,
      "outputs": []
    },
    {
      "cell_type": "code",
      "metadata": {
        "colab": {
          "base_uri": "https://localhost:8080/"
        },
        "id": "9lMxz58oNox5",
        "outputId": "ddad6c39-f7ae-4e42-eac4-590e40bde671"
      },
      "source": [
        "print(\"Num GPUs Available: \", len(tf.config.list_physical_devices('GPU')))\r\n",
        "print(\"Num GPUs Available: \", len(tf.config.list_physical_devices('GPU')))"
      ],
      "execution_count": 49,
      "outputs": [
        {
          "output_type": "stream",
          "text": [
            "Num GPUs Available:  1\n",
            "Num GPUs Available:  1\n"
          ],
          "name": "stdout"
        }
      ]
    },
    {
      "cell_type": "code",
      "metadata": {
        "id": "KBSi_l9r2c-T"
      },
      "source": [
        "# Preprocessing and cleaning functions¶\r\n",
        "\r\n",
        "def unicode_to_ascii(s):\r\n",
        "    return ''.join(c for c in unicodedata.normalize('NFD', s) if unicodedata.category(c) != 'Mn')\r\n",
        "\r\n",
        "def clean_stopwords_shortwords(w):\r\n",
        "    stopwords_list=stopwords.words('english')\r\n",
        "    words = w.split() \r\n",
        "    clean_words = [word for word in words if (word not in stopwords_list) and len(word) > 2]\r\n",
        "    return \" \".join(clean_words) \r\n",
        "\r\n",
        "def preprocess_sentence(w):\r\n",
        "    w = unicode_to_ascii(w.lower().strip())\r\n",
        "    w = re.sub(r\"([?.!,¿])\", r\" \", w)\r\n",
        "    w = re.sub(r'[\" \"]+', \" \", w)\r\n",
        "    w = re.sub(r\"[^a-zA-Z?.!,¿]+\", \" \", w)\r\n",
        "    w=clean_stopwords_shortwords(w)\r\n",
        "    w=re.sub(r'@\\w+', '',w)\r\n",
        "    return w"
      ],
      "execution_count": 50,
      "outputs": []
    },
    {
      "cell_type": "code",
      "metadata": {
        "colab": {
          "base_uri": "https://localhost:8080/",
          "height": 233
        },
        "id": "enyJX6TC2jXK",
        "outputId": "c6b72b7b-a37e-4561-fafa-d5ba0ee2a265"
      },
      "source": [
        "# Cleaning the Dataset\r\n",
        "nltk.download('stopwords')\r\n",
        "df['text'] = df['input'].map(preprocess_sentence)\r\n",
        "df.head()"
      ],
      "execution_count": 51,
      "outputs": [
        {
          "output_type": "stream",
          "text": [
            "[nltk_data] Downloading package stopwords to /root/nltk_data...\n",
            "[nltk_data]   Unzipping corpora/stopwords.zip.\n"
          ],
          "name": "stdout"
        },
        {
          "output_type": "execute_result",
          "data": {
            "text/html": [
              "<div>\n",
              "<style scoped>\n",
              "    .dataframe tbody tr th:only-of-type {\n",
              "        vertical-align: middle;\n",
              "    }\n",
              "\n",
              "    .dataframe tbody tr th {\n",
              "        vertical-align: top;\n",
              "    }\n",
              "\n",
              "    .dataframe thead th {\n",
              "        text-align: right;\n",
              "    }\n",
              "</style>\n",
              "<table border=\"1\" class=\"dataframe\">\n",
              "  <thead>\n",
              "    <tr style=\"text-align: right;\">\n",
              "      <th></th>\n",
              "      <th>input</th>\n",
              "      <th>target</th>\n",
              "      <th>text</th>\n",
              "    </tr>\n",
              "  </thead>\n",
              "  <tbody>\n",
              "    <tr>\n",
              "      <th>35957</th>\n",
              "      <td>hairspray on tv!</td>\n",
              "      <td>[0, 0, 1, 0, 0]</td>\n",
              "      <td>hairspray</td>\n",
              "    </tr>\n",
              "    <tr>\n",
              "      <th>2886</th>\n",
              "      <td>The Swiss military used pigeons until 1994. ar...</td>\n",
              "      <td>[0, 0, 0, 0, 1]</td>\n",
              "      <td>swiss military used pigeons cost effective any...</td>\n",
              "    </tr>\n",
              "    <tr>\n",
              "      <th>10782</th>\n",
              "      <td>I don't see whats's the issue here Edit: spelling</td>\n",
              "      <td>[0, 0, 0, 0, 1]</td>\n",
              "      <td>see whats issue edit spelling</td>\n",
              "    </tr>\n",
              "    <tr>\n",
              "      <th>12323</th>\n",
              "      <td>I buy the team Zotz and they decide to roast me.</td>\n",
              "      <td>[0, 0, 1, 0, 0]</td>\n",
              "      <td>buy team zotz decide roast</td>\n",
              "    </tr>\n",
              "    <tr>\n",
              "      <th>4078</th>\n",
              "      <td>@katcal i'm relying on my mobile, which lacks ...</td>\n",
              "      <td>[0, 1, 0, 0, 0]</td>\n",
              "      <td>katcal relying mobile lacks reception trying h...</td>\n",
              "    </tr>\n",
              "  </tbody>\n",
              "</table>\n",
              "</div>"
            ],
            "text/plain": [
              "                                                   input  ...                                               text\n",
              "35957                                   hairspray on tv!  ...                                          hairspray\n",
              "2886   The Swiss military used pigeons until 1994. ar...  ...  swiss military used pigeons cost effective any...\n",
              "10782  I don't see whats's the issue here Edit: spelling  ...                      see whats issue edit spelling\n",
              "12323   I buy the team Zotz and they decide to roast me.  ...                         buy team zotz decide roast\n",
              "4078   @katcal i'm relying on my mobile, which lacks ...  ...  katcal relying mobile lacks reception trying h...\n",
              "\n",
              "[5 rows x 3 columns]"
            ]
          },
          "metadata": {
            "tags": []
          },
          "execution_count": 51
        }
      ]
    },
    {
      "cell_type": "code",
      "metadata": {
        "id": "PhGl2uww0u4M"
      },
      "source": [
        "# save data to csv \r\n",
        "df.to_csv('combined_data.csv', index=False, columns=['text', 'target'])"
      ],
      "execution_count": 52,
      "outputs": []
    },
    {
      "cell_type": "code",
      "metadata": {
        "colab": {
          "base_uri": "https://localhost:8080/",
          "height": 275,
          "referenced_widgets": [
            "f52c2583c7ce406eac3901086740997b",
            "370ef2ef418a4957afc79f95bf06b702",
            "a4c5cdc73a8e49dfa061dd5d21cf2b2c",
            "6f32a7cb761648bca2d06e84529545cf",
            "b057e94d677644a89f66424cb3c001ff",
            "db754f2fabde47fdb95e6443b00d6363",
            "39120685547149ae9feaea6d8f99b384",
            "a4e26d3309b8477d9f58be7778f6631e",
            "39345bbb2aa34725897101fa05fd12bd",
            "4eae8665c97b4628a1764e4057ab0de8",
            "f5a1a24fe9134180a004b8eb00caeaa3",
            "6c0902480e6145bd85dc6d781afa6a25",
            "14fc053874174a15ac86a1b393a26600",
            "8b4f08bc217246d28b3c1bf871df86ef",
            "3a443c2e03524f9b997b359f289e2270",
            "2e086bea17234e91af7141d6b3bbe120",
            "c6fc6b83fd384af18a808e3e6634a217",
            "1ed6a70295b346788a436bfb05d7a4fa",
            "023cc038d8554ae5a201180136ac7439",
            "6c3dcdb1fb0c42fc8d99388f5d1e3f51",
            "79e84eda78ec4bc4baaa34e9d872b020",
            "63968677428f420b824205ed0be811a1",
            "7ae419a790584042a9521d400ff5031d",
            "968c057b5ef24768a8fe5a3196690cd3"
          ]
        },
        "id": "g16-1SnW3CqS",
        "outputId": "4009109f-d1a5-4613-8c37-0e7ff1b83eab"
      },
      "source": [
        "# Loading DistilBERT Tokenizer and the DistilBERT model\r\n",
        "dbert_tokenizer = DistilBertTokenizer.from_pretrained('distilbert-base-uncased')\r\n",
        "dbert_model = TFDistilBertModel.from_pretrained('distilbert-base-uncased')"
      ],
      "execution_count": 53,
      "outputs": [
        {
          "output_type": "display_data",
          "data": {
            "application/vnd.jupyter.widget-view+json": {
              "model_id": "f52c2583c7ce406eac3901086740997b",
              "version_minor": 0,
              "version_major": 2
            },
            "text/plain": [
              "HBox(children=(FloatProgress(value=0.0, description='Downloading', max=231508.0, style=ProgressStyle(descripti…"
            ]
          },
          "metadata": {
            "tags": []
          }
        },
        {
          "output_type": "stream",
          "text": [
            "\n"
          ],
          "name": "stdout"
        },
        {
          "output_type": "display_data",
          "data": {
            "application/vnd.jupyter.widget-view+json": {
              "model_id": "39345bbb2aa34725897101fa05fd12bd",
              "version_minor": 0,
              "version_major": 2
            },
            "text/plain": [
              "HBox(children=(FloatProgress(value=0.0, description='Downloading', max=442.0, style=ProgressStyle(description_…"
            ]
          },
          "metadata": {
            "tags": []
          }
        },
        {
          "output_type": "stream",
          "text": [
            "\n"
          ],
          "name": "stdout"
        },
        {
          "output_type": "display_data",
          "data": {
            "application/vnd.jupyter.widget-view+json": {
              "model_id": "c6fc6b83fd384af18a808e3e6634a217",
              "version_minor": 0,
              "version_major": 2
            },
            "text/plain": [
              "HBox(children=(FloatProgress(value=0.0, description='Downloading', max=363423424.0, style=ProgressStyle(descri…"
            ]
          },
          "metadata": {
            "tags": []
          }
        },
        {
          "output_type": "stream",
          "text": [
            "\n"
          ],
          "name": "stdout"
        },
        {
          "output_type": "stream",
          "text": [
            "Some layers from the model checkpoint at distilbert-base-uncased were not used when initializing TFDistilBertModel: ['vocab_projector', 'vocab_layer_norm', 'vocab_transform', 'activation_13']\n",
            "- This IS expected if you are initializing TFDistilBertModel from the checkpoint of a model trained on another task or with another architecture (e.g. initializing a BertForSequenceClassification model from a BertForPreTraining model).\n",
            "- This IS NOT expected if you are initializing TFDistilBertModel from the checkpoint of a model that you expect to be exactly identical (initializing a BertForSequenceClassification model from a BertForSequenceClassification model).\n",
            "All the layers of TFDistilBertModel were initialized from the model checkpoint at distilbert-base-uncased.\n",
            "If your task is similar to the task the model of the checkpoint was trained on, you can already use TFDistilBertModel for predictions without further training.\n"
          ],
          "name": "stderr"
        }
      ]
    },
    {
      "cell_type": "code",
      "metadata": {
        "colab": {
          "base_uri": "https://localhost:8080/"
        },
        "id": "iKq_lL_-3jOp",
        "outputId": "2e84d6b8-5f59-4343-8ee5-d3f1415b524f"
      },
      "source": [
        "num_classes = 5\r\n",
        "max_len = 128\r\n",
        "sentences = df['text']\r\n",
        "targets = df['target']\r\n",
        "len(sentences), len(targets)"
      ],
      "execution_count": 54,
      "outputs": [
        {
          "output_type": "execute_result",
          "data": {
            "text/plain": [
              "(40310, 40310)"
            ]
          },
          "metadata": {
            "tags": []
          },
          "execution_count": 54
        }
      ]
    },
    {
      "cell_type": "code",
      "metadata": {
        "colab": {
          "base_uri": "https://localhost:8080/"
        },
        "id": "Ebt9G3ok32HF",
        "outputId": "c4b53a31-80c6-43f4-9eaa-cca6ce1e7507"
      },
      "source": [
        "from statistics import mean, median\r\n",
        "l = [len(s) for s in sentences]\r\n",
        "mean(l), median(l), max(l), min(l)"
      ],
      "execution_count": 55,
      "outputs": [
        {
          "output_type": "execute_result",
          "data": {
            "text/plain": [
              "(59.37747457206648, 48.0, 705, 0)"
            ]
          },
          "metadata": {
            "tags": []
          },
          "execution_count": 55
        }
      ]
    },
    {
      "cell_type": "code",
      "metadata": {
        "id": "5mxVEKIZ39yq"
      },
      "source": [
        "def create_model():\r\n",
        "    inps = Input(shape = (max_len,), dtype='int64')\r\n",
        "    masks= Input(shape = (max_len,), dtype='int64')\r\n",
        "    dbert_layer = dbert_model(inps, attention_mask=masks)[0][:,0,:]\r\n",
        "    dense1 = Dense(512,activation='relu',kernel_regularizer=regularizers.l2(0.01))(dbert_layer)\r\n",
        "    dropout1= Dropout(0.2)(dense1)\r\n",
        "    dense2 = Dense(256,activation='relu',kernel_regularizer=regularizers.l2(0.01))(dropout1)\r\n",
        "    dense3 = Dense(128,activation='relu',kernel_regularizer=regularizers.l2(0.01))(dense2)\r\n",
        "    pred = Dense(num_classes, activation='softmax',kernel_regularizer=regularizers.l2(0.01))(dense3)\r\n",
        "    model = tf.keras.Model(inputs=[inps,masks], outputs=pred)\r\n",
        "    return model"
      ],
      "execution_count": 56,
      "outputs": []
    },
    {
      "cell_type": "code",
      "metadata": {
        "colab": {
          "base_uri": "https://localhost:8080/"
        },
        "id": "6EiVWC1y4-Vq",
        "outputId": "38bae762-5d00-47f3-ca77-897961d7b618"
      },
      "source": [
        "model=create_model()"
      ],
      "execution_count": 57,
      "outputs": [
        {
          "output_type": "stream",
          "text": [
            "WARNING:tensorflow:The parameters `output_attentions`, `output_hidden_states` and `use_cache` cannot be updated when calling a model.They have to be set to True/False in the config object (i.e.: `config=XConfig.from_pretrained('name', output_attentions=True)`).\n",
            "WARNING:tensorflow:AutoGraph could not transform <bound method Socket.send of <zmq.sugar.socket.Socket object at 0x7fc44e2e1ec0>> and will run it as-is.\n",
            "Please report this to the TensorFlow team. When filing the bug, set the verbosity to 10 (on Linux, `export AUTOGRAPH_VERBOSITY=10`) and attach the full output.\n",
            "Cause: module, class, method, function, traceback, frame, or code object was expected, got cython_function_or_method\n",
            "To silence this warning, decorate the function with @tf.autograph.experimental.do_not_convert\n"
          ],
          "name": "stdout"
        },
        {
          "output_type": "stream",
          "text": [
            "WARNING:tensorflow:AutoGraph could not transform <bound method Socket.send of <zmq.sugar.socket.Socket object at 0x7fc44e2e1ec0>> and will run it as-is.\n",
            "Please report this to the TensorFlow team. When filing the bug, set the verbosity to 10 (on Linux, `export AUTOGRAPH_VERBOSITY=10`) and attach the full output.\n",
            "Cause: module, class, method, function, traceback, frame, or code object was expected, got cython_function_or_method\n",
            "To silence this warning, decorate the function with @tf.autograph.experimental.do_not_convert\n"
          ],
          "name": "stderr"
        },
        {
          "output_type": "stream",
          "text": [
            "WARNING: AutoGraph could not transform <bound method Socket.send of <zmq.sugar.socket.Socket object at 0x7fc44e2e1ec0>> and will run it as-is.\n",
            "Please report this to the TensorFlow team. When filing the bug, set the verbosity to 10 (on Linux, `export AUTOGRAPH_VERBOSITY=10`) and attach the full output.\n",
            "Cause: module, class, method, function, traceback, frame, or code object was expected, got cython_function_or_method\n",
            "To silence this warning, decorate the function with @tf.autograph.experimental.do_not_convert\n"
          ],
          "name": "stdout"
        },
        {
          "output_type": "stream",
          "text": [
            "WARNING:tensorflow:The parameters `output_attentions`, `output_hidden_states` and `use_cache` cannot be updated when calling a model.They have to be set to True/False in the config object (i.e.: `config=XConfig.from_pretrained('name', output_attentions=True)`).\n"
          ],
          "name": "stderr"
        },
        {
          "output_type": "stream",
          "text": [
            "WARNING:tensorflow:AutoGraph could not transform <function wrap at 0x7fc469b91c20> and will run it as-is.\n",
            "Cause: while/else statement not yet supported\n",
            "To silence this warning, decorate the function with @tf.autograph.experimental.do_not_convert\n"
          ],
          "name": "stdout"
        },
        {
          "output_type": "stream",
          "text": [
            "WARNING:tensorflow:AutoGraph could not transform <function wrap at 0x7fc469b91c20> and will run it as-is.\n",
            "Cause: while/else statement not yet supported\n",
            "To silence this warning, decorate the function with @tf.autograph.experimental.do_not_convert\n"
          ],
          "name": "stderr"
        },
        {
          "output_type": "stream",
          "text": [
            "WARNING:tensorflow:The parameter `return_dict` cannot be set in graph mode and will always be set to `True`.\n",
            "WARNING: AutoGraph could not transform <function wrap at 0x7fc469b91c20> and will run it as-is.\n",
            "Cause: while/else statement not yet supported\n",
            "To silence this warning, decorate the function with @tf.autograph.experimental.do_not_convert\n"
          ],
          "name": "stdout"
        },
        {
          "output_type": "stream",
          "text": [
            "WARNING:tensorflow:The parameter `return_dict` cannot be set in graph mode and will always be set to `True`.\n"
          ],
          "name": "stderr"
        }
      ]
    },
    {
      "cell_type": "code",
      "metadata": {
        "colab": {
          "base_uri": "https://localhost:8080/"
        },
        "id": "e5CkfLLp5Bt5",
        "outputId": "4b80ad02-8503-4f60-ef91-d4e3c11ba770"
      },
      "source": [
        "print(model.summary())"
      ],
      "execution_count": 58,
      "outputs": [
        {
          "output_type": "stream",
          "text": [
            "Model: \"model\"\n",
            "__________________________________________________________________________________________________\n",
            "Layer (type)                    Output Shape         Param #     Connected to                     \n",
            "==================================================================================================\n",
            "input_1 (InputLayer)            [(None, 128)]        0                                            \n",
            "__________________________________________________________________________________________________\n",
            "input_2 (InputLayer)            [(None, 128)]        0                                            \n",
            "__________________________________________________________________________________________________\n",
            "tf_distil_bert_model (TFDistilB TFBaseModelOutput(la 66362880    input_1[0][0]                    \n",
            "                                                                 input_2[0][0]                    \n",
            "__________________________________________________________________________________________________\n",
            "tf.__operators__.getitem (Slici (None, 768)          0           tf_distil_bert_model[0][0]       \n",
            "__________________________________________________________________________________________________\n",
            "dense (Dense)                   (None, 512)          393728      tf.__operators__.getitem[0][0]   \n",
            "__________________________________________________________________________________________________\n",
            "dropout_19 (Dropout)            (None, 512)          0           dense[0][0]                      \n",
            "__________________________________________________________________________________________________\n",
            "dense_1 (Dense)                 (None, 256)          131328      dropout_19[0][0]                 \n",
            "__________________________________________________________________________________________________\n",
            "dense_2 (Dense)                 (None, 128)          32896       dense_1[0][0]                    \n",
            "__________________________________________________________________________________________________\n",
            "dense_3 (Dense)                 (None, 5)            645         dense_2[0][0]                    \n",
            "==================================================================================================\n",
            "Total params: 66,921,477\n",
            "Trainable params: 66,921,477\n",
            "Non-trainable params: 0\n",
            "__________________________________________________________________________________________________\n",
            "None\n"
          ],
          "name": "stdout"
        }
      ]
    },
    {
      "cell_type": "code",
      "metadata": {
        "colab": {
          "base_uri": "https://localhost:8080/",
          "height": 757
        },
        "id": "S7PgKqaPMest",
        "outputId": "d1402d30-8d67-4b04-8f31-7a4bccefeacc"
      },
      "source": [
        "tf.keras.utils.plot_model(model)"
      ],
      "execution_count": 59,
      "outputs": [
        {
          "output_type": "execute_result",
          "data": {
            "image/png": "[encoded data removed]",
            "text/plain": [
              "<IPython.core.display.Image object>"
            ]
          },
          "metadata": {
            "tags": []
          },
          "execution_count": 59
        }
      ]
    },
    {
      "cell_type": "code",
      "metadata": {
        "colab": {
          "base_uri": "https://localhost:8080/"
        },
        "id": "aEk4Y3rc5NiC",
        "outputId": "5c009952-0fcd-4ba3-b991-8eb92e2eeb56"
      },
      "source": [
        "# Prepare the model input\r\n",
        "input_ids=[]\r\n",
        "attention_masks=[]\r\n",
        "\r\n",
        "for sent in sentences:\r\n",
        "    dbert_inps=dbert_tokenizer.encode_plus(sent,add_special_tokens = True,max_length =max_len,pad_to_max_length = True,return_attention_mask = True,truncation=True)\r\n",
        "    input_ids.append(dbert_inps['input_ids'])\r\n",
        "    attention_masks.append(dbert_inps['attention_mask'])\r\n",
        "\r\n",
        "input_ids=np.asarray(input_ids)\r\n",
        "attention_masks=np.array(attention_masks)\r\n",
        "labels=np.array([t.index(1) for t in targets])"
      ],
      "execution_count": 60,
      "outputs": [
        {
          "output_type": "stream",
          "text": [
            "/usr/local/lib/python3.7/dist-packages/transformers/tokenization_utils_base.py:2155: FutureWarning: The `pad_to_max_length` argument is deprecated and will be removed in a future version, use `padding=True` or `padding='longest'` to pad to the longest sequence in the batch, or use `padding='max_length'` to pad to a max length. In this case, you can give a specific length with `max_length` (e.g. `max_length=45`) or leave max_length to None to pad to the maximal input size of the model (e.g. 512 for Bert).\n",
            "  FutureWarning,\n"
          ],
          "name": "stderr"
        }
      ]
    },
    {
      "cell_type": "code",
      "metadata": {
        "colab": {
          "base_uri": "https://localhost:8080/"
        },
        "id": "ctaQcF7W55Kx",
        "outputId": "177d55e5-aa54-4a65-b264-121bca8e31fa"
      },
      "source": [
        "! ls"
      ],
      "execution_count": 61,
      "outputs": [
        {
          "output_type": "stream",
          "text": [
            "combined_data.csv  drive  model.png  sample_data\n"
          ],
          "name": "stdout"
        }
      ]
    },
    {
      "cell_type": "code",
      "metadata": {
        "colab": {
          "base_uri": "https://localhost:8080/"
        },
        "id": "5_NHaE8V5OwA",
        "outputId": "4a5a19a1-3338-4cd8-c4e3-b61623e07d00"
      },
      "source": [
        "# Save the model input in the pickle files to use it later without performing the above steps\r\n",
        "print('Preparing the pickle file.....')\r\n",
        "\r\n",
        "pickle_inp_path='sample_data/dbert_inp.pkl'\r\n",
        "pickle_mask_path='sample_data/dbert_mask.pkl'\r\n",
        "pickle_label_path='sample_data/dbert_label.pkl'\r\n",
        "\r\n",
        "pickle.dump((input_ids),open(pickle_inp_path,'wb'))\r\n",
        "pickle.dump((attention_masks),open(pickle_mask_path,'wb'))\r\n",
        "pickle.dump((labels),open(pickle_label_path,'wb'))\r\n",
        "\r\n",
        "\r\n",
        "print('Pickle files saved as ',pickle_inp_path,pickle_mask_path,pickle_label_path)"
      ],
      "execution_count": 62,
      "outputs": [
        {
          "output_type": "stream",
          "text": [
            "Preparing the pickle file.....\n",
            "Pickle files saved as  sample_data/dbert_inp.pkl sample_data/dbert_mask.pkl sample_data/dbert_label.pkl\n"
          ],
          "name": "stdout"
        }
      ]
    },
    {
      "cell_type": "code",
      "metadata": {
        "colab": {
          "base_uri": "https://localhost:8080/"
        },
        "id": "Vfu4feG66ArT",
        "outputId": "2352f29b-981a-4d70-a143-6da5fcc7ec36"
      },
      "source": [
        "print('Loading the saved pickle files..')\r\n",
        "\r\n",
        "input_ids=pickle.load(open(pickle_inp_path, 'rb'))\r\n",
        "attention_masks=pickle.load(open(pickle_mask_path, 'rb'))\r\n",
        "labels=pickle.load(open(pickle_label_path, 'rb'))\r\n",
        "\r\n",
        "print('Input shape {} Attention mask shape {} Input label shape {}'.format(input_ids.shape,attention_masks.shape,labels.shape))"
      ],
      "execution_count": 63,
      "outputs": [
        {
          "output_type": "stream",
          "text": [
            "Loading the saved pickle files..\n",
            "Input shape (40310, 128) Attention mask shape (40310, 128) Input label shape (40310,)\n"
          ],
          "name": "stdout"
        }
      ]
    },
    {
      "cell_type": "code",
      "metadata": {
        "id": "nRBKHJGW6N-x"
      },
      "source": [
        "target_names = ['happiness', 'sadness', 'worry', 'undertain', 'neutral']"
      ],
      "execution_count": 64,
      "outputs": []
    },
    {
      "cell_type": "code",
      "metadata": {
        "colab": {
          "base_uri": "https://localhost:8080/"
        },
        "id": "BdmeLkcM_QSV",
        "outputId": "5b79a020-550a-4b71-b9ed-8c8d96672786"
      },
      "source": [
        "train_inp,val_inp,train_label,val_label,train_mask,val_mask=train_test_split(input_ids,labels,attention_masks,test_size=0.2)\r\n",
        "\r\n",
        "print('Train inp shape {} Val input shape {}\\nTrain label shape {} Val label shape {}\\nTrain attention mask shape {} Val attention mask shape {}'.format(train_inp.shape,val_inp.shape,train_label.shape,val_label.shape,train_mask.shape,val_mask.shape))"
      ],
      "execution_count": 65,
      "outputs": [
        {
          "output_type": "stream",
          "text": [
            "Train inp shape (32248, 128) Val input shape (8062, 128)\n",
            "Train label shape (32248,) Val label shape (8062,)\n",
            "Train attention mask shape (32248, 128) Val attention mask shape (8062, 128)\n"
          ],
          "name": "stdout"
        }
      ]
    },
    {
      "cell_type": "code",
      "metadata": {
        "id": "cDYF_7_76X_o"
      },
      "source": [
        "log_dir='dbert_model'\r\n",
        "model_save_path='./dbert_model.h5'\r\n",
        "\r\n",
        "callbacks = [tf.keras.callbacks.ModelCheckpoint(filepath=model_save_path,save_weights_only=True,monitor='val_loss',mode='min',save_best_only=True),keras.callbacks.TensorBoard(log_dir=log_dir)]\r\n",
        "\r\n",
        "loss = tf.keras.losses.SparseCategoricalCrossentropy(from_logits=True)\r\n",
        "metric = tf.keras.metrics.SparseCategoricalAccuracy('accuracy')\r\n",
        "optimizer = tf.keras.optimizers.Adam(learning_rate=3e-5)\r\n",
        "\r\n",
        "model.compile(loss=loss,optimizer=optimizer, metrics=[metric])"
      ],
      "execution_count": 66,
      "outputs": []
    },
    {
      "cell_type": "code",
      "metadata": {
        "id": "Xe3YOa_67ISQ"
      },
      "source": [
        "callbacks= [tf.keras.callbacks.ModelCheckpoint(filepath=model_save_path,save_weights_only=True,monitor='val_loss',mode='min',save_best_only=True),keras.callbacks.TensorBoard(log_dir=log_dir)]"
      ],
      "execution_count": null,
      "outputs": []
    },
    {
      "cell_type": "code",
      "metadata": {
        "colab": {
          "base_uri": "https://localhost:8080/"
        },
        "id": "UY8j995x7SYw",
        "outputId": "9a1378a8-dab4-4803-a91c-ec1f6f4b5ff0"
      },
      "source": [
        "history=model.fit([train_inp,train_mask],train_label,batch_size=16,epochs=5,validation_data=([val_inp,val_mask],val_label),callbacks=callbacks)"
      ],
      "execution_count": null,
      "outputs": [
        {
          "output_type": "stream",
          "text": [
            "WARNING:tensorflow:Model failed to serialize as JSON. Ignoring... \n"
          ],
          "name": "stdout"
        },
        {
          "output_type": "stream",
          "text": [
            "WARNING:tensorflow:Model failed to serialize as JSON. Ignoring... \n"
          ],
          "name": "stderr"
        },
        {
          "output_type": "stream",
          "text": [
            "Epoch 1/5\n",
            "WARNING:tensorflow:The parameters `output_attentions`, `output_hidden_states` and `use_cache` cannot be updated when calling a model.They have to be set to True/False in the config object (i.e.: `config=XConfig.from_pretrained('name', output_attentions=True)`).\n"
          ],
          "name": "stdout"
        },
        {
          "output_type": "stream",
          "text": [
            "WARNING:tensorflow:The parameters `output_attentions`, `output_hidden_states` and `use_cache` cannot be updated when calling a model.They have to be set to True/False in the config object (i.e.: `config=XConfig.from_pretrained('name', output_attentions=True)`).\n"
          ],
          "name": "stderr"
        },
        {
          "output_type": "stream",
          "text": [
            "WARNING:tensorflow:The parameter `return_dict` cannot be set in graph mode and will always be set to `True`.\n"
          ],
          "name": "stdout"
        },
        {
          "output_type": "stream",
          "text": [
            "WARNING:tensorflow:The parameter `return_dict` cannot be set in graph mode and will always be set to `True`.\n"
          ],
          "name": "stderr"
        },
        {
          "output_type": "stream",
          "text": [
            "WARNING:tensorflow:The parameters `output_attentions`, `output_hidden_states` and `use_cache` cannot be updated when calling a model.They have to be set to True/False in the config object (i.e.: `config=XConfig.from_pretrained('name', output_attentions=True)`).\n"
          ],
          "name": "stdout"
        },
        {
          "output_type": "stream",
          "text": [
            "WARNING:tensorflow:The parameters `output_attentions`, `output_hidden_states` and `use_cache` cannot be updated when calling a model.They have to be set to True/False in the config object (i.e.: `config=XConfig.from_pretrained('name', output_attentions=True)`).\n"
          ],
          "name": "stderr"
        },
        {
          "output_type": "stream",
          "text": [
            "WARNING:tensorflow:The parameter `return_dict` cannot be set in graph mode and will always be set to `True`.\n"
          ],
          "name": "stdout"
        },
        {
          "output_type": "stream",
          "text": [
            "WARNING:tensorflow:The parameter `return_dict` cannot be set in graph mode and will always be set to `True`.\n"
          ],
          "name": "stderr"
        },
        {
          "output_type": "stream",
          "text": [
            "2016/2016 [==============================] - ETA: 0s - loss: 9.4280 - accuracy: 0.8813WARNING:tensorflow:The parameters `output_attentions`, `output_hidden_states` and `use_cache` cannot be updated when calling a model.They have to be set to True/False in the config object (i.e.: `config=XConfig.from_pretrained('name', output_attentions=True)`).\n"
          ],
          "name": "stdout"
        },
        {
          "output_type": "stream",
          "text": [
            "WARNING:tensorflow:The parameters `output_attentions`, `output_hidden_states` and `use_cache` cannot be updated when calling a model.They have to be set to True/False in the config object (i.e.: `config=XConfig.from_pretrained('name', output_attentions=True)`).\n"
          ],
          "name": "stderr"
        },
        {
          "output_type": "stream",
          "text": [
            "WARNING:tensorflow:The parameter `return_dict` cannot be set in graph mode and will always be set to `True`.\n"
          ],
          "name": "stdout"
        },
        {
          "output_type": "stream",
          "text": [
            "WARNING:tensorflow:The parameter `return_dict` cannot be set in graph mode and will always be set to `True`.\n"
          ],
          "name": "stderr"
        },
        {
          "output_type": "stream",
          "text": [
            "2016/2016 [==============================] - 452s 221ms/step - loss: 9.4270 - accuracy: 0.8813 - val_loss: 4.1778 - val_accuracy: 0.8983\n",
            "Epoch 2/5\n",
            "2016/2016 [==============================] - 447s 222ms/step - loss: 3.2293 - accuracy: 0.9337 - val_loss: 1.6478 - val_accuracy: 0.8876\n",
            "Epoch 3/5\n",
            "2016/2016 [==============================] - 447s 222ms/step - loss: 1.2124 - accuracy: 0.9572 - val_loss: 0.9626 - val_accuracy: 0.8803\n",
            "Epoch 4/5\n",
            "2016/2016 [==============================] - 447s 222ms/step - loss: 0.6103 - accuracy: 0.9690 - val_loss: 0.7607 - val_accuracy: 0.8771\n",
            "Epoch 5/5\n",
            "2016/2016 [==============================] - 447s 222ms/step - loss: 0.3868 - accuracy: 0.9753 - val_loss: 0.6940 - val_accuracy: 0.8597\n"
          ],
          "name": "stdout"
        }
      ]
    },
    {
      "cell_type": "code",
      "metadata": {
        "id": "H9epFUHx8huf"
      },
      "source": [
        ""
      ],
      "execution_count": null,
      "outputs": []
    },
    {
      "cell_type": "code",
      "metadata": {
        "colab": {
          "base_uri": "https://localhost:8080/"
        },
        "id": "MOZ_YvfBUT-u",
        "outputId": "6d5b2ccd-a829-4a9f-a454-af7ec4dd4097"
      },
      "source": [
        "!zip -r /content/enotions-DistilBert-v1.zip /content/"
      ],
      "execution_count": null,
      "outputs": [
        {
          "output_type": "stream",
          "text": [
            "updating: content/ (stored 0%)\n",
            "updating: content/.config/ (stored 0%)\n",
            "updating: content/.config/.last_update_check.json (deflated 25%)\n",
            "updating: content/.config/active_config (stored 0%)\n",
            "updating: content/.config/configurations/ (stored 0%)\n",
            "updating: content/.config/configurations/config_default (deflated 15%)\n",
            "updating: content/.config/.last_survey_prompt.yaml (stored 0%)\n",
            "updating: content/.config/config_sentinel (stored 0%)\n",
            "updating: content/.config/.last_opt_in_prompt.yaml (stored 0%)\n",
            "updating: content/.config/logs/ (stored 0%)\n",
            "updating: content/.config/logs/2021.03.01/ (stored 0%)\n",
            "updating: content/.config/logs/2021.03.01/14.35.09.556851.log (deflated 87%)\n",
            "updating: content/.config/logs/2021.03.01/14.35.14.752951.log (deflated 54%)\n",
            "updating: content/.config/logs/2021.03.01/14.34.56.151354.log (deflated 53%)\n",
            "updating: content/.config/logs/2021.03.01/14.35.29.900487.log (deflated 54%)\n",
            "updating: content/.config/logs/2021.03.01/14.34.37.071843.log (deflated 92%)\n",
            "updating: content/.config/logs/2021.03.01/14.35.29.380461.log (deflated 54%)\n",
            "updating: content/.config/gce (stored 0%)\n",
            "updating: content/dbert_model/ (stored 0%)\n",
            "updating: content/dbert_model/validation/ (stored 0%)\n",
            "updating: content/dbert_model/validation/events.out.tfevents.1615012278.4453bda6a066.59.80463.v2 (deflated 48%)\n",
            "updating: content/dbert_model/train/ (stored 0%)\n",
            "updating: content/dbert_model/train/plugins/ (stored 0%)\n",
            "updating: content/dbert_model/train/plugins/profile/ (stored 0%)\n",
            "updating: content/dbert_model/train/plugins/profile/2021_03_06_06_24_30/ (stored 0%)\n",
            "updating: content/dbert_model/train/plugins/profile/2021_03_06_06_24_30/4453bda6a066.trace.json.gz (deflated 1%)\n",
            "updating: content/dbert_model/train/plugins/profile/2021_03_06_06_24_30/4453bda6a066.memory_profile.json.gz (deflated 0%)\n",
            "updating: content/dbert_model/train/plugins/profile/2021_03_06_06_24_30/4453bda6a066.kernel_stats.pb (deflated 97%)\n",
            "updating: content/dbert_model/train/plugins/profile/2021_03_06_06_24_30/4453bda6a066.input_pipeline.pb (deflated 56%)\n",
            "updating: content/dbert_model/train/plugins/profile/2021_03_06_06_24_30/4453bda6a066.xplane.pb (deflated 83%)\n",
            "updating: content/dbert_model/train/plugins/profile/2021_03_06_06_24_30/4453bda6a066.overview_page.pb (deflated 64%)\n",
            "updating: content/dbert_model/train/plugins/profile/2021_03_06_06_24_30/4453bda6a066.tensorflow_stats.pb (deflated 79%)\n",
            "updating: content/dbert_model/train/events.out.tfevents.1615011870.4453bda6a066.profile-empty (deflated 5%)\n",
            "updating: content/dbert_model/train/events.out.tfevents.1615011862.4453bda6a066.59.65778.v2 (deflated 94%)\n",
            "updating: content/dbert_model.h5 (deflated 8%)\n",
            "updating: content/sample_data/ (stored 0%)\n",
            "updating: content/sample_data/anscombe.json (deflated 83%)\n",
            "updating: content/sample_data/README.md (deflated 42%)\n",
            "updating: content/sample_data/dbert_inp.pkl (deflated 96%)\n",
            "updating: content/sample_data/dbert_label.pkl (deflated 93%)\n",
            "updating: content/sample_data/dbert_mask.pkl (deflated 100%)\n",
            "updating: content/sample_data/california_housing_train.csv (deflated 79%)\n",
            "updating: content/sample_data/california_housing_test.csv (deflated 76%)\n",
            "updating: content/sample_data/mnist_test.csv (deflated 88%)\n",
            "updating: content/sample_data/mnist_train_small.csv (deflated 88%)\n",
            "  adding: content/dbert_model/validation/events.out.tfevents.1615014920.4453bda6a066.59.121148.v2 (deflated 49%)\n",
            "  adding: content/dbert_model/train/plugins/profile/2021_03_06_07_08_32/ (stored 0%)\n",
            "  adding: content/dbert_model/train/plugins/profile/2021_03_06_07_08_32/4453bda6a066.trace.json.gz (deflated 1%)\n",
            "  adding: content/dbert_model/train/plugins/profile/2021_03_06_07_08_32/4453bda6a066.memory_profile.json.gz (deflated 0%)\n",
            "  adding: content/dbert_model/train/plugins/profile/2021_03_06_07_08_32/4453bda6a066.kernel_stats.pb (deflated 97%)\n",
            "  adding: content/dbert_model/train/plugins/profile/2021_03_06_07_08_32/4453bda6a066.input_pipeline.pb (deflated 56%)\n",
            "  adding: content/dbert_model/train/plugins/profile/2021_03_06_07_08_32/4453bda6a066.xplane.pb (deflated 83%)\n",
            "  adding: content/dbert_model/train/plugins/profile/2021_03_06_07_08_32/4453bda6a066.overview_page.pb (deflated 63%)\n",
            "  adding: content/dbert_model/train/plugins/profile/2021_03_06_07_08_32/4453bda6a066.tensorflow_stats.pb (deflated 79%)\n",
            "  adding: content/dbert_model/train/events.out.tfevents.1615014504.4453bda6a066.59.106527.v2 (deflated 94%)\n"
          ],
          "name": "stdout"
        }
      ]
    },
    {
      "cell_type": "code",
      "metadata": {
        "colab": {
          "base_uri": "https://localhost:8080/"
        },
        "id": "Y5_cN6KKUa5k",
        "outputId": "c500033b-8a32-47a7-b28f-d3eb804e93fd"
      },
      "source": [
        "!ls"
      ],
      "execution_count": null,
      "outputs": [
        {
          "output_type": "stream",
          "text": [
            "dbert_model  dbert_model.h5  enotions-DistilBert-v1.zip  sample_data\n"
          ],
          "name": "stdout"
        }
      ]
    },
    {
      "cell_type": "markdown",
      "metadata": {
        "id": "LyK8nWmGyR89"
      },
      "source": [
        "# 7- Model evaluation  & prediction"
      ]
    },
    {
      "cell_type": "code",
      "metadata": {
        "id": "o-8eEOBF2xO_"
      },
      "source": [
        "%load_ext tensorboard\r\n",
        "%tensorboard --logdir {'dbert_model'}"
      ],
      "execution_count": null,
      "outputs": []
    },
    {
      "cell_type": "code",
      "metadata": {
        "colab": {
          "base_uri": "https://localhost:8080/"
        },
        "id": "rFpb1ePsPaP3",
        "outputId": "94389ca6-c734-4fed-ef52-0b72e9f4555d"
      },
      "source": [
        "%cd /content/drive/MyDrive/Colab Notebooks/IFT-6010-project/"
      ],
      "execution_count": 67,
      "outputs": [
        {
          "output_type": "stream",
          "text": [
            "/content/drive/MyDrive/Colab Notebooks/IFT-6010-project\n"
          ],
          "name": "stdout"
        }
      ]
    },
    {
      "cell_type": "code",
      "metadata": {
        "colab": {
          "base_uri": "https://localhost:8080/"
        },
        "id": "O4Ee3lQvzY7j",
        "outputId": "eb7952fa-6f8c-44b2-dddb-3e8e65a7e49b"
      },
      "source": [
        "# Load saved model\r\n",
        "trained_model = create_model()\r\n",
        "trained_model.compile(loss=loss,optimizer=optimizer, metrics=[metric])\r\n",
        "trained_model.load_weights('dbert_model.h5')"
      ],
      "execution_count": 68,
      "outputs": [
        {
          "output_type": "stream",
          "text": [
            "WARNING:tensorflow:The parameters `output_attentions`, `output_hidden_states` and `use_cache` cannot be updated when calling a model.They have to be set to True/False in the config object (i.e.: `config=XConfig.from_pretrained('name', output_attentions=True)`).\n"
          ],
          "name": "stdout"
        },
        {
          "output_type": "stream",
          "text": [
            "WARNING:tensorflow:The parameters `output_attentions`, `output_hidden_states` and `use_cache` cannot be updated when calling a model.They have to be set to True/False in the config object (i.e.: `config=XConfig.from_pretrained('name', output_attentions=True)`).\n"
          ],
          "name": "stderr"
        },
        {
          "output_type": "stream",
          "text": [
            "WARNING:tensorflow:The parameter `return_dict` cannot be set in graph mode and will always be set to `True`.\n"
          ],
          "name": "stdout"
        },
        {
          "output_type": "stream",
          "text": [
            "WARNING:tensorflow:The parameter `return_dict` cannot be set in graph mode and will always be set to `True`.\n"
          ],
          "name": "stderr"
        }
      ]
    },
    {
      "cell_type": "code",
      "metadata": {
        "colab": {
          "base_uri": "https://localhost:8080/"
        },
        "id": "y1c8CqSb0uUE",
        "outputId": "950b62a7-7b41-4ef9-ed79-73f4835623b7"
      },
      "source": [
        "# F1 score on test dataset\r\n",
        "preds = trained_model.predict([val_inp,val_mask],batch_size=16)\r\n",
        "pred_labels = preds.argmax(axis=1)\r\n",
        "f1 = f1_score(val_label,pred_labels, average='weighted')\r\n",
        "print('F1-score of test dataset')\r\n",
        "f1"
      ],
      "execution_count": 69,
      "outputs": [
        {
          "output_type": "stream",
          "text": [
            "WARNING:tensorflow:The parameters `output_attentions`, `output_hidden_states` and `use_cache` cannot be updated when calling a model.They have to be set to True/False in the config object (i.e.: `config=XConfig.from_pretrained('name', output_attentions=True)`).\n"
          ],
          "name": "stdout"
        },
        {
          "output_type": "stream",
          "text": [
            "WARNING:tensorflow:The parameters `output_attentions`, `output_hidden_states` and `use_cache` cannot be updated when calling a model.They have to be set to True/False in the config object (i.e.: `config=XConfig.from_pretrained('name', output_attentions=True)`).\n"
          ],
          "name": "stderr"
        },
        {
          "output_type": "stream",
          "text": [
            "WARNING:tensorflow:The parameter `return_dict` cannot be set in graph mode and will always be set to `True`.\n"
          ],
          "name": "stdout"
        },
        {
          "output_type": "stream",
          "text": [
            "WARNING:tensorflow:The parameter `return_dict` cannot be set in graph mode and will always be set to `True`.\n"
          ],
          "name": "stderr"
        },
        {
          "output_type": "stream",
          "text": [
            "F1-score of test dataset\n"
          ],
          "name": "stdout"
        },
        {
          "output_type": "execute_result",
          "data": {
            "text/plain": [
              "0.9621737276037259"
            ]
          },
          "metadata": {
            "tags": []
          },
          "execution_count": 69
        }
      ]
    },
    {
      "cell_type": "code",
      "metadata": {
        "colab": {
          "base_uri": "https://localhost:8080/"
        },
        "id": "HiFSoatByw_b",
        "outputId": "968453e1-ea28-4d46-d544-7cc2b8f87255"
      },
      "source": [
        "from sklearn.metrics import accuracy_score\r\n",
        "print('Test Accuracy')\r\n",
        "accuracy_score(val_label, pred_labels, normalize=True, sample_weight=None)"
      ],
      "execution_count": 70,
      "outputs": [
        {
          "output_type": "stream",
          "text": [
            "Test Accuracy\n"
          ],
          "name": "stdout"
        },
        {
          "output_type": "execute_result",
          "data": {
            "text/plain": [
              "0.9620441577772265"
            ]
          },
          "metadata": {
            "tags": []
          },
          "execution_count": 70
        }
      ]
    },
    {
      "cell_type": "code",
      "metadata": {
        "id": "xwDaTRk0zAsH",
        "colab": {
          "base_uri": "https://localhost:8080/"
        },
        "outputId": "12ce425c-b521-423e-d164-8cf296694727"
      },
      "source": [
        "train_preds = trained_model.predict([train_inp,train_mask],batch_size=16)\r\n",
        "train_pred_labels = train_preds.argmax(axis=1)\r\n",
        "print('Train Accuracy')\r\n",
        "accuracy_score(train_label, train_pred_labels, normalize=True, sample_weight=None)"
      ],
      "execution_count": 71,
      "outputs": [
        {
          "output_type": "stream",
          "text": [
            "Train Accuracy\n"
          ],
          "name": "stdout"
        },
        {
          "output_type": "execute_result",
          "data": {
            "text/plain": [
              "0.9626643512775986"
            ]
          },
          "metadata": {
            "tags": []
          },
          "execution_count": 71
        }
      ]
    },
    {
      "cell_type": "code",
      "metadata": {
        "id": "yyrzsnEJ1kjZ",
        "colab": {
          "base_uri": "https://localhost:8080/"
        },
        "outputId": "36df7754-a42f-4568-fe6b-c902fd5541f6"
      },
      "source": [
        "print('Classification Report')\r\n",
        "print(classification_report(val_label,pred_labels,target_names=target_names))"
      ],
      "execution_count": 72,
      "outputs": [
        {
          "output_type": "stream",
          "text": [
            "Classification Report\n",
            "              precision    recall  f1-score   support\n",
            "\n",
            "   happiness       0.97      0.93      0.95      1030\n",
            "     sadness       0.90      0.93      0.91      1031\n",
            "       worry       0.92      0.94      0.93      1685\n",
            "   undertain       0.98      1.00      0.99      1419\n",
            "     neutral       0.99      0.98      0.99      2897\n",
            "\n",
            "    accuracy                           0.96      8062\n",
            "   macro avg       0.95      0.95      0.95      8062\n",
            "weighted avg       0.96      0.96      0.96      8062\n",
            "\n"
          ],
          "name": "stdout"
        }
      ]
    },
    {
      "cell_type": "code",
      "metadata": {
        "id": "6Vf5h2_Z0y2R"
      },
      "source": [
        "target_names = ['happiness', 'sadness', 'worry', 'undertain', 'neutral']"
      ],
      "execution_count": 73,
      "outputs": []
    },
    {
      "cell_type": "code",
      "metadata": {
        "id": "1xBSHZN54sud"
      },
      "source": [
        "def predict_sentiment(sent):\r\n",
        "  # Prepare the model input\r\n",
        "  input_id=[]\r\n",
        "  attention_mask=[]\r\n",
        "\r\n",
        "  dbert_inps=dbert_tokenizer.encode_plus(sent,add_special_tokens = True,max_length =max_len,pad_to_max_length = True,return_attention_mask = True,truncation=True)\r\n",
        "  input_id.append(dbert_inps['input_ids'])\r\n",
        "  attention_mask.append(dbert_inps['attention_mask'])\r\n",
        "\r\n",
        "  input_id=np.asarray(input_id)\r\n",
        "  attention_mask=np.array(attention_mask)\r\n",
        "\r\n",
        "  example_pred = trained_model.predict([input_id,attention_mask],batch_size=1)\r\n",
        "  example_pred_labels = example_pred.argmax(axis=1)\r\n",
        "\r\n",
        "  output = {\r\n",
        "      'sentence': sent,\r\n",
        "      'predicted_label':target_names[example_pred_labels[0]],\r\n",
        "      'confidence_scores': [(target_names[i], example_pred[0][i]) for i in range(0, len(target_names))]\r\n",
        "      }\r\n",
        "  return output"
      ],
      "execution_count": 74,
      "outputs": []
    },
    {
      "cell_type": "code",
      "metadata": {
        "id": "bqrGEl7g1NkV",
        "colab": {
          "base_uri": "https://localhost:8080/"
        },
        "outputId": "01e75b97-b411-4f0a-b4b1-0400f67e181f"
      },
      "source": [
        "predict_sentiment('the second assignment of nlp ruined my spring break')"
      ],
      "execution_count": 75,
      "outputs": [
        {
          "output_type": "stream",
          "text": [
            "WARNING:tensorflow:The parameters `output_attentions`, `output_hidden_states` and `use_cache` cannot be updated when calling a model.They have to be set to True/False in the config object (i.e.: `config=XConfig.from_pretrained('name', output_attentions=True)`).\n"
          ],
          "name": "stdout"
        },
        {
          "output_type": "stream",
          "text": [
            "/usr/local/lib/python3.7/dist-packages/transformers/tokenization_utils_base.py:2155: FutureWarning: The `pad_to_max_length` argument is deprecated and will be removed in a future version, use `padding=True` or `padding='longest'` to pad to the longest sequence in the batch, or use `padding='max_length'` to pad to a max length. In this case, you can give a specific length with `max_length` (e.g. `max_length=45`) or leave max_length to None to pad to the maximal input size of the model (e.g. 512 for Bert).\n",
            "  FutureWarning,\n",
            "WARNING:tensorflow:The parameters `output_attentions`, `output_hidden_states` and `use_cache` cannot be updated when calling a model.They have to be set to True/False in the config object (i.e.: `config=XConfig.from_pretrained('name', output_attentions=True)`).\n"
          ],
          "name": "stderr"
        },
        {
          "output_type": "stream",
          "text": [
            "WARNING:tensorflow:The parameter `return_dict` cannot be set in graph mode and will always be set to `True`.\n"
          ],
          "name": "stdout"
        },
        {
          "output_type": "stream",
          "text": [
            "WARNING:tensorflow:The parameter `return_dict` cannot be set in graph mode and will always be set to `True`.\n"
          ],
          "name": "stderr"
        },
        {
          "output_type": "execute_result",
          "data": {
            "text/plain": [
              "{'confidence_scores': [('happiness', 0.009430327),\n",
              "  ('sadness', 0.24319355),\n",
              "  ('worry', 0.72561663),\n",
              "  ('undertain', 0.0039545335),\n",
              "  ('neutral', 0.017804943)],\n",
              " 'predicted_label': 'worry',\n",
              " 'sentence': 'the second assignment of nlp ruined my spring break'}"
            ]
          },
          "metadata": {
            "tags": []
          },
          "execution_count": 75
        }
      ]
    },
    {
      "cell_type": "code",
      "metadata": {
        "id": "wmed3XuiA4EK"
      },
      "source": [
        ""
      ],
      "execution_count": null,
      "outputs": []
    }
  ]
}