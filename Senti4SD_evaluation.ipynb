{
  "nbformat": 4,
  "nbformat_minor": 0,
  "metadata": {
    "colab": {
      "name": "Senti4SD-evaluation.ipynb",
      "provenance": [],
      "collapsed_sections": []
    },
    "kernelspec": {
      "name": "python3",
      "display_name": "Python 3"
    },
    "accelerator": "GPU"
  },
  "cells": [
    {
      "cell_type": "code",
      "metadata": {
        "colab": {
          "base_uri": "https://localhost:8080/"
        },
        "id": "UIvStLGuXSPU",
        "outputId": "0921134b-deae-4a66-a51f-63faf1737cde"
      },
      "source": [
        "!pip install transformers"
      ],
      "execution_count": null,
      "outputs": [
        {
          "output_type": "stream",
          "text": [
            "Requirement already satisfied: transformers in /usr/local/lib/python3.7/dist-packages (4.3.3)\n",
            "Requirement already satisfied: importlib-metadata; python_version < \"3.8\" in /usr/local/lib/python3.7/dist-packages (from transformers) (3.7.2)\n",
            "Requirement already satisfied: tokenizers<0.11,>=0.10.1 in /usr/local/lib/python3.7/dist-packages (from transformers) (0.10.1)\n",
            "Requirement already satisfied: packaging in /usr/local/lib/python3.7/dist-packages (from transformers) (20.9)\n",
            "Requirement already satisfied: numpy>=1.17 in /usr/local/lib/python3.7/dist-packages (from transformers) (1.19.5)\n",
            "Requirement already satisfied: requests in /usr/local/lib/python3.7/dist-packages (from transformers) (2.23.0)\n",
            "Requirement already satisfied: tqdm>=4.27 in /usr/local/lib/python3.7/dist-packages (from transformers) (4.41.1)\n",
            "Requirement already satisfied: sacremoses in /usr/local/lib/python3.7/dist-packages (from transformers) (0.0.43)\n",
            "Requirement already satisfied: filelock in /usr/local/lib/python3.7/dist-packages (from transformers) (3.0.12)\n",
            "Requirement already satisfied: regex!=2019.12.17 in /usr/local/lib/python3.7/dist-packages (from transformers) (2019.12.20)\n",
            "Requirement already satisfied: typing-extensions>=3.6.4; python_version < \"3.8\" in /usr/local/lib/python3.7/dist-packages (from importlib-metadata; python_version < \"3.8\"->transformers) (3.7.4.3)\n",
            "Requirement already satisfied: zipp>=0.5 in /usr/local/lib/python3.7/dist-packages (from importlib-metadata; python_version < \"3.8\"->transformers) (3.4.1)\n",
            "Requirement already satisfied: pyparsing>=2.0.2 in /usr/local/lib/python3.7/dist-packages (from packaging->transformers) (2.4.7)\n",
            "Requirement already satisfied: urllib3!=1.25.0,!=1.25.1,<1.26,>=1.21.1 in /usr/local/lib/python3.7/dist-packages (from requests->transformers) (1.24.3)\n",
            "Requirement already satisfied: certifi>=2017.4.17 in /usr/local/lib/python3.7/dist-packages (from requests->transformers) (2020.12.5)\n",
            "Requirement already satisfied: idna<3,>=2.5 in /usr/local/lib/python3.7/dist-packages (from requests->transformers) (2.10)\n",
            "Requirement already satisfied: chardet<4,>=3.0.2 in /usr/local/lib/python3.7/dist-packages (from requests->transformers) (3.0.4)\n",
            "Requirement already satisfied: joblib in /usr/local/lib/python3.7/dist-packages (from sacremoses->transformers) (1.0.1)\n",
            "Requirement already satisfied: click in /usr/local/lib/python3.7/dist-packages (from sacremoses->transformers) (7.1.2)\n",
            "Requirement already satisfied: six in /usr/local/lib/python3.7/dist-packages (from sacremoses->transformers) (1.15.0)\n"
          ],
          "name": "stdout"
        }
      ]
    },
    {
      "cell_type": "code",
      "metadata": {
        "id": "e923Jgt4Ujqz"
      },
      "source": [
        "import tensorflow as tf\n",
        "import tensorflow_datasets as tfds\n",
        "import tensorflow_hub as hub\n",
        "import pandas as pd\n",
        "from sklearn.model_selection import train_test_split\n",
        "import numpy as np\n",
        "import re\n",
        "import unicodedata\n",
        "import nltk\n",
        "from nltk.corpus import stopwords\n",
        "from tensorflow import keras\n",
        "from tensorflow.keras.layers import Dense,Dropout, Input\n",
        "from tqdm import tqdm\n",
        "import pickle\n",
        "from sklearn.metrics import confusion_matrix,f1_score,classification_report\n",
        "import matplotlib.pyplot as plt\n",
        "import itertools\n",
        "from sklearn.utils import shuffle\n",
        "from tensorflow.keras import regularizers\n",
        "from transformers import *\n",
        "from transformers import BertTokenizer, TFBertModel, BertConfig,TFDistilBertModel,DistilBertTokenizer,DistilBertConfig"
      ],
      "execution_count": null,
      "outputs": []
    },
    {
      "cell_type": "code",
      "metadata": {
        "id": "5Reui-DMVDY9"
      },
      "source": [
        "df = pd.read_excel('/content/drive/MyDrive/Colab Notebooks/IFT-6010-project/Senti4SD_GoldStandard_EmotionPolarity.xlsx', sheet_name='Primary')"
      ],
      "execution_count": null,
      "outputs": []
    },
    {
      "cell_type": "code",
      "metadata": {
        "id": "og9IGgc6V27S",
        "colab": {
          "base_uri": "https://localhost:8080/",
          "height": 197
        },
        "outputId": "e10f6034-4f81-4b74-a779-29df35febf86"
      },
      "source": [
        "df.tail()"
      ],
      "execution_count": null,
      "outputs": [
        {
          "output_type": "execute_result",
          "data": {
            "text/html": [
              "<div>\n",
              "<style scoped>\n",
              "    .dataframe tbody tr th:only-of-type {\n",
              "        vertical-align: middle;\n",
              "    }\n",
              "\n",
              "    .dataframe tbody tr th {\n",
              "        vertical-align: top;\n",
              "    }\n",
              "\n",
              "    .dataframe thead th {\n",
              "        text-align: right;\n",
              "    }\n",
              "</style>\n",
              "<table border=\"1\" class=\"dataframe\">\n",
              "  <thead>\n",
              "    <tr style=\"text-align: right;\">\n",
              "      <th></th>\n",
              "      <th>Text</th>\n",
              "      <th>Label</th>\n",
              "      <th>Comments</th>\n",
              "    </tr>\n",
              "  </thead>\n",
              "  <tbody>\n",
              "    <tr>\n",
              "      <th>221</th>\n",
              "      <td>Is `PrefixFilter` also expanded into boolean c...</td>\n",
              "      <td>neutral</td>\n",
              "      <td>NaN</td>\n",
              "    </tr>\n",
              "    <tr>\n",
              "      <th>222</th>\n",
              "      <td>Great! I'm glad you like it.</td>\n",
              "      <td>happiness</td>\n",
              "      <td>NaN</td>\n",
              "    </tr>\n",
              "    <tr>\n",
              "      <th>223</th>\n",
              "      <td>Awesome, that did it! Thanks David!</td>\n",
              "      <td>happiness</td>\n",
              "      <td>NaN</td>\n",
              "    </tr>\n",
              "    <tr>\n",
              "      <th>224</th>\n",
              "      <td>Using a unique identifiers would allow you to ...</td>\n",
              "      <td>uncertainty</td>\n",
              "      <td>NaN</td>\n",
              "    </tr>\n",
              "    <tr>\n",
              "      <th>225</th>\n",
              "      <td>Another very fast approach is the [seek method...</td>\n",
              "      <td>uncertainty</td>\n",
              "      <td>NaN</td>\n",
              "    </tr>\n",
              "  </tbody>\n",
              "</table>\n",
              "</div>"
            ],
            "text/plain": [
              "                                                  Text        Label  Comments\n",
              "221  Is `PrefixFilter` also expanded into boolean c...      neutral       NaN\n",
              "222                       Great! I'm glad you like it.    happiness       NaN\n",
              "223                Awesome, that did it! Thanks David!    happiness       NaN\n",
              "224  Using a unique identifiers would allow you to ...  uncertainty       NaN\n",
              "225  Another very fast approach is the [seek method...  uncertainty       NaN"
            ]
          },
          "metadata": {
            "tags": []
          },
          "execution_count": 84
        }
      ]
    },
    {
      "cell_type": "code",
      "metadata": {
        "colab": {
          "base_uri": "https://localhost:8080/"
        },
        "id": "hwL4w3V8WrsK",
        "outputId": "70acf1e3-f905-4f13-f230-3ec09fa27a0f"
      },
      "source": [
        "df.shape"
      ],
      "execution_count": null,
      "outputs": [
        {
          "output_type": "execute_result",
          "data": {
            "text/plain": [
              "(226, 3)"
            ]
          },
          "metadata": {
            "tags": []
          },
          "execution_count": 85
        }
      ]
    },
    {
      "cell_type": "code",
      "metadata": {
        "colab": {
          "base_uri": "https://localhost:8080/"
        },
        "id": "XRV9c4swWlmb",
        "outputId": "8601b332-9e4c-40c7-825d-7973a41df824"
      },
      "source": [
        "df['Label'].value_counts()"
      ],
      "execution_count": null,
      "outputs": [
        {
          "output_type": "execute_result",
          "data": {
            "text/plain": [
              "uncertainty    57\n",
              "happiness      55\n",
              "sadness        41\n",
              "neutral        41\n",
              "worry          32\n",
              "Name: Label, dtype: int64"
            ]
          },
          "metadata": {
            "tags": []
          },
          "execution_count": 86
        }
      ]
    },
    {
      "cell_type": "code",
      "metadata": {
        "colab": {
          "base_uri": "https://localhost:8080/"
        },
        "id": "_dzLU3d4W6yi",
        "outputId": "942b18a6-ab0b-4ed4-8d49-1c274e04b41c"
      },
      "source": [
        "%cd /content/drive/MyDrive/Colab Notebooks/IFT-6010-project/"
      ],
      "execution_count": null,
      "outputs": [
        {
          "output_type": "stream",
          "text": [
            "/content/drive/MyDrive/Colab Notebooks/IFT-6010-project\n"
          ],
          "name": "stdout"
        }
      ]
    },
    {
      "cell_type": "code",
      "metadata": {
        "id": "DkqX7zKsXnjd"
      },
      "source": [
        "num_classes = 5\n",
        "max_len = 128"
      ],
      "execution_count": null,
      "outputs": []
    },
    {
      "cell_type": "code",
      "metadata": {
        "colab": {
          "base_uri": "https://localhost:8080/"
        },
        "id": "Vv1MaQgFX2Th",
        "outputId": "b13cce7e-eb8c-441f-86b2-90635d5149dc"
      },
      "source": [
        "# Loading DistilBERT Tokenizer and the DistilBERT model\n",
        "dbert_tokenizer = DistilBertTokenizer.from_pretrained('distilbert-base-uncased')\n",
        "dbert_model = TFDistilBertModel.from_pretrained('distilbert-base-uncased')"
      ],
      "execution_count": null,
      "outputs": [
        {
          "output_type": "stream",
          "text": [
            "Some layers from the model checkpoint at distilbert-base-uncased were not used when initializing TFDistilBertModel: ['vocab_projector', 'vocab_transform', 'activation_13', 'vocab_layer_norm']\n",
            "- This IS expected if you are initializing TFDistilBertModel from the checkpoint of a model trained on another task or with another architecture (e.g. initializing a BertForSequenceClassification model from a BertForPreTraining model).\n",
            "- This IS NOT expected if you are initializing TFDistilBertModel from the checkpoint of a model that you expect to be exactly identical (initializing a BertForSequenceClassification model from a BertForSequenceClassification model).\n",
            "All the layers of TFDistilBertModel were initialized from the model checkpoint at distilbert-base-uncased.\n",
            "If your task is similar to the task the model of the checkpoint was trained on, you can already use TFDistilBertModel for predictions without further training.\n"
          ],
          "name": "stderr"
        }
      ]
    },
    {
      "cell_type": "code",
      "metadata": {
        "id": "FwoewJppXeSJ"
      },
      "source": [
        "def create_model():\n",
        "    inps = Input(shape = (max_len,), dtype='int64')\n",
        "    masks= Input(shape = (max_len,), dtype='int64')\n",
        "    dbert_layer = dbert_model(inps, attention_mask=masks)[0][:,0,:]\n",
        "    dense1 = Dense(512,activation='relu',kernel_regularizer=regularizers.l2(0.01))(dbert_layer)\n",
        "    dropout1= Dropout(0.2)(dense1)\n",
        "    dense2 = Dense(256,activation='relu',kernel_regularizer=regularizers.l2(0.01))(dropout1)\n",
        "    dense3 = Dense(128,activation='relu',kernel_regularizer=regularizers.l2(0.01))(dense2)\n",
        "    pred = Dense(num_classes, activation='softmax',kernel_regularizer=regularizers.l2(0.01))(dense3)\n",
        "    model = tf.keras.Model(inputs=[inps,masks], outputs=pred)\n",
        "    return model"
      ],
      "execution_count": null,
      "outputs": []
    },
    {
      "cell_type": "code",
      "metadata": {
        "colab": {
          "base_uri": "https://localhost:8080/"
        },
        "id": "3VQ-tZ2xXb3Z",
        "outputId": "6bbbdc44-ce4e-429d-ad38-2bd8d53af8d5"
      },
      "source": [
        "# Load saved model\n",
        "trained_model = create_model()\n",
        "\n",
        "loss = tf.keras.losses.SparseCategoricalCrossentropy(from_logits=True)\n",
        "metric = tf.keras.metrics.SparseCategoricalAccuracy('accuracy')\n",
        "optimizer = tf.keras.optimizers.Adam(learning_rate=3e-5)\n",
        "\n",
        "trained_model.compile(loss=loss,optimizer=optimizer, metrics=[metric])\n",
        "trained_model.load_weights('dbert_model.h5')"
      ],
      "execution_count": null,
      "outputs": [
        {
          "output_type": "stream",
          "text": [
            "WARNING:tensorflow:The parameters `output_attentions`, `output_hidden_states` and `use_cache` cannot be updated when calling a model.They have to be set to True/False in the config object (i.e.: `config=XConfig.from_pretrained('name', output_attentions=True)`).\n",
            "WARNING:tensorflow:The parameter `return_dict` cannot be set in graph mode and will always be set to `True`.\n"
          ],
          "name": "stdout"
        }
      ]
    },
    {
      "cell_type": "code",
      "metadata": {
        "colab": {
          "base_uri": "https://localhost:8080/"
        },
        "id": "AVRCojDcYYnI",
        "outputId": "22de4534-0e11-4429-83cc-aeb898867991"
      },
      "source": [
        "nltk.download('stopwords')"
      ],
      "execution_count": null,
      "outputs": [
        {
          "output_type": "stream",
          "text": [
            "[nltk_data] Downloading package stopwords to /root/nltk_data...\n",
            "[nltk_data]   Package stopwords is already up-to-date!\n"
          ],
          "name": "stdout"
        },
        {
          "output_type": "execute_result",
          "data": {
            "text/plain": [
              "True"
            ]
          },
          "metadata": {
            "tags": []
          },
          "execution_count": 92
        }
      ]
    },
    {
      "cell_type": "code",
      "metadata": {
        "id": "yDjRKQOMYXJM"
      },
      "source": [
        "# Preprocessing and cleaning functions¶\n",
        "\n",
        "def unicode_to_ascii(s):\n",
        "    return ''.join(c for c in unicodedata.normalize('NFD', s) if unicodedata.category(c) != 'Mn')\n",
        "\n",
        "def clean_stopwords_shortwords(w):\n",
        "    stopwords_list=stopwords.words('english')\n",
        "    words = w.split() \n",
        "    clean_words = [word for word in words if (word not in stopwords_list) and len(word) > 2]\n",
        "    return \" \".join(clean_words) \n",
        "\n",
        "def preprocess_sentence(w):\n",
        "    w = unicode_to_ascii(w.lower().strip())\n",
        "    w = re.sub(r\"([?.!,¿])\", r\" \", w)\n",
        "    w = re.sub(r'[\" \"]+', \" \", w)\n",
        "    w = re.sub(r\"[^a-zA-Z?.!,¿]+\", \" \", w)\n",
        "    w=clean_stopwords_shortwords(w)\n",
        "    w=re.sub(r'@\\w+', '',w)\n",
        "    return w"
      ],
      "execution_count": null,
      "outputs": []
    },
    {
      "cell_type": "code",
      "metadata": {
        "id": "n2OTQ385XuR5"
      },
      "source": [
        "target_names = ['happiness', 'sadness', 'worry', 'uncertainty', 'neutral']"
      ],
      "execution_count": null,
      "outputs": []
    },
    {
      "cell_type": "code",
      "metadata": {
        "id": "Zvmz3uLTYBIC"
      },
      "source": [
        "def predict_sentiment(sent):\n",
        "  processed_sent = preprocess_sentence(sent)\n",
        "  # Prepare the model input\n",
        "  input_id=[]\n",
        "  attention_mask=[]\n",
        "\n",
        "  dbert_inps=dbert_tokenizer.encode_plus(processed_sent,add_special_tokens = True,max_length =max_len,pad_to_max_length = True,return_attention_mask = True,truncation=True)\n",
        "  input_id.append(dbert_inps['input_ids'])\n",
        "  attention_mask.append(dbert_inps['attention_mask'])\n",
        "\n",
        "  input_id=np.asarray(input_id)\n",
        "  attention_mask=np.array(attention_mask)\n",
        "\n",
        "  example_pred = trained_model.predict([input_id,attention_mask],batch_size=1)\n",
        "  example_pred_labels = example_pred.argmax(axis=1)\n",
        "\n",
        "  output = {\n",
        "      'original sentence': sent,\n",
        "      'processed sentence': processed_sent,\n",
        "      'predicted_label':target_names[example_pred_labels[0]],\n",
        "      'confidence_scores': [(target_names[i], example_pred[0][i]) for i in range(0, len(target_names))]\n",
        "      }\n",
        "  return output"
      ],
      "execution_count": null,
      "outputs": []
    },
    {
      "cell_type": "code",
      "metadata": {
        "colab": {
          "base_uri": "https://localhost:8080/"
        },
        "id": "sYykZ6jgYOwJ",
        "outputId": "d8ccc034-4d58-4cb4-b124-6fdf9f625724"
      },
      "source": [
        "df.iloc[0], df.iloc[0]['Text']"
      ],
      "execution_count": null,
      "outputs": [
        {
          "output_type": "execute_result",
          "data": {
            "text/plain": [
              "(Text        Excellent, happy to help! If you don't mind, c...\n",
              " Label                                               happiness\n",
              " Comments                                                  NaN\n",
              " Name: 0, dtype: object,\n",
              " \"Excellent, happy to help! If you don't mind, can you accept my answer?\")"
            ]
          },
          "metadata": {
            "tags": []
          },
          "execution_count": 96
        }
      ]
    },
    {
      "cell_type": "code",
      "metadata": {
        "colab": {
          "base_uri": "https://localhost:8080/"
        },
        "id": "0alENTs8YNIp",
        "outputId": "912bf448-de4d-4f3c-8cfe-37a66023a446"
      },
      "source": [
        "predict_sentiment(df.iloc[35]['Text'])"
      ],
      "execution_count": null,
      "outputs": [
        {
          "output_type": "stream",
          "text": [
            "/usr/local/lib/python3.7/dist-packages/transformers/tokenization_utils_base.py:2155: FutureWarning: The `pad_to_max_length` argument is deprecated and will be removed in a future version, use `padding=True` or `padding='longest'` to pad to the longest sequence in the batch, or use `padding='max_length'` to pad to a max length. In this case, you can give a specific length with `max_length` (e.g. `max_length=45`) or leave max_length to None to pad to the maximal input size of the model (e.g. 512 for Bert).\n",
            "  FutureWarning,\n"
          ],
          "name": "stderr"
        },
        {
          "output_type": "execute_result",
          "data": {
            "text/plain": [
              "{'confidence_scores': [('happiness', 0.0030835222),\n",
              "  ('sadness', 0.011090083),\n",
              "  ('worry', 0.0077708825),\n",
              "  ('uncertainty', 0.9749171),\n",
              "  ('neutral', 0.0031383953)],\n",
              " 'original sentence': \"I have a big problem. I've created site, using jQuery, but it runs very slowly. On mobile phones it's terrible! And I don't know, what's wrong... Someone can help me? Links doesn't works yet, because I want use CMS on this layout, but before I want to little optimise these scripts. Here's test site: And here are the scripts:\",\n",
              " 'predicted_label': 'uncertainty',\n",
              " 'processed sentence': 'big problem created site using jquery runs slowly mobile phones terrible know wrong someone help links works yet want use cms layout want little optimise scripts test site scripts'}"
            ]
          },
          "metadata": {
            "tags": []
          },
          "execution_count": 119
        }
      ]
    },
    {
      "cell_type": "code",
      "metadata": {
        "id": "T_XUVDqkYgYh"
      },
      "source": [
        ""
      ],
      "execution_count": null,
      "outputs": []
    },
    {
      "cell_type": "code",
      "metadata": {
        "colab": {
          "base_uri": "https://localhost:8080/"
        },
        "id": "_CXi_RKQYv2g",
        "outputId": "c8180624-7529-46e1-ec5a-20ebbb256013"
      },
      "source": [
        "df['Predicted_label'] = df['Text'].map(lambda s: predict_sentiment(s))"
      ],
      "execution_count": null,
      "outputs": [
        {
          "output_type": "stream",
          "text": [
            "/usr/local/lib/python3.7/dist-packages/transformers/tokenization_utils_base.py:2155: FutureWarning: The `pad_to_max_length` argument is deprecated and will be removed in a future version, use `padding=True` or `padding='longest'` to pad to the longest sequence in the batch, or use `padding='max_length'` to pad to a max length. In this case, you can give a specific length with `max_length` (e.g. `max_length=45`) or leave max_length to None to pad to the maximal input size of the model (e.g. 512 for Bert).\n",
            "  FutureWarning,\n"
          ],
          "name": "stderr"
        }
      ]
    },
    {
      "cell_type": "code",
      "metadata": {
        "colab": {
          "base_uri": "https://localhost:8080/",
          "height": 197
        },
        "id": "eE_z6BqobW_t",
        "outputId": "7013e2fc-d7d2-43ed-d938-20870605f5a2"
      },
      "source": [
        "df.head()"
      ],
      "execution_count": null,
      "outputs": [
        {
          "output_type": "execute_result",
          "data": {
            "text/html": [
              "<div>\n",
              "<style scoped>\n",
              "    .dataframe tbody tr th:only-of-type {\n",
              "        vertical-align: middle;\n",
              "    }\n",
              "\n",
              "    .dataframe tbody tr th {\n",
              "        vertical-align: top;\n",
              "    }\n",
              "\n",
              "    .dataframe thead th {\n",
              "        text-align: right;\n",
              "    }\n",
              "</style>\n",
              "<table border=\"1\" class=\"dataframe\">\n",
              "  <thead>\n",
              "    <tr style=\"text-align: right;\">\n",
              "      <th></th>\n",
              "      <th>Text</th>\n",
              "      <th>Label</th>\n",
              "      <th>Comments</th>\n",
              "      <th>Predicted_label</th>\n",
              "    </tr>\n",
              "  </thead>\n",
              "  <tbody>\n",
              "    <tr>\n",
              "      <th>0</th>\n",
              "      <td>Excellent, happy to help! If you don't mind, c...</td>\n",
              "      <td>happiness</td>\n",
              "      <td>NaN</td>\n",
              "      <td>{'original sentence': 'Excellent, happy to hel...</td>\n",
              "    </tr>\n",
              "    <tr>\n",
              "      <th>1</th>\n",
              "      <td>@DrabJay: excellent suggestion! Code changed. :-)</td>\n",
              "      <td>happiness</td>\n",
              "      <td>NaN</td>\n",
              "      <td>{'original sentence': '@DrabJay: excellent sug...</td>\n",
              "    </tr>\n",
              "    <tr>\n",
              "      <th>2</th>\n",
              "      <td>I didn't select an answer because even though ...</td>\n",
              "      <td>neutral</td>\n",
              "      <td>NaN</td>\n",
              "      <td>{'original sentence': 'I didn't select an answ...</td>\n",
              "    </tr>\n",
              "    <tr>\n",
              "      <th>3</th>\n",
              "      <td>I have attached below</td>\n",
              "      <td>neutral</td>\n",
              "      <td>NaN</td>\n",
              "      <td>{'original sentence': 'I have attached below',...</td>\n",
              "    </tr>\n",
              "    <tr>\n",
              "      <th>4</th>\n",
              "      <td>Excellent! Thank you for your perseverence :)</td>\n",
              "      <td>happiness</td>\n",
              "      <td>NaN</td>\n",
              "      <td>{'original sentence': 'Excellent! Thank you fo...</td>\n",
              "    </tr>\n",
              "  </tbody>\n",
              "</table>\n",
              "</div>"
            ],
            "text/plain": [
              "                                                Text  ...                                    Predicted_label\n",
              "0  Excellent, happy to help! If you don't mind, c...  ...  {'original sentence': 'Excellent, happy to hel...\n",
              "1  @DrabJay: excellent suggestion! Code changed. :-)  ...  {'original sentence': '@DrabJay: excellent sug...\n",
              "2  I didn't select an answer because even though ...  ...  {'original sentence': 'I didn't select an answ...\n",
              "3                              I have attached below  ...  {'original sentence': 'I have attached below',...\n",
              "4      Excellent! Thank you for your perseverence :)  ...  {'original sentence': 'Excellent! Thank you fo...\n",
              "\n",
              "[5 rows x 4 columns]"
            ]
          },
          "metadata": {
            "tags": []
          },
          "execution_count": 99
        }
      ]
    },
    {
      "cell_type": "code",
      "metadata": {
        "id": "ugCikXzBcGm7"
      },
      "source": [
        "df['Predicted_target'] = df['Predicted_label'].map(lambda s: s['predicted_label'])"
      ],
      "execution_count": null,
      "outputs": []
    },
    {
      "cell_type": "code",
      "metadata": {
        "colab": {
          "base_uri": "https://localhost:8080/",
          "height": 197
        },
        "id": "1Lrjn4EPcXkS",
        "outputId": "15fba624-b73e-46bf-c4ea-32945bddf396"
      },
      "source": [
        "df.head()"
      ],
      "execution_count": null,
      "outputs": [
        {
          "output_type": "execute_result",
          "data": {
            "text/html": [
              "<div>\n",
              "<style scoped>\n",
              "    .dataframe tbody tr th:only-of-type {\n",
              "        vertical-align: middle;\n",
              "    }\n",
              "\n",
              "    .dataframe tbody tr th {\n",
              "        vertical-align: top;\n",
              "    }\n",
              "\n",
              "    .dataframe thead th {\n",
              "        text-align: right;\n",
              "    }\n",
              "</style>\n",
              "<table border=\"1\" class=\"dataframe\">\n",
              "  <thead>\n",
              "    <tr style=\"text-align: right;\">\n",
              "      <th></th>\n",
              "      <th>Text</th>\n",
              "      <th>Label</th>\n",
              "      <th>Comments</th>\n",
              "      <th>Predicted_label</th>\n",
              "      <th>Predicted_target</th>\n",
              "    </tr>\n",
              "  </thead>\n",
              "  <tbody>\n",
              "    <tr>\n",
              "      <th>0</th>\n",
              "      <td>Excellent, happy to help! If you don't mind, c...</td>\n",
              "      <td>happiness</td>\n",
              "      <td>NaN</td>\n",
              "      <td>{'original sentence': 'Excellent, happy to hel...</td>\n",
              "      <td>happiness</td>\n",
              "    </tr>\n",
              "    <tr>\n",
              "      <th>1</th>\n",
              "      <td>@DrabJay: excellent suggestion! Code changed. :-)</td>\n",
              "      <td>happiness</td>\n",
              "      <td>NaN</td>\n",
              "      <td>{'original sentence': '@DrabJay: excellent sug...</td>\n",
              "      <td>happiness</td>\n",
              "    </tr>\n",
              "    <tr>\n",
              "      <th>2</th>\n",
              "      <td>I didn't select an answer because even though ...</td>\n",
              "      <td>neutral</td>\n",
              "      <td>NaN</td>\n",
              "      <td>{'original sentence': 'I didn't select an answ...</td>\n",
              "      <td>neutral</td>\n",
              "    </tr>\n",
              "    <tr>\n",
              "      <th>3</th>\n",
              "      <td>I have attached below</td>\n",
              "      <td>neutral</td>\n",
              "      <td>NaN</td>\n",
              "      <td>{'original sentence': 'I have attached below',...</td>\n",
              "      <td>neutral</td>\n",
              "    </tr>\n",
              "    <tr>\n",
              "      <th>4</th>\n",
              "      <td>Excellent! Thank you for your perseverence :)</td>\n",
              "      <td>happiness</td>\n",
              "      <td>NaN</td>\n",
              "      <td>{'original sentence': 'Excellent! Thank you fo...</td>\n",
              "      <td>happiness</td>\n",
              "    </tr>\n",
              "  </tbody>\n",
              "</table>\n",
              "</div>"
            ],
            "text/plain": [
              "                                                Text  ... Predicted_target\n",
              "0  Excellent, happy to help! If you don't mind, c...  ...        happiness\n",
              "1  @DrabJay: excellent suggestion! Code changed. :-)  ...        happiness\n",
              "2  I didn't select an answer because even though ...  ...          neutral\n",
              "3                              I have attached below  ...          neutral\n",
              "4      Excellent! Thank you for your perseverence :)  ...        happiness\n",
              "\n",
              "[5 rows x 5 columns]"
            ]
          },
          "metadata": {
            "tags": []
          },
          "execution_count": 101
        }
      ]
    },
    {
      "cell_type": "code",
      "metadata": {
        "id": "Hd81p335cfsi"
      },
      "source": [
        "df['Predicted_target_vector'] = df['Predicted_target'].map(lambda s: [int(x==s) for x in target_names])"
      ],
      "execution_count": null,
      "outputs": []
    },
    {
      "cell_type": "code",
      "metadata": {
        "id": "V9HUdZkudDQb"
      },
      "source": [
        "df['Label_vector'] = df['Label'].map(lambda s: [int(x==s) for x in target_names])"
      ],
      "execution_count": null,
      "outputs": []
    },
    {
      "cell_type": "code",
      "metadata": {
        "colab": {
          "base_uri": "https://localhost:8080/",
          "height": 514
        },
        "id": "JefWqF8DdBBt",
        "outputId": "def49c76-6e5d-47d9-d8eb-8f153fa9979f"
      },
      "source": [
        "df.iloc[140:150]"
      ],
      "execution_count": null,
      "outputs": [
        {
          "output_type": "execute_result",
          "data": {
            "text/html": [
              "<div>\n",
              "<style scoped>\n",
              "    .dataframe tbody tr th:only-of-type {\n",
              "        vertical-align: middle;\n",
              "    }\n",
              "\n",
              "    .dataframe tbody tr th {\n",
              "        vertical-align: top;\n",
              "    }\n",
              "\n",
              "    .dataframe thead th {\n",
              "        text-align: right;\n",
              "    }\n",
              "</style>\n",
              "<table border=\"1\" class=\"dataframe\">\n",
              "  <thead>\n",
              "    <tr style=\"text-align: right;\">\n",
              "      <th></th>\n",
              "      <th>Text</th>\n",
              "      <th>Label</th>\n",
              "      <th>Comments</th>\n",
              "      <th>Predicted_label</th>\n",
              "      <th>Predicted_target</th>\n",
              "      <th>Predicted_target_vector</th>\n",
              "      <th>Label_vector</th>\n",
              "    </tr>\n",
              "  </thead>\n",
              "  <tbody>\n",
              "    <tr>\n",
              "      <th>140</th>\n",
              "      <td>As TraumaPony said. Simply load the main game ...</td>\n",
              "      <td>neutral</td>\n",
              "      <td>NaN</td>\n",
              "      <td>{'original sentence': 'As TraumaPony said. Sim...</td>\n",
              "      <td>worry</td>\n",
              "      <td>[0, 0, 1, 0, 0]</td>\n",
              "      <td>[0, 0, 0, 0, 1]</td>\n",
              "    </tr>\n",
              "    <tr>\n",
              "      <th>141</th>\n",
              "      <td>Congratulations on the new job! Relax and keep...</td>\n",
              "      <td>happiness</td>\n",
              "      <td>NaN</td>\n",
              "      <td>{'original sentence': 'Congratulations on the ...</td>\n",
              "      <td>happiness</td>\n",
              "      <td>[1, 0, 0, 0, 0]</td>\n",
              "      <td>[1, 0, 0, 0, 0]</td>\n",
              "    </tr>\n",
              "    <tr>\n",
              "      <th>142</th>\n",
              "      <td>Maybe it helps someone else: you can use www.b...</td>\n",
              "      <td>uncertainty</td>\n",
              "      <td>NaN</td>\n",
              "      <td>{'original sentence': 'Maybe it helps someone ...</td>\n",
              "      <td>uncertainty</td>\n",
              "      <td>[0, 0, 0, 1, 0]</td>\n",
              "      <td>[0, 0, 0, 1, 0]</td>\n",
              "    </tr>\n",
              "    <tr>\n",
              "      <th>143</th>\n",
              "      <td>The solution is crying out for the MSMQ soluti...</td>\n",
              "      <td>sadness</td>\n",
              "      <td>NaN</td>\n",
              "      <td>{'original sentence': 'The solution is crying ...</td>\n",
              "      <td>uncertainty</td>\n",
              "      <td>[0, 0, 0, 1, 0]</td>\n",
              "      <td>[0, 1, 0, 0, 0]</td>\n",
              "    </tr>\n",
              "    <tr>\n",
              "      <th>144</th>\n",
              "      <td>Sorting the hashes is also a possibility that ...</td>\n",
              "      <td>uncertainty</td>\n",
              "      <td>NaN</td>\n",
              "      <td>{'original sentence': 'Sorting the hashes is a...</td>\n",
              "      <td>uncertainty</td>\n",
              "      <td>[0, 0, 0, 1, 0]</td>\n",
              "      <td>[0, 0, 0, 1, 0]</td>\n",
              "    </tr>\n",
              "    <tr>\n",
              "      <th>145</th>\n",
              "      <td>AT what stage are you populating the ListBox? ...</td>\n",
              "      <td>worry</td>\n",
              "      <td>NaN</td>\n",
              "      <td>{'original sentence': 'AT what stage are you p...</td>\n",
              "      <td>worry</td>\n",
              "      <td>[0, 0, 1, 0, 0]</td>\n",
              "      <td>[0, 0, 1, 0, 0]</td>\n",
              "    </tr>\n",
              "    <tr>\n",
              "      <th>146</th>\n",
              "      <td>We ended up using a Java applet. It was a nigh...</td>\n",
              "      <td>sadness</td>\n",
              "      <td>NaN</td>\n",
              "      <td>{'original sentence': 'We ended up using a Jav...</td>\n",
              "      <td>uncertainty</td>\n",
              "      <td>[0, 0, 0, 1, 0]</td>\n",
              "      <td>[0, 1, 0, 0, 0]</td>\n",
              "    </tr>\n",
              "    <tr>\n",
              "      <th>147</th>\n",
              "      <td>As an aside, if you can use a pull parser and ...</td>\n",
              "      <td>worry</td>\n",
              "      <td>NaN</td>\n",
              "      <td>{'original sentence': 'As an aside, if you can...</td>\n",
              "      <td>uncertainty</td>\n",
              "      <td>[0, 0, 0, 1, 0]</td>\n",
              "      <td>[0, 0, 1, 0, 0]</td>\n",
              "    </tr>\n",
              "    <tr>\n",
              "      <th>148</th>\n",
              "      <td>This is a solution to a local problem, not an ...</td>\n",
              "      <td>uncertainty</td>\n",
              "      <td>NaN</td>\n",
              "      <td>{'original sentence': 'This is a solution to a...</td>\n",
              "      <td>uncertainty</td>\n",
              "      <td>[0, 0, 0, 1, 0]</td>\n",
              "      <td>[0, 0, 0, 1, 0]</td>\n",
              "    </tr>\n",
              "    <tr>\n",
              "      <th>149</th>\n",
              "      <td>I am planning to use community sever for one o...</td>\n",
              "      <td>worry</td>\n",
              "      <td>NaN</td>\n",
              "      <td>{'original sentence': 'I am planning to use co...</td>\n",
              "      <td>uncertainty</td>\n",
              "      <td>[0, 0, 0, 1, 0]</td>\n",
              "      <td>[0, 0, 1, 0, 0]</td>\n",
              "    </tr>\n",
              "  </tbody>\n",
              "</table>\n",
              "</div>"
            ],
            "text/plain": [
              "                                                  Text  ...     Label_vector\n",
              "140  As TraumaPony said. Simply load the main game ...  ...  [0, 0, 0, 0, 1]\n",
              "141  Congratulations on the new job! Relax and keep...  ...  [1, 0, 0, 0, 0]\n",
              "142  Maybe it helps someone else: you can use www.b...  ...  [0, 0, 0, 1, 0]\n",
              "143  The solution is crying out for the MSMQ soluti...  ...  [0, 1, 0, 0, 0]\n",
              "144  Sorting the hashes is also a possibility that ...  ...  [0, 0, 0, 1, 0]\n",
              "145  AT what stage are you populating the ListBox? ...  ...  [0, 0, 1, 0, 0]\n",
              "146  We ended up using a Java applet. It was a nigh...  ...  [0, 1, 0, 0, 0]\n",
              "147  As an aside, if you can use a pull parser and ...  ...  [0, 0, 1, 0, 0]\n",
              "148  This is a solution to a local problem, not an ...  ...  [0, 0, 0, 1, 0]\n",
              "149  I am planning to use community sever for one o...  ...  [0, 0, 1, 0, 0]\n",
              "\n",
              "[10 rows x 7 columns]"
            ]
          },
          "metadata": {
            "tags": []
          },
          "execution_count": 104
        }
      ]
    },
    {
      "cell_type": "code",
      "metadata": {
        "colab": {
          "base_uri": "https://localhost:8080/"
        },
        "id": "ZD8isLpcpsek",
        "outputId": "15f1947c-79be-4110-bb8d-cea84abc54e1"
      },
      "source": [
        "df.iloc[19]['Predicted_label']"
      ],
      "execution_count": null,
      "outputs": [
        {
          "output_type": "execute_result",
          "data": {
            "text/plain": [
              "{'confidence_scores': [('happiness', 0.0015935191),\n",
              "  ('sadness', 0.0022074578),\n",
              "  ('worry', 0.0013595837),\n",
              "  ('uncertainty', 0.9929853),\n",
              "  ('neutral', 0.0018540769)],\n",
              " 'original sentence': 'Out of all that pseudocode, the only thing that really worries me is \"extracts code samples from file\". Reading files from a directory is trivial, saving a file is trivial. Regardless of the test framework I\\'d spend most of my time focusing on the parsing bit. For direct testing, I\\'d embed the snippets directly into the test case: Ah, I see another change I subtly made while writing the test: my ExamplesToCode.parse() returns an Array (or other iterable container), so that it can be tested apart from the iteration itself.',\n",
              " 'predicted_label': 'uncertainty',\n",
              " 'processed sentence': 'pseudocode thing really worries extracts code samples file reading files directory trivial saving file trivial regardless test framework spend time focusing parsing bit direct testing embed snippets directly test case see another change subtly made writing test examplestocode parse returns array iterable container tested apart iteration'}"
            ]
          },
          "metadata": {
            "tags": []
          },
          "execution_count": 121
        }
      ]
    },
    {
      "cell_type": "code",
      "metadata": {
        "colab": {
          "base_uri": "https://localhost:8080/"
        },
        "id": "GpG9WcsGes5j",
        "outputId": "caf6d63b-d41e-43df-a95e-8e09a62ed781"
      },
      "source": [
        "print(classification_report(df['Label'],df['Predicted_target'],target_names=target_names))"
      ],
      "execution_count": null,
      "outputs": [
        {
          "output_type": "stream",
          "text": [
            "              precision    recall  f1-score   support\n",
            "\n",
            "   happiness       0.97      0.71      0.82        55\n",
            "     sadness       0.29      0.39      0.33        41\n",
            "       worry       0.81      0.32      0.46        41\n",
            " uncertainty       0.56      0.77      0.65        57\n",
            "     neutral       0.24      0.28      0.26        32\n",
            "\n",
            "    accuracy                           0.54       226\n",
            "   macro avg       0.58      0.49      0.50       226\n",
            "weighted avg       0.61      0.54      0.54       226\n",
            "\n"
          ],
          "name": "stdout"
        }
      ]
    },
    {
      "cell_type": "code",
      "metadata": {
        "colab": {
          "base_uri": "https://localhost:8080/"
        },
        "id": "FzcnSSf1f4qI",
        "outputId": "a676169c-9065-4375-8745-2ce4449c0a08"
      },
      "source": [
        "predict_sentiment('Hey, I\\'m new to this site. I think it is great! Okay, here\\'s the deal. I just downloaded Smule Ocarina. I was wondering how they made it so you can upload a song to the cloud. I might have an app idea that might incorporate this. How would I do this? What would I need?')"
      ],
      "execution_count": null,
      "outputs": [
        {
          "output_type": "stream",
          "text": [
            "/usr/local/lib/python3.7/dist-packages/transformers/tokenization_utils_base.py:2155: FutureWarning: The `pad_to_max_length` argument is deprecated and will be removed in a future version, use `padding=True` or `padding='longest'` to pad to the longest sequence in the batch, or use `padding='max_length'` to pad to a max length. In this case, you can give a specific length with `max_length` (e.g. `max_length=45`) or leave max_length to None to pad to the maximal input size of the model (e.g. 512 for Bert).\n",
            "  FutureWarning,\n"
          ],
          "name": "stderr"
        },
        {
          "output_type": "execute_result",
          "data": {
            "text/plain": [
              "{'confidence_scores': [('happiness', 0.008777087),\n",
              "  ('sadness', 0.01174387),\n",
              "  ('worry', 0.9754412),\n",
              "  ('uncertainty', 0.0022863264),\n",
              "  ('neutral', 0.0017515811)],\n",
              " 'original sentence': \"Hey, I'm new to this site. I think it is great! Okay, here's the deal. I just downloaded Smule Ocarina. I was wondering how they made it so you can upload a song to the cloud. I might have an app idea that might incorporate this. How would I do this? What would I need?\",\n",
              " 'predicted_label': 'worry',\n",
              " 'processed sentence': 'hey new site think great okay deal downloaded smule ocarina wondering made upload song cloud might app idea might incorporate would would need'}"
            ]
          },
          "metadata": {
            "tags": []
          },
          "execution_count": 107
        }
      ]
    },
    {
      "cell_type": "code",
      "metadata": {
        "id": "RMPijUSBiEMB",
        "colab": {
          "base_uri": "https://localhost:8080/",
          "height": 1000
        },
        "outputId": "b717730e-fdbf-49cb-9cdd-620f5c77e37c"
      },
      "source": [
        "df.map(lambda s: s['Predicted_label'])"
      ],
      "execution_count": null,
      "outputs": [
        {
          "output_type": "execute_result",
          "data": {
            "text/html": [
              "<div>\n",
              "<style scoped>\n",
              "    .dataframe tbody tr th:only-of-type {\n",
              "        vertical-align: middle;\n",
              "    }\n",
              "\n",
              "    .dataframe tbody tr th {\n",
              "        vertical-align: top;\n",
              "    }\n",
              "\n",
              "    .dataframe thead th {\n",
              "        text-align: right;\n",
              "    }\n",
              "</style>\n",
              "<table border=\"1\" class=\"dataframe\">\n",
              "  <thead>\n",
              "    <tr style=\"text-align: right;\">\n",
              "      <th></th>\n",
              "      <th>Text</th>\n",
              "      <th>Label</th>\n",
              "      <th>Comments</th>\n",
              "      <th>Predicted_label</th>\n",
              "      <th>Predicted_target</th>\n",
              "      <th>Predicted_target_vector</th>\n",
              "      <th>Label_vector</th>\n",
              "    </tr>\n",
              "  </thead>\n",
              "  <tbody>\n",
              "    <tr>\n",
              "      <th>19</th>\n",
              "      <td>Out of all that pseudocode, the only thing tha...</td>\n",
              "      <td>worry</td>\n",
              "      <td>NaN</td>\n",
              "      <td>{'original sentence': 'Out of all that pseudoc...</td>\n",
              "      <td>uncertainty</td>\n",
              "      <td>[0, 0, 0, 1, 0]</td>\n",
              "      <td>[0, 0, 1, 0, 0]</td>\n",
              "    </tr>\n",
              "    <tr>\n",
              "      <th>46</th>\n",
              "      <td>Triggering quirks mode is a terrible, terrible...</td>\n",
              "      <td>sadness</td>\n",
              "      <td>NaN</td>\n",
              "      <td>{'original sentence': 'Triggering quirks mode ...</td>\n",
              "      <td>uncertainty</td>\n",
              "      <td>[0, 0, 0, 1, 0]</td>\n",
              "      <td>[0, 1, 0, 0, 0]</td>\n",
              "    </tr>\n",
              "    <tr>\n",
              "      <th>50</th>\n",
              "      <td>That's the simplest query to return the result...</td>\n",
              "      <td>neutral</td>\n",
              "      <td>NaN</td>\n",
              "      <td>{'original sentence': 'That's the simplest que...</td>\n",
              "      <td>uncertainty</td>\n",
              "      <td>[0, 0, 0, 1, 0]</td>\n",
              "      <td>[0, 0, 0, 0, 1]</td>\n",
              "    </tr>\n",
              "    <tr>\n",
              "      <th>59</th>\n",
              "      <td>External sheet Link not applicable, private be...</td>\n",
              "      <td>neutral</td>\n",
              "      <td>NaN</td>\n",
              "      <td>{'original sentence': 'External sheet Link not...</td>\n",
              "      <td>uncertainty</td>\n",
              "      <td>[0, 0, 0, 1, 0]</td>\n",
              "      <td>[0, 0, 0, 0, 1]</td>\n",
              "    </tr>\n",
              "    <tr>\n",
              "      <th>63</th>\n",
              "      <td>You need to implement the interface so that wi...</td>\n",
              "      <td>neutral</td>\n",
              "      <td>NaN</td>\n",
              "      <td>{'original sentence': 'You need to implement t...</td>\n",
              "      <td>uncertainty</td>\n",
              "      <td>[0, 0, 0, 1, 0]</td>\n",
              "      <td>[0, 0, 0, 0, 1]</td>\n",
              "    </tr>\n",
              "    <tr>\n",
              "      <th>79</th>\n",
              "      <td>You need to make the following changes to your...</td>\n",
              "      <td>worry</td>\n",
              "      <td>NaN</td>\n",
              "      <td>{'original sentence': 'You need to make the fo...</td>\n",
              "      <td>uncertainty</td>\n",
              "      <td>[0, 0, 0, 1, 0]</td>\n",
              "      <td>[0, 0, 1, 0, 0]</td>\n",
              "    </tr>\n",
              "    <tr>\n",
              "      <th>82</th>\n",
              "      <td>Now I think it is not possible in c++ (without...</td>\n",
              "      <td>sadness</td>\n",
              "      <td>NaN</td>\n",
              "      <td>{'original sentence': 'Now I think it is not p...</td>\n",
              "      <td>uncertainty</td>\n",
              "      <td>[0, 0, 0, 1, 0]</td>\n",
              "      <td>[0, 1, 0, 0, 0]</td>\n",
              "    </tr>\n",
              "    <tr>\n",
              "      <th>110</th>\n",
              "      <td>I'm not good at programming and my trying to o...</td>\n",
              "      <td>worry</td>\n",
              "      <td>NaN</td>\n",
              "      <td>{'original sentence': 'I'm not good at program...</td>\n",
              "      <td>uncertainty</td>\n",
              "      <td>[0, 0, 0, 1, 0]</td>\n",
              "      <td>[0, 0, 1, 0, 0]</td>\n",
              "    </tr>\n",
              "    <tr>\n",
              "      <th>111</th>\n",
              "      <td>Would use double.TryParse, it has performance ...</td>\n",
              "      <td>neutral</td>\n",
              "      <td>NaN</td>\n",
              "      <td>{'original sentence': 'Would use double.TryPar...</td>\n",
              "      <td>uncertainty</td>\n",
              "      <td>[0, 0, 0, 1, 0]</td>\n",
              "      <td>[0, 0, 0, 0, 1]</td>\n",
              "    </tr>\n",
              "    <tr>\n",
              "      <th>114</th>\n",
              "      <td>FlexeLint is a commercial product which has no...</td>\n",
              "      <td>neutral</td>\n",
              "      <td>NaN</td>\n",
              "      <td>{'original sentence': 'FlexeLint is a commerci...</td>\n",
              "      <td>uncertainty</td>\n",
              "      <td>[0, 0, 0, 1, 0]</td>\n",
              "      <td>[0, 0, 0, 0, 1]</td>\n",
              "    </tr>\n",
              "    <tr>\n",
              "      <th>115</th>\n",
              "      <td>if the 2 structures variable are initialied wi...</td>\n",
              "      <td>neutral</td>\n",
              "      <td>NaN</td>\n",
              "      <td>{'original sentence': 'if the 2 structures var...</td>\n",
              "      <td>uncertainty</td>\n",
              "      <td>[0, 0, 0, 1, 0]</td>\n",
              "      <td>[0, 0, 0, 0, 1]</td>\n",
              "    </tr>\n",
              "    <tr>\n",
              "      <th>116</th>\n",
              "      <td>I need to get the current user too, but can't ...</td>\n",
              "      <td>neutral</td>\n",
              "      <td>NaN</td>\n",
              "      <td>{'original sentence': 'I need to get the curre...</td>\n",
              "      <td>uncertainty</td>\n",
              "      <td>[0, 0, 0, 1, 0]</td>\n",
              "      <td>[0, 0, 0, 0, 1]</td>\n",
              "    </tr>\n",
              "    <tr>\n",
              "      <th>117</th>\n",
              "      <td>Why do you need to have the encryption of the ...</td>\n",
              "      <td>neutral</td>\n",
              "      <td>NaN</td>\n",
              "      <td>{'original sentence': 'Why do you need to have...</td>\n",
              "      <td>uncertainty</td>\n",
              "      <td>[0, 0, 0, 1, 0]</td>\n",
              "      <td>[0, 0, 0, 0, 1]</td>\n",
              "    </tr>\n",
              "    <tr>\n",
              "      <th>122</th>\n",
              "      <td>Note you can use memcmp() on non static stuctu...</td>\n",
              "      <td>neutral</td>\n",
              "      <td>NaN</td>\n",
              "      <td>{'original sentence': 'Note you can use memcmp...</td>\n",
              "      <td>uncertainty</td>\n",
              "      <td>[0, 0, 0, 1, 0]</td>\n",
              "      <td>[0, 0, 0, 0, 1]</td>\n",
              "    </tr>\n",
              "    <tr>\n",
              "      <th>128</th>\n",
              "      <td>If you are not forced to use a particular comp...</td>\n",
              "      <td>neutral</td>\n",
              "      <td>NaN</td>\n",
              "      <td>{'original sentence': 'If you are not forced t...</td>\n",
              "      <td>uncertainty</td>\n",
              "      <td>[0, 0, 0, 1, 0]</td>\n",
              "      <td>[0, 0, 0, 0, 1]</td>\n",
              "    </tr>\n",
              "    <tr>\n",
              "      <th>130</th>\n",
              "      <td>Matt - can you revue the accepted answer. You ...</td>\n",
              "      <td>worry</td>\n",
              "      <td>NaN</td>\n",
              "      <td>{'original sentence': 'Matt - can you revue th...</td>\n",
              "      <td>uncertainty</td>\n",
              "      <td>[0, 0, 0, 1, 0]</td>\n",
              "      <td>[0, 0, 1, 0, 0]</td>\n",
              "    </tr>\n",
              "    <tr>\n",
              "      <th>135</th>\n",
              "      <td>I'm working on a webservice + AJAX interface, ...</td>\n",
              "      <td>worry</td>\n",
              "      <td>NaN</td>\n",
              "      <td>{'original sentence': 'I'm working on a webser...</td>\n",
              "      <td>uncertainty</td>\n",
              "      <td>[0, 0, 0, 1, 0]</td>\n",
              "      <td>[0, 0, 1, 0, 0]</td>\n",
              "    </tr>\n",
              "    <tr>\n",
              "      <th>136</th>\n",
              "      <td>Unfortunately if you want to make this an open...</td>\n",
              "      <td>sadness</td>\n",
              "      <td>NaN</td>\n",
              "      <td>{'original sentence': 'Unfortunately if you wa...</td>\n",
              "      <td>uncertainty</td>\n",
              "      <td>[0, 0, 0, 1, 0]</td>\n",
              "      <td>[0, 1, 0, 0, 0]</td>\n",
              "    </tr>\n",
              "    <tr>\n",
              "      <th>138</th>\n",
              "      <td>in our continuous integration setup we use SVN...</td>\n",
              "      <td>neutral</td>\n",
              "      <td>NaN</td>\n",
              "      <td>{'original sentence': 'in our continuous integ...</td>\n",
              "      <td>uncertainty</td>\n",
              "      <td>[0, 0, 0, 1, 0]</td>\n",
              "      <td>[0, 0, 0, 0, 1]</td>\n",
              "    </tr>\n",
              "    <tr>\n",
              "      <th>139</th>\n",
              "      <td>I'm afraid it can't be done, the psudo-class s...</td>\n",
              "      <td>worry</td>\n",
              "      <td>NaN</td>\n",
              "      <td>{'original sentence': 'I'm afraid it can't be ...</td>\n",
              "      <td>uncertainty</td>\n",
              "      <td>[0, 0, 0, 1, 0]</td>\n",
              "      <td>[0, 0, 1, 0, 0]</td>\n",
              "    </tr>\n",
              "    <tr>\n",
              "      <th>143</th>\n",
              "      <td>The solution is crying out for the MSMQ soluti...</td>\n",
              "      <td>sadness</td>\n",
              "      <td>NaN</td>\n",
              "      <td>{'original sentence': 'The solution is crying ...</td>\n",
              "      <td>uncertainty</td>\n",
              "      <td>[0, 0, 0, 1, 0]</td>\n",
              "      <td>[0, 1, 0, 0, 0]</td>\n",
              "    </tr>\n",
              "    <tr>\n",
              "      <th>146</th>\n",
              "      <td>We ended up using a Java applet. It was a nigh...</td>\n",
              "      <td>sadness</td>\n",
              "      <td>NaN</td>\n",
              "      <td>{'original sentence': 'We ended up using a Jav...</td>\n",
              "      <td>uncertainty</td>\n",
              "      <td>[0, 0, 0, 1, 0]</td>\n",
              "      <td>[0, 1, 0, 0, 0]</td>\n",
              "    </tr>\n",
              "    <tr>\n",
              "      <th>147</th>\n",
              "      <td>As an aside, if you can use a pull parser and ...</td>\n",
              "      <td>worry</td>\n",
              "      <td>NaN</td>\n",
              "      <td>{'original sentence': 'As an aside, if you can...</td>\n",
              "      <td>uncertainty</td>\n",
              "      <td>[0, 0, 0, 1, 0]</td>\n",
              "      <td>[0, 0, 1, 0, 0]</td>\n",
              "    </tr>\n",
              "    <tr>\n",
              "      <th>149</th>\n",
              "      <td>I am planning to use community sever for one o...</td>\n",
              "      <td>worry</td>\n",
              "      <td>NaN</td>\n",
              "      <td>{'original sentence': 'I am planning to use co...</td>\n",
              "      <td>uncertainty</td>\n",
              "      <td>[0, 0, 0, 1, 0]</td>\n",
              "      <td>[0, 0, 1, 0, 0]</td>\n",
              "    </tr>\n",
              "    <tr>\n",
              "      <th>158</th>\n",
              "      <td>If I plan to use data caching do I have to wor...</td>\n",
              "      <td>worry</td>\n",
              "      <td>NaN</td>\n",
              "      <td>{'original sentence': 'If I plan to use data c...</td>\n",
              "      <td>uncertainty</td>\n",
              "      <td>[0, 0, 0, 1, 0]</td>\n",
              "      <td>[0, 0, 1, 0, 0]</td>\n",
              "    </tr>\n",
              "    <tr>\n",
              "      <th>163</th>\n",
              "      <td>I have a few classes which do nothing except i...</td>\n",
              "      <td>worry</td>\n",
              "      <td>NaN</td>\n",
              "      <td>{'original sentence': 'I have a few classes wh...</td>\n",
              "      <td>uncertainty</td>\n",
              "      <td>[0, 0, 0, 1, 0]</td>\n",
              "      <td>[0, 0, 1, 0, 0]</td>\n",
              "    </tr>\n",
              "    <tr>\n",
              "      <th>166</th>\n",
              "      <td>I am trying to build an application that can r...</td>\n",
              "      <td>worry</td>\n",
              "      <td>NaN</td>\n",
              "      <td>{'original sentence': 'I am trying to build an...</td>\n",
              "      <td>uncertainty</td>\n",
              "      <td>[0, 0, 0, 1, 0]</td>\n",
              "      <td>[0, 0, 1, 0, 0]</td>\n",
              "    </tr>\n",
              "    <tr>\n",
              "      <th>176</th>\n",
              "      <td>I'm apologize for saying this, but the code yo...</td>\n",
              "      <td>sadness</td>\n",
              "      <td>NaN</td>\n",
              "      <td>{'original sentence': 'I'm apologize for sayin...</td>\n",
              "      <td>uncertainty</td>\n",
              "      <td>[0, 0, 0, 1, 0]</td>\n",
              "      <td>[0, 1, 0, 0, 0]</td>\n",
              "    </tr>\n",
              "    <tr>\n",
              "      <th>177</th>\n",
              "      <td>My application has a frame that is loaded/navi...</td>\n",
              "      <td>worry</td>\n",
              "      <td>NaN</td>\n",
              "      <td>{'original sentence': 'My application has a fr...</td>\n",
              "      <td>uncertainty</td>\n",
              "      <td>[0, 0, 0, 1, 0]</td>\n",
              "      <td>[0, 0, 1, 0, 0]</td>\n",
              "    </tr>\n",
              "    <tr>\n",
              "      <th>188</th>\n",
              "      <td>One thing I forgot, make sure the dev database...</td>\n",
              "      <td>worry</td>\n",
              "      <td>NaN</td>\n",
              "      <td>{'original sentence': 'One thing I forgot, mak...</td>\n",
              "      <td>uncertainty</td>\n",
              "      <td>[0, 0, 0, 1, 0]</td>\n",
              "      <td>[0, 0, 1, 0, 0]</td>\n",
              "    </tr>\n",
              "    <tr>\n",
              "      <th>200</th>\n",
              "      <td>One workaround is to store the client address ...</td>\n",
              "      <td>neutral</td>\n",
              "      <td>NaN</td>\n",
              "      <td>{'original sentence': 'One workaround is to st...</td>\n",
              "      <td>uncertainty</td>\n",
              "      <td>[0, 0, 0, 1, 0]</td>\n",
              "      <td>[0, 0, 0, 0, 1]</td>\n",
              "    </tr>\n",
              "    <tr>\n",
              "      <th>208</th>\n",
              "      <td>From my own experience, Microsoft SQL Compact ...</td>\n",
              "      <td>sadness</td>\n",
              "      <td>NaN</td>\n",
              "      <td>{'original sentence': 'From my own experience,...</td>\n",
              "      <td>uncertainty</td>\n",
              "      <td>[0, 0, 0, 1, 0]</td>\n",
              "      <td>[0, 1, 0, 0, 0]</td>\n",
              "    </tr>\n",
              "    <tr>\n",
              "      <th>212</th>\n",
              "      <td>I find it comes back periodically. What's most...</td>\n",
              "      <td>sadness</td>\n",
              "      <td>NaN</td>\n",
              "      <td>{'original sentence': 'I find it comes back pe...</td>\n",
              "      <td>uncertainty</td>\n",
              "      <td>[0, 0, 0, 1, 0]</td>\n",
              "      <td>[0, 1, 0, 0, 0]</td>\n",
              "    </tr>\n",
              "    <tr>\n",
              "      <th>221</th>\n",
              "      <td>Is `PrefixFilter` also expanded into boolean c...</td>\n",
              "      <td>neutral</td>\n",
              "      <td>NaN</td>\n",
              "      <td>{'original sentence': 'Is `PrefixFilter` also ...</td>\n",
              "      <td>uncertainty</td>\n",
              "      <td>[0, 0, 0, 1, 0]</td>\n",
              "      <td>[0, 0, 0, 0, 1]</td>\n",
              "    </tr>\n",
              "  </tbody>\n",
              "</table>\n",
              "</div>"
            ],
            "text/plain": [
              "                                                  Text  ...     Label_vector\n",
              "19   Out of all that pseudocode, the only thing tha...  ...  [0, 0, 1, 0, 0]\n",
              "46   Triggering quirks mode is a terrible, terrible...  ...  [0, 1, 0, 0, 0]\n",
              "50   That's the simplest query to return the result...  ...  [0, 0, 0, 0, 1]\n",
              "59   External sheet Link not applicable, private be...  ...  [0, 0, 0, 0, 1]\n",
              "63   You need to implement the interface so that wi...  ...  [0, 0, 0, 0, 1]\n",
              "79   You need to make the following changes to your...  ...  [0, 0, 1, 0, 0]\n",
              "82   Now I think it is not possible in c++ (without...  ...  [0, 1, 0, 0, 0]\n",
              "110  I'm not good at programming and my trying to o...  ...  [0, 0, 1, 0, 0]\n",
              "111  Would use double.TryParse, it has performance ...  ...  [0, 0, 0, 0, 1]\n",
              "114  FlexeLint is a commercial product which has no...  ...  [0, 0, 0, 0, 1]\n",
              "115  if the 2 structures variable are initialied wi...  ...  [0, 0, 0, 0, 1]\n",
              "116  I need to get the current user too, but can't ...  ...  [0, 0, 0, 0, 1]\n",
              "117  Why do you need to have the encryption of the ...  ...  [0, 0, 0, 0, 1]\n",
              "122  Note you can use memcmp() on non static stuctu...  ...  [0, 0, 0, 0, 1]\n",
              "128  If you are not forced to use a particular comp...  ...  [0, 0, 0, 0, 1]\n",
              "130  Matt - can you revue the accepted answer. You ...  ...  [0, 0, 1, 0, 0]\n",
              "135  I'm working on a webservice + AJAX interface, ...  ...  [0, 0, 1, 0, 0]\n",
              "136  Unfortunately if you want to make this an open...  ...  [0, 1, 0, 0, 0]\n",
              "138  in our continuous integration setup we use SVN...  ...  [0, 0, 0, 0, 1]\n",
              "139  I'm afraid it can't be done, the psudo-class s...  ...  [0, 0, 1, 0, 0]\n",
              "143  The solution is crying out for the MSMQ soluti...  ...  [0, 1, 0, 0, 0]\n",
              "146  We ended up using a Java applet. It was a nigh...  ...  [0, 1, 0, 0, 0]\n",
              "147  As an aside, if you can use a pull parser and ...  ...  [0, 0, 1, 0, 0]\n",
              "149  I am planning to use community sever for one o...  ...  [0, 0, 1, 0, 0]\n",
              "158  If I plan to use data caching do I have to wor...  ...  [0, 0, 1, 0, 0]\n",
              "163  I have a few classes which do nothing except i...  ...  [0, 0, 1, 0, 0]\n",
              "166  I am trying to build an application that can r...  ...  [0, 0, 1, 0, 0]\n",
              "176  I'm apologize for saying this, but the code yo...  ...  [0, 1, 0, 0, 0]\n",
              "177  My application has a frame that is loaded/navi...  ...  [0, 0, 1, 0, 0]\n",
              "188  One thing I forgot, make sure the dev database...  ...  [0, 0, 1, 0, 0]\n",
              "200  One workaround is to store the client address ...  ...  [0, 0, 0, 0, 1]\n",
              "208  From my own experience, Microsoft SQL Compact ...  ...  [0, 1, 0, 0, 0]\n",
              "212  I find it comes back periodically. What's most...  ...  [0, 1, 0, 0, 0]\n",
              "221  Is `PrefixFilter` also expanded into boolean c...  ...  [0, 0, 0, 0, 1]\n",
              "\n",
              "[34 rows x 7 columns]"
            ]
          },
          "metadata": {
            "tags": []
          },
          "execution_count": 108
        }
      ]
    },
    {
      "cell_type": "code",
      "metadata": {
        "id": "8iAZfzy-YnWg"
      },
      "source": [
        ""
      ],
      "execution_count": null,
      "outputs": []
    }
  ]
}